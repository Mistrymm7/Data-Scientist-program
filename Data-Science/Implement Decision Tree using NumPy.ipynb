{
 "cells": [
  {
   "cell_type": "markdown",
   "metadata": {},
   "source": [
    "### Objective\n",
    "* Pseudocode of Decision Tree\n",
    "* Implemenet functionalities\n",
    "\n",
    "<hr>"
   ]
  },
  {
   "cell_type": "markdown",
   "metadata": {},
   "source": [
    "### PseudoCode of DecisionTree\n",
    "* Dicretization of features (categorical/continues) & identify possible decisions\n",
    "* During the training stage, we have loop though all possible decisions & identify the one with maximum information gain or max. gini gain.\n",
    "* Store the selected decisions in a tree based data structure for future prediction"
   ]
  },
  {
   "cell_type": "markdown",
   "metadata": {},
   "source": [
    "#### Discretization of features & identify possible decision"
   ]
  },
  {
   "cell_type": "code",
   "execution_count": 1,
   "metadata": {},
   "outputs": [],
   "source": [
    "import pandas as pd\n",
    "tennis_data = pd.read_csv('https://raw.githubusercontent.com/edyoda/data-science-complete-tutorial/master/Data/tennis.csv.txt')"
   ]
  },
  {
   "cell_type": "code",
   "execution_count": 2,
   "metadata": {},
   "outputs": [],
   "source": [
    "from sklearn.preprocessing import OrdinalEncoder\n",
    "oe = OrdinalEncoder()\n",
    "feature_target = oe.fit_transform(tennis_data)"
   ]
  },
  {
   "cell_type": "code",
   "execution_count": 3,
   "metadata": {},
   "outputs": [],
   "source": [
    "data = pd.DataFrame(feature_target, columns=['outlook','temp','humidity','windy','play'], dtype='int')"
   ]
  },
  {
   "cell_type": "code",
   "execution_count": 4,
   "metadata": {},
   "outputs": [
    {
     "data": {
      "text/html": [
       "<div>\n",
       "<style scoped>\n",
       "    .dataframe tbody tr th:only-of-type {\n",
       "        vertical-align: middle;\n",
       "    }\n",
       "\n",
       "    .dataframe tbody tr th {\n",
       "        vertical-align: top;\n",
       "    }\n",
       "\n",
       "    .dataframe thead th {\n",
       "        text-align: right;\n",
       "    }\n",
       "</style>\n",
       "<table border=\"1\" class=\"dataframe\">\n",
       "  <thead>\n",
       "    <tr style=\"text-align: right;\">\n",
       "      <th></th>\n",
       "      <th>outlook</th>\n",
       "      <th>temp</th>\n",
       "      <th>humidity</th>\n",
       "      <th>windy</th>\n",
       "      <th>play</th>\n",
       "    </tr>\n",
       "  </thead>\n",
       "  <tbody>\n",
       "    <tr>\n",
       "      <th>11</th>\n",
       "      <td>0</td>\n",
       "      <td>2</td>\n",
       "      <td>0</td>\n",
       "      <td>1</td>\n",
       "      <td>1</td>\n",
       "    </tr>\n",
       "    <tr>\n",
       "      <th>10</th>\n",
       "      <td>2</td>\n",
       "      <td>2</td>\n",
       "      <td>1</td>\n",
       "      <td>1</td>\n",
       "      <td>1</td>\n",
       "    </tr>\n",
       "    <tr>\n",
       "      <th>0</th>\n",
       "      <td>2</td>\n",
       "      <td>1</td>\n",
       "      <td>0</td>\n",
       "      <td>0</td>\n",
       "      <td>0</td>\n",
       "    </tr>\n",
       "    <tr>\n",
       "      <th>9</th>\n",
       "      <td>1</td>\n",
       "      <td>2</td>\n",
       "      <td>1</td>\n",
       "      <td>0</td>\n",
       "      <td>1</td>\n",
       "    </tr>\n",
       "    <tr>\n",
       "      <th>12</th>\n",
       "      <td>0</td>\n",
       "      <td>1</td>\n",
       "      <td>1</td>\n",
       "      <td>0</td>\n",
       "      <td>1</td>\n",
       "    </tr>\n",
       "  </tbody>\n",
       "</table>\n",
       "</div>"
      ],
      "text/plain": [
       "    outlook  temp  humidity  windy  play\n",
       "11        0     2         0      1     1\n",
       "10        2     2         1      1     1\n",
       "0         2     1         0      0     0\n",
       "9         1     2         1      0     1\n",
       "12        0     1         1      0     1"
      ]
     },
     "execution_count": 4,
     "metadata": {},
     "output_type": "execute_result"
    }
   ],
   "source": [
    "data.sample(5)"
   ]
  },
  {
   "cell_type": "code",
   "execution_count": 5,
   "metadata": {},
   "outputs": [
    {
     "data": {
      "text/plain": [
       "array([2, 0, 1])"
      ]
     },
     "execution_count": 5,
     "metadata": {},
     "output_type": "execute_result"
    }
   ],
   "source": [
    "data.outlook.unique()"
   ]
  },
  {
   "cell_type": "code",
   "execution_count": 10,
   "metadata": {},
   "outputs": [
    {
     "data": {
      "text/plain": [
       "2"
      ]
     },
     "execution_count": 10,
     "metadata": {},
     "output_type": "execute_result"
    }
   ],
   "source": [
    "data.temp.max()"
   ]
  },
  {
   "cell_type": "code",
   "execution_count": 61,
   "metadata": {},
   "outputs": [],
   "source": [
    "#Based on Gini Impurity\n",
    "class MyDecisionTreeCategoricalClassifier:\n",
    "    \n",
    "    def __init__(self):\n",
    "        self.feature_ranges = {}\n",
    "    \n",
    "    def createDecisionsFromData(self,feature_data):\n",
    "        \n",
    "        for col in feature_data.columns:\n",
    "            ranges_info = []\n",
    "            i = 0.5\n",
    "            cat_max = feature_data[col].max()\n",
    "            while i < cat_max:\n",
    "                ranges_info.append(i)\n",
    "                i = i+1\n",
    "                \n",
    "            self.feature_ranges[col] = ranges_info\n",
    "            \n",
    "        decisions = list(dt.feature_ranges.items())\n",
    "        \n",
    "        self.decisions = []\n",
    "        for f,buckets in decisions:\n",
    "            for bucket in buckets:\n",
    "                self.decisions.append((f,bucket))\n",
    "    \n",
    "    def calGini(self,target):\n",
    "        total = target.value_counts().values.sum()\n",
    "        l = list(target.value_counts().values)\n",
    "        gini = 0\n",
    "        for e in l:\n",
    "            gini += (e/total)*(1-e/total)\n",
    "        return gini\n",
    "    \n",
    "    def select_decision(self, data):\n",
    "        GiniBeforeSplit = self.calGini(data.target)\n",
    "        if GiniBeforeSplit == 0:\n",
    "            return\n",
    "        print('GiniBeforeSplit',GiniBeforeSplit)\n",
    "        \n",
    "        max_gini_gain = 0\n",
    "        for feature,value in self.decisions:\n",
    "            \n",
    "            data_left = data[data[feature] < value]\n",
    "            GiniLeft = self.calGini(data_left.target)\n",
    "            \n",
    "            data_right = data[data[feature] > value]\n",
    "            GiniRight = self.calGini(data_right.target)\n",
    "            \n",
    "            GiniSplit = (data_left.shape[0]/data.shape[0])* GiniLeft + (data_right.shape[0]/data.shape[0])* GiniRight\n",
    "            GiniGain = GiniBeforeSplit - GiniSplit\n",
    "            \n",
    "            if GiniGain > max_gini_gain:\n",
    "                max_gini_gain = GiniGain\n",
    "                best_data_left = data_left\n",
    "                best_data_right = data_right\n",
    "                best_feature = feature\n",
    "                best_value = value\n",
    "        \n",
    "        print(best_feature,best_value)\n",
    "        print('Gini-Left',GiniLeft)\n",
    "        self.select_decision(best_data_left)\n",
    "        print('Gini-Right',GiniRight)\n",
    "        self.select_decision(best_data_right)\n",
    "    \n",
    "    #Calculate Gini Gain for each decision & chose the one which is best\n",
    "    def myfit(self, feature_data, target_data):\n",
    "        GiniBeforeSplit = self.calGini(target_data)\n",
    "        \n",
    "        feature_data['target'] = target_data\n",
    "        data = feature_data\n",
    "        self.select_decision(data)\n",
    "        \n",
    "    \n",
    "    def mypredict(self,feature_data):\n",
    "        pass"
   ]
  },
  {
   "cell_type": "code",
   "execution_count": 62,
   "metadata": {},
   "outputs": [],
   "source": [
    "dt = MyDecisionTreeCategoricalClassifier()"
   ]
  },
  {
   "cell_type": "code",
   "execution_count": 63,
   "metadata": {},
   "outputs": [],
   "source": [
    "dt.createDecisionsFromData(data.drop(columns=['play']))"
   ]
  },
  {
   "cell_type": "code",
   "execution_count": 64,
   "metadata": {},
   "outputs": [
    {
     "name": "stdout",
     "output_type": "stream",
     "text": [
      "GiniBeforeSplit 0.4591836734693877\n",
      "outlook 0.5\n",
      "Gini-Left 0.375\n",
      "Gini-Right 0.5\n",
      "GiniBeforeSplit 0.5\n",
      "humidity 0.5\n",
      "Gini-Left 0.4444444444444445\n",
      "GiniBeforeSplit 0.32\n",
      "outlook 1.5\n",
      "Gini-Left 0.4444444444444445\n",
      "GiniBeforeSplit 0.5\n",
      "windy 0.5\n",
      "Gini-Left 0.0\n",
      "Gini-Right 0.0\n",
      "Gini-Right 0.0\n",
      "Gini-Right 0.375\n",
      "GiniBeforeSplit 0.32\n",
      "windy 0.5\n",
      "Gini-Left 0.0\n",
      "Gini-Right 0.5\n",
      "GiniBeforeSplit 0.5\n",
      "outlook 1.5\n",
      "Gini-Left 0\n",
      "Gini-Right 0.5\n"
     ]
    }
   ],
   "source": [
    "dt.myfit(data.drop(columns=['play']), data.play)"
   ]
  },
  {
   "cell_type": "code",
   "execution_count": 23,
   "metadata": {},
   "outputs": [
    {
     "data": {
      "text/plain": [
       "{'outlook': [0.5, 1.5], 'temp': [0.5, 1.5], 'humidity': [0.5], 'windy': [0.5]}"
      ]
     },
     "execution_count": 23,
     "metadata": {},
     "output_type": "execute_result"
    }
   ],
   "source": [
    "dt.feature_ranges"
   ]
  },
  {
   "cell_type": "code",
   "execution_count": 156,
   "metadata": {},
   "outputs": [
    {
     "data": {
      "text/plain": [
       "[('outlook', 0.5),\n",
       " ('outlook', 1.5),\n",
       " ('temp', 0.5),\n",
       " ('temp', 1.5),\n",
       " ('humidity', 0.5),\n",
       " ('windy', 0.5)]"
      ]
     },
     "execution_count": 156,
     "metadata": {},
     "output_type": "execute_result"
    }
   ],
   "source": [
    "dt.decisions"
   ]
  },
  {
   "cell_type": "markdown",
   "metadata": {},
   "source": [
    "### Calculate Gini"
   ]
  },
  {
   "cell_type": "code",
   "execution_count": 57,
   "metadata": {},
   "outputs": [],
   "source": [
    "total = data.play.value_counts().values.sum()"
   ]
  },
  {
   "cell_type": "code",
   "execution_count": 58,
   "metadata": {},
   "outputs": [
    {
     "data": {
      "text/plain": [
       "14"
      ]
     },
     "execution_count": 58,
     "metadata": {},
     "output_type": "execute_result"
    }
   ],
   "source": [
    "total"
   ]
  },
  {
   "cell_type": "code",
   "execution_count": 59,
   "metadata": {},
   "outputs": [],
   "source": [
    "l = list(data.play.value_counts().values)"
   ]
  },
  {
   "cell_type": "code",
   "execution_count": 60,
   "metadata": {},
   "outputs": [],
   "source": [
    "gini = 0\n",
    "for e in l:\n",
    "    gini += (e/total)*(1-e/total)"
   ]
  },
  {
   "cell_type": "code",
   "execution_count": 61,
   "metadata": {},
   "outputs": [
    {
     "data": {
      "text/plain": [
       "0.4591836734693877"
      ]
     },
     "execution_count": 61,
     "metadata": {},
     "output_type": "execute_result"
    }
   ],
   "source": [
    "gini"
   ]
  },
  {
   "cell_type": "markdown",
   "metadata": {},
   "source": [
    "* Fit the data to model"
   ]
  },
  {
   "cell_type": "code",
   "execution_count": 32,
   "metadata": {},
   "outputs": [
    {
     "name": "stdout",
     "output_type": "stream",
     "text": [
      "0.4591836734693877\n",
      "0.375\n",
      "0.375\n",
      "0.375\n",
      "0.375\n",
      "0.375\n",
      "0.375\n",
      "0.375\n",
      "0.375\n",
      "0.375\n",
      "0.375\n",
      "0.375\n",
      "0.375\n",
      "0.375\n",
      "0.375\n",
      "0.375\n",
      "0.375\n",
      "0.375\n",
      "0.375\n",
      "0.375\n",
      "0.375\n",
      "0.375\n",
      "0.375\n",
      "0.375\n",
      "0.375\n",
      "0.375\n",
      "0.375\n",
      "0.375\n",
      "0.375\n",
      "0.375\n",
      "0.375\n",
      "0.375\n",
      "0.375\n",
      "0.375\n",
      "0.375\n",
      "0.375\n",
      "0.375\n",
      "0.375\n",
      "0.375\n",
      "0.375\n",
      "0.375\n",
      "0.375\n",
      "0.375\n",
      "0.375\n",
      "0.375\n",
      "0.375\n",
      "0.375\n",
      "0.375\n",
      "0.375\n",
      "0.375\n",
      "0.375\n",
      "0.375\n",
      "0.375\n",
      "0.375\n",
      "0.375\n",
      "0.375\n",
      "0.375\n",
      "0.375\n",
      "0.375\n",
      "0.375\n",
      "0.375\n",
      "0.375\n",
      "0.375\n",
      "0.375\n",
      "0.375\n",
      "0.375\n",
      "0.375\n",
      "0.375\n",
      "0.375\n",
      "0.375\n",
      "0.375\n",
      "0.375\n",
      "0.375\n",
      "0.375\n",
      "0.375\n",
      "0.375\n",
      "0.375\n",
      "0.375\n",
      "0.375\n",
      "0.375\n",
      "0.375\n",
      "0.375\n",
      "0.375\n",
      "0.375\n",
      "0.375\n",
      "0.375\n",
      "0.375\n",
      "0.375\n",
      "0.375\n",
      "0.375\n",
      "0.375\n",
      "0.375\n",
      "0.375\n",
      "0.375\n",
      "0.375\n",
      "0.375\n",
      "0.375\n",
      "0.375\n",
      "0.375\n",
      "0.375\n",
      "0.375\n",
      "0.375\n",
      "0.375\n",
      "0.375\n",
      "0.375\n",
      "0.375\n",
      "0.375\n",
      "0.375\n",
      "0.375\n",
      "0.375\n",
      "0.375\n",
      "0.375\n",
      "0.375\n",
      "0.375\n",
      "0.375\n",
      "0.375\n",
      "0.375\n",
      "0.375\n",
      "0.375\n",
      "0.375\n",
      "0.375\n",
      "0.375\n",
      "0.375\n",
      "0.375\n",
      "0.375\n",
      "0.375\n",
      "0.375\n",
      "0.375\n",
      "0.375\n",
      "0.375\n",
      "0.375\n",
      "0.375\n",
      "0.375\n",
      "0.375\n",
      "0.375\n",
      "0.375\n",
      "0.375\n",
      "0.375\n",
      "0.375\n",
      "0.375\n",
      "0.375\n",
      "0.375\n",
      "0.375\n",
      "0.375\n",
      "0.375\n",
      "0.375\n",
      "0.375\n",
      "0.375\n",
      "0.375\n",
      "0.375\n",
      "0.375\n",
      "0.375\n",
      "0.375\n",
      "0.375\n",
      "0.375\n",
      "0.375\n",
      "0.375\n",
      "0.375\n",
      "0.375\n",
      "0.375\n",
      "0.375\n",
      "0.375\n",
      "0.375\n",
      "0.375\n",
      "0.375\n",
      "0.375\n",
      "0.375\n",
      "0.375\n",
      "0.375\n",
      "0.375\n",
      "0.375\n",
      "0.375\n",
      "0.375\n",
      "0.375\n",
      "0.375\n",
      "0.375\n",
      "0.375\n"
     ]
    },
    {
     "ename": "KeyboardInterrupt",
     "evalue": "",
     "output_type": "error",
     "traceback": [
      "\u001b[0;31m---------------------------------------------------------------------------\u001b[0m",
      "\u001b[0;31mKeyboardInterrupt\u001b[0m                         Traceback (most recent call last)",
      "\u001b[0;32m<ipython-input-32-e840471ed725>\u001b[0m in \u001b[0;36m<module>\u001b[0;34m\u001b[0m\n\u001b[0;32m----> 1\u001b[0;31m \u001b[0mdt\u001b[0m\u001b[0;34m.\u001b[0m\u001b[0mmyfit\u001b[0m\u001b[0;34m(\u001b[0m\u001b[0mdata\u001b[0m\u001b[0;34m.\u001b[0m\u001b[0mdrop\u001b[0m\u001b[0;34m(\u001b[0m\u001b[0mcolumns\u001b[0m\u001b[0;34m=\u001b[0m\u001b[0;34m[\u001b[0m\u001b[0;34m'play'\u001b[0m\u001b[0;34m]\u001b[0m\u001b[0;34m)\u001b[0m\u001b[0;34m,\u001b[0m \u001b[0mdata\u001b[0m\u001b[0;34m.\u001b[0m\u001b[0mplay\u001b[0m\u001b[0;34m)\u001b[0m\u001b[0;34m\u001b[0m\u001b[0;34m\u001b[0m\u001b[0m\n\u001b[0m",
      "\u001b[0;32m<ipython-input-29-58e91eca0dc1>\u001b[0m in \u001b[0;36mmyfit\u001b[0;34m(self, feature_data, target_data)\u001b[0m\n\u001b[1;32m     64\u001b[0m         \u001b[0mfeature_data\u001b[0m\u001b[0;34m[\u001b[0m\u001b[0;34m'target'\u001b[0m\u001b[0;34m]\u001b[0m \u001b[0;34m=\u001b[0m \u001b[0mtarget_data\u001b[0m\u001b[0;34m\u001b[0m\u001b[0;34m\u001b[0m\u001b[0m\n\u001b[1;32m     65\u001b[0m         \u001b[0mdata\u001b[0m \u001b[0;34m=\u001b[0m \u001b[0mfeature_data\u001b[0m\u001b[0;34m\u001b[0m\u001b[0;34m\u001b[0m\u001b[0m\n\u001b[0;32m---> 66\u001b[0;31m         \u001b[0mself\u001b[0m\u001b[0;34m.\u001b[0m\u001b[0mselect_decision\u001b[0m\u001b[0;34m(\u001b[0m\u001b[0mdata\u001b[0m\u001b[0;34m)\u001b[0m\u001b[0;34m\u001b[0m\u001b[0;34m\u001b[0m\u001b[0m\n\u001b[0m\u001b[1;32m     67\u001b[0m \u001b[0;34m\u001b[0m\u001b[0m\n\u001b[1;32m     68\u001b[0m \u001b[0;34m\u001b[0m\u001b[0m\n",
      "\u001b[0;32m<ipython-input-29-58e91eca0dc1>\u001b[0m in \u001b[0;36mselect_decision\u001b[0;34m(self, data)\u001b[0m\n\u001b[1;32m     55\u001b[0m                 \u001b[0mbest_data_right\u001b[0m \u001b[0;34m=\u001b[0m \u001b[0mdata_right\u001b[0m\u001b[0;34m\u001b[0m\u001b[0;34m\u001b[0m\u001b[0m\n\u001b[1;32m     56\u001b[0m \u001b[0;34m\u001b[0m\u001b[0m\n\u001b[0;32m---> 57\u001b[0;31m         \u001b[0mself\u001b[0m\u001b[0;34m.\u001b[0m\u001b[0mselect_decision\u001b[0m\u001b[0;34m(\u001b[0m\u001b[0mdata_left\u001b[0m\u001b[0;34m)\u001b[0m\u001b[0;34m\u001b[0m\u001b[0;34m\u001b[0m\u001b[0m\n\u001b[0m\u001b[1;32m     58\u001b[0m         \u001b[0mself\u001b[0m\u001b[0;34m.\u001b[0m\u001b[0mselect_decision\u001b[0m\u001b[0;34m(\u001b[0m\u001b[0mdata_right\u001b[0m\u001b[0;34m)\u001b[0m\u001b[0;34m\u001b[0m\u001b[0;34m\u001b[0m\u001b[0m\n\u001b[1;32m     59\u001b[0m \u001b[0;34m\u001b[0m\u001b[0m\n",
      "\u001b[0;32m<ipython-input-29-58e91eca0dc1>\u001b[0m in \u001b[0;36mselect_decision\u001b[0;34m(self, data)\u001b[0m\n\u001b[1;32m     55\u001b[0m                 \u001b[0mbest_data_right\u001b[0m \u001b[0;34m=\u001b[0m \u001b[0mdata_right\u001b[0m\u001b[0;34m\u001b[0m\u001b[0;34m\u001b[0m\u001b[0m\n\u001b[1;32m     56\u001b[0m \u001b[0;34m\u001b[0m\u001b[0m\n\u001b[0;32m---> 57\u001b[0;31m         \u001b[0mself\u001b[0m\u001b[0;34m.\u001b[0m\u001b[0mselect_decision\u001b[0m\u001b[0;34m(\u001b[0m\u001b[0mdata_left\u001b[0m\u001b[0;34m)\u001b[0m\u001b[0;34m\u001b[0m\u001b[0;34m\u001b[0m\u001b[0m\n\u001b[0m\u001b[1;32m     58\u001b[0m         \u001b[0mself\u001b[0m\u001b[0;34m.\u001b[0m\u001b[0mselect_decision\u001b[0m\u001b[0;34m(\u001b[0m\u001b[0mdata_right\u001b[0m\u001b[0;34m)\u001b[0m\u001b[0;34m\u001b[0m\u001b[0;34m\u001b[0m\u001b[0m\n\u001b[1;32m     59\u001b[0m \u001b[0;34m\u001b[0m\u001b[0m\n",
      "\u001b[0;32m<ipython-input-29-58e91eca0dc1>\u001b[0m in \u001b[0;36mselect_decision\u001b[0;34m(self, data)\u001b[0m\n\u001b[1;32m     55\u001b[0m                 \u001b[0mbest_data_right\u001b[0m \u001b[0;34m=\u001b[0m \u001b[0mdata_right\u001b[0m\u001b[0;34m\u001b[0m\u001b[0;34m\u001b[0m\u001b[0m\n\u001b[1;32m     56\u001b[0m \u001b[0;34m\u001b[0m\u001b[0m\n\u001b[0;32m---> 57\u001b[0;31m         \u001b[0mself\u001b[0m\u001b[0;34m.\u001b[0m\u001b[0mselect_decision\u001b[0m\u001b[0;34m(\u001b[0m\u001b[0mdata_left\u001b[0m\u001b[0;34m)\u001b[0m\u001b[0;34m\u001b[0m\u001b[0;34m\u001b[0m\u001b[0m\n\u001b[0m\u001b[1;32m     58\u001b[0m         \u001b[0mself\u001b[0m\u001b[0;34m.\u001b[0m\u001b[0mselect_decision\u001b[0m\u001b[0;34m(\u001b[0m\u001b[0mdata_right\u001b[0m\u001b[0;34m)\u001b[0m\u001b[0;34m\u001b[0m\u001b[0;34m\u001b[0m\u001b[0m\n\u001b[1;32m     59\u001b[0m \u001b[0;34m\u001b[0m\u001b[0m\n",
      "\u001b[0;32m<ipython-input-29-58e91eca0dc1>\u001b[0m in \u001b[0;36mselect_decision\u001b[0;34m(self, data)\u001b[0m\n\u001b[1;32m     55\u001b[0m                 \u001b[0mbest_data_right\u001b[0m \u001b[0;34m=\u001b[0m \u001b[0mdata_right\u001b[0m\u001b[0;34m\u001b[0m\u001b[0;34m\u001b[0m\u001b[0m\n\u001b[1;32m     56\u001b[0m \u001b[0;34m\u001b[0m\u001b[0m\n\u001b[0;32m---> 57\u001b[0;31m         \u001b[0mself\u001b[0m\u001b[0;34m.\u001b[0m\u001b[0mselect_decision\u001b[0m\u001b[0;34m(\u001b[0m\u001b[0mdata_left\u001b[0m\u001b[0;34m)\u001b[0m\u001b[0;34m\u001b[0m\u001b[0;34m\u001b[0m\u001b[0m\n\u001b[0m\u001b[1;32m     58\u001b[0m         \u001b[0mself\u001b[0m\u001b[0;34m.\u001b[0m\u001b[0mselect_decision\u001b[0m\u001b[0;34m(\u001b[0m\u001b[0mdata_right\u001b[0m\u001b[0;34m)\u001b[0m\u001b[0;34m\u001b[0m\u001b[0;34m\u001b[0m\u001b[0m\n\u001b[1;32m     59\u001b[0m \u001b[0;34m\u001b[0m\u001b[0m\n",
      "\u001b[0;32m<ipython-input-29-58e91eca0dc1>\u001b[0m in \u001b[0;36mselect_decision\u001b[0;34m(self, data)\u001b[0m\n\u001b[1;32m     55\u001b[0m                 \u001b[0mbest_data_right\u001b[0m \u001b[0;34m=\u001b[0m \u001b[0mdata_right\u001b[0m\u001b[0;34m\u001b[0m\u001b[0;34m\u001b[0m\u001b[0m\n\u001b[1;32m     56\u001b[0m \u001b[0;34m\u001b[0m\u001b[0m\n\u001b[0;32m---> 57\u001b[0;31m         \u001b[0mself\u001b[0m\u001b[0;34m.\u001b[0m\u001b[0mselect_decision\u001b[0m\u001b[0;34m(\u001b[0m\u001b[0mdata_left\u001b[0m\u001b[0;34m)\u001b[0m\u001b[0;34m\u001b[0m\u001b[0;34m\u001b[0m\u001b[0m\n\u001b[0m\u001b[1;32m     58\u001b[0m         \u001b[0mself\u001b[0m\u001b[0;34m.\u001b[0m\u001b[0mselect_decision\u001b[0m\u001b[0;34m(\u001b[0m\u001b[0mdata_right\u001b[0m\u001b[0;34m)\u001b[0m\u001b[0;34m\u001b[0m\u001b[0;34m\u001b[0m\u001b[0m\n\u001b[1;32m     59\u001b[0m \u001b[0;34m\u001b[0m\u001b[0m\n",
      "\u001b[0;32m<ipython-input-29-58e91eca0dc1>\u001b[0m in \u001b[0;36mselect_decision\u001b[0;34m(self, data)\u001b[0m\n\u001b[1;32m     55\u001b[0m                 \u001b[0mbest_data_right\u001b[0m \u001b[0;34m=\u001b[0m \u001b[0mdata_right\u001b[0m\u001b[0;34m\u001b[0m\u001b[0;34m\u001b[0m\u001b[0m\n\u001b[1;32m     56\u001b[0m \u001b[0;34m\u001b[0m\u001b[0m\n\u001b[0;32m---> 57\u001b[0;31m         \u001b[0mself\u001b[0m\u001b[0;34m.\u001b[0m\u001b[0mselect_decision\u001b[0m\u001b[0;34m(\u001b[0m\u001b[0mdata_left\u001b[0m\u001b[0;34m)\u001b[0m\u001b[0;34m\u001b[0m\u001b[0;34m\u001b[0m\u001b[0m\n\u001b[0m\u001b[1;32m     58\u001b[0m         \u001b[0mself\u001b[0m\u001b[0;34m.\u001b[0m\u001b[0mselect_decision\u001b[0m\u001b[0;34m(\u001b[0m\u001b[0mdata_right\u001b[0m\u001b[0;34m)\u001b[0m\u001b[0;34m\u001b[0m\u001b[0;34m\u001b[0m\u001b[0m\n\u001b[1;32m     59\u001b[0m \u001b[0;34m\u001b[0m\u001b[0m\n",
      "\u001b[0;32m<ipython-input-29-58e91eca0dc1>\u001b[0m in \u001b[0;36mselect_decision\u001b[0;34m(self, data)\u001b[0m\n\u001b[1;32m     55\u001b[0m                 \u001b[0mbest_data_right\u001b[0m \u001b[0;34m=\u001b[0m \u001b[0mdata_right\u001b[0m\u001b[0;34m\u001b[0m\u001b[0;34m\u001b[0m\u001b[0m\n\u001b[1;32m     56\u001b[0m \u001b[0;34m\u001b[0m\u001b[0m\n\u001b[0;32m---> 57\u001b[0;31m         \u001b[0mself\u001b[0m\u001b[0;34m.\u001b[0m\u001b[0mselect_decision\u001b[0m\u001b[0;34m(\u001b[0m\u001b[0mdata_left\u001b[0m\u001b[0;34m)\u001b[0m\u001b[0;34m\u001b[0m\u001b[0;34m\u001b[0m\u001b[0m\n\u001b[0m\u001b[1;32m     58\u001b[0m         \u001b[0mself\u001b[0m\u001b[0;34m.\u001b[0m\u001b[0mselect_decision\u001b[0m\u001b[0;34m(\u001b[0m\u001b[0mdata_right\u001b[0m\u001b[0;34m)\u001b[0m\u001b[0;34m\u001b[0m\u001b[0;34m\u001b[0m\u001b[0m\n\u001b[1;32m     59\u001b[0m \u001b[0;34m\u001b[0m\u001b[0m\n",
      "\u001b[0;32m<ipython-input-29-58e91eca0dc1>\u001b[0m in \u001b[0;36mselect_decision\u001b[0;34m(self, data)\u001b[0m\n\u001b[1;32m     55\u001b[0m                 \u001b[0mbest_data_right\u001b[0m \u001b[0;34m=\u001b[0m \u001b[0mdata_right\u001b[0m\u001b[0;34m\u001b[0m\u001b[0;34m\u001b[0m\u001b[0m\n\u001b[1;32m     56\u001b[0m \u001b[0;34m\u001b[0m\u001b[0m\n\u001b[0;32m---> 57\u001b[0;31m         \u001b[0mself\u001b[0m\u001b[0;34m.\u001b[0m\u001b[0mselect_decision\u001b[0m\u001b[0;34m(\u001b[0m\u001b[0mdata_left\u001b[0m\u001b[0;34m)\u001b[0m\u001b[0;34m\u001b[0m\u001b[0;34m\u001b[0m\u001b[0m\n\u001b[0m\u001b[1;32m     58\u001b[0m         \u001b[0mself\u001b[0m\u001b[0;34m.\u001b[0m\u001b[0mselect_decision\u001b[0m\u001b[0;34m(\u001b[0m\u001b[0mdata_right\u001b[0m\u001b[0;34m)\u001b[0m\u001b[0;34m\u001b[0m\u001b[0;34m\u001b[0m\u001b[0m\n\u001b[1;32m     59\u001b[0m \u001b[0;34m\u001b[0m\u001b[0m\n",
      "\u001b[0;32m<ipython-input-29-58e91eca0dc1>\u001b[0m in \u001b[0;36mselect_decision\u001b[0;34m(self, data)\u001b[0m\n\u001b[1;32m     55\u001b[0m                 \u001b[0mbest_data_right\u001b[0m \u001b[0;34m=\u001b[0m \u001b[0mdata_right\u001b[0m\u001b[0;34m\u001b[0m\u001b[0;34m\u001b[0m\u001b[0m\n\u001b[1;32m     56\u001b[0m \u001b[0;34m\u001b[0m\u001b[0m\n\u001b[0;32m---> 57\u001b[0;31m         \u001b[0mself\u001b[0m\u001b[0;34m.\u001b[0m\u001b[0mselect_decision\u001b[0m\u001b[0;34m(\u001b[0m\u001b[0mdata_left\u001b[0m\u001b[0;34m)\u001b[0m\u001b[0;34m\u001b[0m\u001b[0;34m\u001b[0m\u001b[0m\n\u001b[0m\u001b[1;32m     58\u001b[0m         \u001b[0mself\u001b[0m\u001b[0;34m.\u001b[0m\u001b[0mselect_decision\u001b[0m\u001b[0;34m(\u001b[0m\u001b[0mdata_right\u001b[0m\u001b[0;34m)\u001b[0m\u001b[0;34m\u001b[0m\u001b[0;34m\u001b[0m\u001b[0m\n\u001b[1;32m     59\u001b[0m \u001b[0;34m\u001b[0m\u001b[0m\n",
      "\u001b[0;32m<ipython-input-29-58e91eca0dc1>\u001b[0m in \u001b[0;36mselect_decision\u001b[0;34m(self, data)\u001b[0m\n\u001b[1;32m     55\u001b[0m                 \u001b[0mbest_data_right\u001b[0m \u001b[0;34m=\u001b[0m \u001b[0mdata_right\u001b[0m\u001b[0;34m\u001b[0m\u001b[0;34m\u001b[0m\u001b[0m\n\u001b[1;32m     56\u001b[0m \u001b[0;34m\u001b[0m\u001b[0m\n\u001b[0;32m---> 57\u001b[0;31m         \u001b[0mself\u001b[0m\u001b[0;34m.\u001b[0m\u001b[0mselect_decision\u001b[0m\u001b[0;34m(\u001b[0m\u001b[0mdata_left\u001b[0m\u001b[0;34m)\u001b[0m\u001b[0;34m\u001b[0m\u001b[0;34m\u001b[0m\u001b[0m\n\u001b[0m\u001b[1;32m     58\u001b[0m         \u001b[0mself\u001b[0m\u001b[0;34m.\u001b[0m\u001b[0mselect_decision\u001b[0m\u001b[0;34m(\u001b[0m\u001b[0mdata_right\u001b[0m\u001b[0;34m)\u001b[0m\u001b[0;34m\u001b[0m\u001b[0;34m\u001b[0m\u001b[0m\n\u001b[1;32m     59\u001b[0m \u001b[0;34m\u001b[0m\u001b[0m\n",
      "\u001b[0;32m<ipython-input-29-58e91eca0dc1>\u001b[0m in \u001b[0;36mselect_decision\u001b[0;34m(self, data)\u001b[0m\n\u001b[1;32m     55\u001b[0m                 \u001b[0mbest_data_right\u001b[0m \u001b[0;34m=\u001b[0m \u001b[0mdata_right\u001b[0m\u001b[0;34m\u001b[0m\u001b[0;34m\u001b[0m\u001b[0m\n\u001b[1;32m     56\u001b[0m \u001b[0;34m\u001b[0m\u001b[0m\n\u001b[0;32m---> 57\u001b[0;31m         \u001b[0mself\u001b[0m\u001b[0;34m.\u001b[0m\u001b[0mselect_decision\u001b[0m\u001b[0;34m(\u001b[0m\u001b[0mdata_left\u001b[0m\u001b[0;34m)\u001b[0m\u001b[0;34m\u001b[0m\u001b[0;34m\u001b[0m\u001b[0m\n\u001b[0m\u001b[1;32m     58\u001b[0m         \u001b[0mself\u001b[0m\u001b[0;34m.\u001b[0m\u001b[0mselect_decision\u001b[0m\u001b[0;34m(\u001b[0m\u001b[0mdata_right\u001b[0m\u001b[0;34m)\u001b[0m\u001b[0;34m\u001b[0m\u001b[0;34m\u001b[0m\u001b[0m\n\u001b[1;32m     59\u001b[0m \u001b[0;34m\u001b[0m\u001b[0m\n",
      "\u001b[0;32m<ipython-input-29-58e91eca0dc1>\u001b[0m in \u001b[0;36mselect_decision\u001b[0;34m(self, data)\u001b[0m\n\u001b[1;32m     55\u001b[0m                 \u001b[0mbest_data_right\u001b[0m \u001b[0;34m=\u001b[0m \u001b[0mdata_right\u001b[0m\u001b[0;34m\u001b[0m\u001b[0;34m\u001b[0m\u001b[0m\n\u001b[1;32m     56\u001b[0m \u001b[0;34m\u001b[0m\u001b[0m\n\u001b[0;32m---> 57\u001b[0;31m         \u001b[0mself\u001b[0m\u001b[0;34m.\u001b[0m\u001b[0mselect_decision\u001b[0m\u001b[0;34m(\u001b[0m\u001b[0mdata_left\u001b[0m\u001b[0;34m)\u001b[0m\u001b[0;34m\u001b[0m\u001b[0;34m\u001b[0m\u001b[0m\n\u001b[0m\u001b[1;32m     58\u001b[0m         \u001b[0mself\u001b[0m\u001b[0;34m.\u001b[0m\u001b[0mselect_decision\u001b[0m\u001b[0;34m(\u001b[0m\u001b[0mdata_right\u001b[0m\u001b[0;34m)\u001b[0m\u001b[0;34m\u001b[0m\u001b[0;34m\u001b[0m\u001b[0m\n\u001b[1;32m     59\u001b[0m \u001b[0;34m\u001b[0m\u001b[0m\n",
      "\u001b[0;32m<ipython-input-29-58e91eca0dc1>\u001b[0m in \u001b[0;36mselect_decision\u001b[0;34m(self, data)\u001b[0m\n\u001b[1;32m     55\u001b[0m                 \u001b[0mbest_data_right\u001b[0m \u001b[0;34m=\u001b[0m \u001b[0mdata_right\u001b[0m\u001b[0;34m\u001b[0m\u001b[0;34m\u001b[0m\u001b[0m\n\u001b[1;32m     56\u001b[0m \u001b[0;34m\u001b[0m\u001b[0m\n\u001b[0;32m---> 57\u001b[0;31m         \u001b[0mself\u001b[0m\u001b[0;34m.\u001b[0m\u001b[0mselect_decision\u001b[0m\u001b[0;34m(\u001b[0m\u001b[0mdata_left\u001b[0m\u001b[0;34m)\u001b[0m\u001b[0;34m\u001b[0m\u001b[0;34m\u001b[0m\u001b[0m\n\u001b[0m\u001b[1;32m     58\u001b[0m         \u001b[0mself\u001b[0m\u001b[0;34m.\u001b[0m\u001b[0mselect_decision\u001b[0m\u001b[0;34m(\u001b[0m\u001b[0mdata_right\u001b[0m\u001b[0;34m)\u001b[0m\u001b[0;34m\u001b[0m\u001b[0;34m\u001b[0m\u001b[0m\n\u001b[1;32m     59\u001b[0m \u001b[0;34m\u001b[0m\u001b[0m\n",
      "\u001b[0;32m<ipython-input-29-58e91eca0dc1>\u001b[0m in \u001b[0;36mselect_decision\u001b[0;34m(self, data)\u001b[0m\n\u001b[1;32m     55\u001b[0m                 \u001b[0mbest_data_right\u001b[0m \u001b[0;34m=\u001b[0m \u001b[0mdata_right\u001b[0m\u001b[0;34m\u001b[0m\u001b[0;34m\u001b[0m\u001b[0m\n\u001b[1;32m     56\u001b[0m \u001b[0;34m\u001b[0m\u001b[0m\n\u001b[0;32m---> 57\u001b[0;31m         \u001b[0mself\u001b[0m\u001b[0;34m.\u001b[0m\u001b[0mselect_decision\u001b[0m\u001b[0;34m(\u001b[0m\u001b[0mdata_left\u001b[0m\u001b[0;34m)\u001b[0m\u001b[0;34m\u001b[0m\u001b[0;34m\u001b[0m\u001b[0m\n\u001b[0m\u001b[1;32m     58\u001b[0m         \u001b[0mself\u001b[0m\u001b[0;34m.\u001b[0m\u001b[0mselect_decision\u001b[0m\u001b[0;34m(\u001b[0m\u001b[0mdata_right\u001b[0m\u001b[0;34m)\u001b[0m\u001b[0;34m\u001b[0m\u001b[0;34m\u001b[0m\u001b[0m\n\u001b[1;32m     59\u001b[0m \u001b[0;34m\u001b[0m\u001b[0m\n",
      "\u001b[0;32m<ipython-input-29-58e91eca0dc1>\u001b[0m in \u001b[0;36mselect_decision\u001b[0;34m(self, data)\u001b[0m\n\u001b[1;32m     55\u001b[0m                 \u001b[0mbest_data_right\u001b[0m \u001b[0;34m=\u001b[0m \u001b[0mdata_right\u001b[0m\u001b[0;34m\u001b[0m\u001b[0;34m\u001b[0m\u001b[0m\n\u001b[1;32m     56\u001b[0m \u001b[0;34m\u001b[0m\u001b[0m\n\u001b[0;32m---> 57\u001b[0;31m         \u001b[0mself\u001b[0m\u001b[0;34m.\u001b[0m\u001b[0mselect_decision\u001b[0m\u001b[0;34m(\u001b[0m\u001b[0mdata_left\u001b[0m\u001b[0;34m)\u001b[0m\u001b[0;34m\u001b[0m\u001b[0;34m\u001b[0m\u001b[0m\n\u001b[0m\u001b[1;32m     58\u001b[0m         \u001b[0mself\u001b[0m\u001b[0;34m.\u001b[0m\u001b[0mselect_decision\u001b[0m\u001b[0;34m(\u001b[0m\u001b[0mdata_right\u001b[0m\u001b[0;34m)\u001b[0m\u001b[0;34m\u001b[0m\u001b[0;34m\u001b[0m\u001b[0m\n\u001b[1;32m     59\u001b[0m \u001b[0;34m\u001b[0m\u001b[0m\n",
      "\u001b[0;32m<ipython-input-29-58e91eca0dc1>\u001b[0m in \u001b[0;36mselect_decision\u001b[0;34m(self, data)\u001b[0m\n\u001b[1;32m     55\u001b[0m                 \u001b[0mbest_data_right\u001b[0m \u001b[0;34m=\u001b[0m \u001b[0mdata_right\u001b[0m\u001b[0;34m\u001b[0m\u001b[0;34m\u001b[0m\u001b[0m\n\u001b[1;32m     56\u001b[0m \u001b[0;34m\u001b[0m\u001b[0m\n\u001b[0;32m---> 57\u001b[0;31m         \u001b[0mself\u001b[0m\u001b[0;34m.\u001b[0m\u001b[0mselect_decision\u001b[0m\u001b[0;34m(\u001b[0m\u001b[0mdata_left\u001b[0m\u001b[0;34m)\u001b[0m\u001b[0;34m\u001b[0m\u001b[0;34m\u001b[0m\u001b[0m\n\u001b[0m\u001b[1;32m     58\u001b[0m         \u001b[0mself\u001b[0m\u001b[0;34m.\u001b[0m\u001b[0mselect_decision\u001b[0m\u001b[0;34m(\u001b[0m\u001b[0mdata_right\u001b[0m\u001b[0;34m)\u001b[0m\u001b[0;34m\u001b[0m\u001b[0;34m\u001b[0m\u001b[0m\n\u001b[1;32m     59\u001b[0m \u001b[0;34m\u001b[0m\u001b[0m\n",
      "\u001b[0;32m<ipython-input-29-58e91eca0dc1>\u001b[0m in \u001b[0;36mselect_decision\u001b[0;34m(self, data)\u001b[0m\n\u001b[1;32m     55\u001b[0m                 \u001b[0mbest_data_right\u001b[0m \u001b[0;34m=\u001b[0m \u001b[0mdata_right\u001b[0m\u001b[0;34m\u001b[0m\u001b[0;34m\u001b[0m\u001b[0m\n\u001b[1;32m     56\u001b[0m \u001b[0;34m\u001b[0m\u001b[0m\n\u001b[0;32m---> 57\u001b[0;31m         \u001b[0mself\u001b[0m\u001b[0;34m.\u001b[0m\u001b[0mselect_decision\u001b[0m\u001b[0;34m(\u001b[0m\u001b[0mdata_left\u001b[0m\u001b[0;34m)\u001b[0m\u001b[0;34m\u001b[0m\u001b[0;34m\u001b[0m\u001b[0m\n\u001b[0m\u001b[1;32m     58\u001b[0m         \u001b[0mself\u001b[0m\u001b[0;34m.\u001b[0m\u001b[0mselect_decision\u001b[0m\u001b[0;34m(\u001b[0m\u001b[0mdata_right\u001b[0m\u001b[0;34m)\u001b[0m\u001b[0;34m\u001b[0m\u001b[0;34m\u001b[0m\u001b[0m\n\u001b[1;32m     59\u001b[0m \u001b[0;34m\u001b[0m\u001b[0m\n",
      "\u001b[0;32m<ipython-input-29-58e91eca0dc1>\u001b[0m in \u001b[0;36mselect_decision\u001b[0;34m(self, data)\u001b[0m\n\u001b[1;32m     55\u001b[0m                 \u001b[0mbest_data_right\u001b[0m \u001b[0;34m=\u001b[0m \u001b[0mdata_right\u001b[0m\u001b[0;34m\u001b[0m\u001b[0;34m\u001b[0m\u001b[0m\n\u001b[1;32m     56\u001b[0m \u001b[0;34m\u001b[0m\u001b[0m\n\u001b[0;32m---> 57\u001b[0;31m         \u001b[0mself\u001b[0m\u001b[0;34m.\u001b[0m\u001b[0mselect_decision\u001b[0m\u001b[0;34m(\u001b[0m\u001b[0mdata_left\u001b[0m\u001b[0;34m)\u001b[0m\u001b[0;34m\u001b[0m\u001b[0;34m\u001b[0m\u001b[0m\n\u001b[0m\u001b[1;32m     58\u001b[0m         \u001b[0mself\u001b[0m\u001b[0;34m.\u001b[0m\u001b[0mselect_decision\u001b[0m\u001b[0;34m(\u001b[0m\u001b[0mdata_right\u001b[0m\u001b[0;34m)\u001b[0m\u001b[0;34m\u001b[0m\u001b[0;34m\u001b[0m\u001b[0m\n\u001b[1;32m     59\u001b[0m \u001b[0;34m\u001b[0m\u001b[0m\n",
      "\u001b[0;32m<ipython-input-29-58e91eca0dc1>\u001b[0m in \u001b[0;36mselect_decision\u001b[0;34m(self, data)\u001b[0m\n\u001b[1;32m     55\u001b[0m                 \u001b[0mbest_data_right\u001b[0m \u001b[0;34m=\u001b[0m \u001b[0mdata_right\u001b[0m\u001b[0;34m\u001b[0m\u001b[0;34m\u001b[0m\u001b[0m\n\u001b[1;32m     56\u001b[0m \u001b[0;34m\u001b[0m\u001b[0m\n\u001b[0;32m---> 57\u001b[0;31m         \u001b[0mself\u001b[0m\u001b[0;34m.\u001b[0m\u001b[0mselect_decision\u001b[0m\u001b[0;34m(\u001b[0m\u001b[0mdata_left\u001b[0m\u001b[0;34m)\u001b[0m\u001b[0;34m\u001b[0m\u001b[0;34m\u001b[0m\u001b[0m\n\u001b[0m\u001b[1;32m     58\u001b[0m         \u001b[0mself\u001b[0m\u001b[0;34m.\u001b[0m\u001b[0mselect_decision\u001b[0m\u001b[0;34m(\u001b[0m\u001b[0mdata_right\u001b[0m\u001b[0;34m)\u001b[0m\u001b[0;34m\u001b[0m\u001b[0;34m\u001b[0m\u001b[0m\n\u001b[1;32m     59\u001b[0m \u001b[0;34m\u001b[0m\u001b[0m\n",
      "\u001b[0;32m<ipython-input-29-58e91eca0dc1>\u001b[0m in \u001b[0;36mselect_decision\u001b[0;34m(self, data)\u001b[0m\n\u001b[1;32m     55\u001b[0m                 \u001b[0mbest_data_right\u001b[0m \u001b[0;34m=\u001b[0m \u001b[0mdata_right\u001b[0m\u001b[0;34m\u001b[0m\u001b[0;34m\u001b[0m\u001b[0m\n\u001b[1;32m     56\u001b[0m \u001b[0;34m\u001b[0m\u001b[0m\n\u001b[0;32m---> 57\u001b[0;31m         \u001b[0mself\u001b[0m\u001b[0;34m.\u001b[0m\u001b[0mselect_decision\u001b[0m\u001b[0;34m(\u001b[0m\u001b[0mdata_left\u001b[0m\u001b[0;34m)\u001b[0m\u001b[0;34m\u001b[0m\u001b[0;34m\u001b[0m\u001b[0m\n\u001b[0m\u001b[1;32m     58\u001b[0m         \u001b[0mself\u001b[0m\u001b[0;34m.\u001b[0m\u001b[0mselect_decision\u001b[0m\u001b[0;34m(\u001b[0m\u001b[0mdata_right\u001b[0m\u001b[0;34m)\u001b[0m\u001b[0;34m\u001b[0m\u001b[0;34m\u001b[0m\u001b[0m\n\u001b[1;32m     59\u001b[0m \u001b[0;34m\u001b[0m\u001b[0m\n",
      "\u001b[0;32m<ipython-input-29-58e91eca0dc1>\u001b[0m in \u001b[0;36mselect_decision\u001b[0;34m(self, data)\u001b[0m\n\u001b[1;32m     55\u001b[0m                 \u001b[0mbest_data_right\u001b[0m \u001b[0;34m=\u001b[0m \u001b[0mdata_right\u001b[0m\u001b[0;34m\u001b[0m\u001b[0;34m\u001b[0m\u001b[0m\n\u001b[1;32m     56\u001b[0m \u001b[0;34m\u001b[0m\u001b[0m\n\u001b[0;32m---> 57\u001b[0;31m         \u001b[0mself\u001b[0m\u001b[0;34m.\u001b[0m\u001b[0mselect_decision\u001b[0m\u001b[0;34m(\u001b[0m\u001b[0mdata_left\u001b[0m\u001b[0;34m)\u001b[0m\u001b[0;34m\u001b[0m\u001b[0;34m\u001b[0m\u001b[0m\n\u001b[0m\u001b[1;32m     58\u001b[0m         \u001b[0mself\u001b[0m\u001b[0;34m.\u001b[0m\u001b[0mselect_decision\u001b[0m\u001b[0;34m(\u001b[0m\u001b[0mdata_right\u001b[0m\u001b[0;34m)\u001b[0m\u001b[0;34m\u001b[0m\u001b[0;34m\u001b[0m\u001b[0m\n\u001b[1;32m     59\u001b[0m \u001b[0;34m\u001b[0m\u001b[0m\n",
      "\u001b[0;32m<ipython-input-29-58e91eca0dc1>\u001b[0m in \u001b[0;36mselect_decision\u001b[0;34m(self, data)\u001b[0m\n\u001b[1;32m     55\u001b[0m                 \u001b[0mbest_data_right\u001b[0m \u001b[0;34m=\u001b[0m \u001b[0mdata_right\u001b[0m\u001b[0;34m\u001b[0m\u001b[0;34m\u001b[0m\u001b[0m\n\u001b[1;32m     56\u001b[0m \u001b[0;34m\u001b[0m\u001b[0m\n\u001b[0;32m---> 57\u001b[0;31m         \u001b[0mself\u001b[0m\u001b[0;34m.\u001b[0m\u001b[0mselect_decision\u001b[0m\u001b[0;34m(\u001b[0m\u001b[0mdata_left\u001b[0m\u001b[0;34m)\u001b[0m\u001b[0;34m\u001b[0m\u001b[0;34m\u001b[0m\u001b[0m\n\u001b[0m\u001b[1;32m     58\u001b[0m         \u001b[0mself\u001b[0m\u001b[0;34m.\u001b[0m\u001b[0mselect_decision\u001b[0m\u001b[0;34m(\u001b[0m\u001b[0mdata_right\u001b[0m\u001b[0;34m)\u001b[0m\u001b[0;34m\u001b[0m\u001b[0;34m\u001b[0m\u001b[0m\n\u001b[1;32m     59\u001b[0m \u001b[0;34m\u001b[0m\u001b[0m\n",
      "\u001b[0;32m<ipython-input-29-58e91eca0dc1>\u001b[0m in \u001b[0;36mselect_decision\u001b[0;34m(self, data)\u001b[0m\n\u001b[1;32m     55\u001b[0m                 \u001b[0mbest_data_right\u001b[0m \u001b[0;34m=\u001b[0m \u001b[0mdata_right\u001b[0m\u001b[0;34m\u001b[0m\u001b[0;34m\u001b[0m\u001b[0m\n\u001b[1;32m     56\u001b[0m \u001b[0;34m\u001b[0m\u001b[0m\n\u001b[0;32m---> 57\u001b[0;31m         \u001b[0mself\u001b[0m\u001b[0;34m.\u001b[0m\u001b[0mselect_decision\u001b[0m\u001b[0;34m(\u001b[0m\u001b[0mdata_left\u001b[0m\u001b[0;34m)\u001b[0m\u001b[0;34m\u001b[0m\u001b[0;34m\u001b[0m\u001b[0m\n\u001b[0m\u001b[1;32m     58\u001b[0m         \u001b[0mself\u001b[0m\u001b[0;34m.\u001b[0m\u001b[0mselect_decision\u001b[0m\u001b[0;34m(\u001b[0m\u001b[0mdata_right\u001b[0m\u001b[0;34m)\u001b[0m\u001b[0;34m\u001b[0m\u001b[0;34m\u001b[0m\u001b[0m\n\u001b[1;32m     59\u001b[0m \u001b[0;34m\u001b[0m\u001b[0m\n",
      "\u001b[0;32m<ipython-input-29-58e91eca0dc1>\u001b[0m in \u001b[0;36mselect_decision\u001b[0;34m(self, data)\u001b[0m\n\u001b[1;32m     55\u001b[0m                 \u001b[0mbest_data_right\u001b[0m \u001b[0;34m=\u001b[0m \u001b[0mdata_right\u001b[0m\u001b[0;34m\u001b[0m\u001b[0;34m\u001b[0m\u001b[0m\n\u001b[1;32m     56\u001b[0m \u001b[0;34m\u001b[0m\u001b[0m\n\u001b[0;32m---> 57\u001b[0;31m         \u001b[0mself\u001b[0m\u001b[0;34m.\u001b[0m\u001b[0mselect_decision\u001b[0m\u001b[0;34m(\u001b[0m\u001b[0mdata_left\u001b[0m\u001b[0;34m)\u001b[0m\u001b[0;34m\u001b[0m\u001b[0;34m\u001b[0m\u001b[0m\n\u001b[0m\u001b[1;32m     58\u001b[0m         \u001b[0mself\u001b[0m\u001b[0;34m.\u001b[0m\u001b[0mselect_decision\u001b[0m\u001b[0;34m(\u001b[0m\u001b[0mdata_right\u001b[0m\u001b[0;34m)\u001b[0m\u001b[0;34m\u001b[0m\u001b[0;34m\u001b[0m\u001b[0m\n\u001b[1;32m     59\u001b[0m \u001b[0;34m\u001b[0m\u001b[0m\n",
      "\u001b[0;32m<ipython-input-29-58e91eca0dc1>\u001b[0m in \u001b[0;36mselect_decision\u001b[0;34m(self, data)\u001b[0m\n\u001b[1;32m     55\u001b[0m                 \u001b[0mbest_data_right\u001b[0m \u001b[0;34m=\u001b[0m \u001b[0mdata_right\u001b[0m\u001b[0;34m\u001b[0m\u001b[0;34m\u001b[0m\u001b[0m\n\u001b[1;32m     56\u001b[0m \u001b[0;34m\u001b[0m\u001b[0m\n\u001b[0;32m---> 57\u001b[0;31m         \u001b[0mself\u001b[0m\u001b[0;34m.\u001b[0m\u001b[0mselect_decision\u001b[0m\u001b[0;34m(\u001b[0m\u001b[0mdata_left\u001b[0m\u001b[0;34m)\u001b[0m\u001b[0;34m\u001b[0m\u001b[0;34m\u001b[0m\u001b[0m\n\u001b[0m\u001b[1;32m     58\u001b[0m         \u001b[0mself\u001b[0m\u001b[0;34m.\u001b[0m\u001b[0mselect_decision\u001b[0m\u001b[0;34m(\u001b[0m\u001b[0mdata_right\u001b[0m\u001b[0;34m)\u001b[0m\u001b[0;34m\u001b[0m\u001b[0;34m\u001b[0m\u001b[0m\n\u001b[1;32m     59\u001b[0m \u001b[0;34m\u001b[0m\u001b[0m\n",
      "\u001b[0;32m<ipython-input-29-58e91eca0dc1>\u001b[0m in \u001b[0;36mselect_decision\u001b[0;34m(self, data)\u001b[0m\n\u001b[1;32m     55\u001b[0m                 \u001b[0mbest_data_right\u001b[0m \u001b[0;34m=\u001b[0m \u001b[0mdata_right\u001b[0m\u001b[0;34m\u001b[0m\u001b[0;34m\u001b[0m\u001b[0m\n\u001b[1;32m     56\u001b[0m \u001b[0;34m\u001b[0m\u001b[0m\n\u001b[0;32m---> 57\u001b[0;31m         \u001b[0mself\u001b[0m\u001b[0;34m.\u001b[0m\u001b[0mselect_decision\u001b[0m\u001b[0;34m(\u001b[0m\u001b[0mdata_left\u001b[0m\u001b[0;34m)\u001b[0m\u001b[0;34m\u001b[0m\u001b[0;34m\u001b[0m\u001b[0m\n\u001b[0m\u001b[1;32m     58\u001b[0m         \u001b[0mself\u001b[0m\u001b[0;34m.\u001b[0m\u001b[0mselect_decision\u001b[0m\u001b[0;34m(\u001b[0m\u001b[0mdata_right\u001b[0m\u001b[0;34m)\u001b[0m\u001b[0;34m\u001b[0m\u001b[0;34m\u001b[0m\u001b[0m\n\u001b[1;32m     59\u001b[0m \u001b[0;34m\u001b[0m\u001b[0m\n",
      "\u001b[0;32m<ipython-input-29-58e91eca0dc1>\u001b[0m in \u001b[0;36mselect_decision\u001b[0;34m(self, data)\u001b[0m\n\u001b[1;32m     55\u001b[0m                 \u001b[0mbest_data_right\u001b[0m \u001b[0;34m=\u001b[0m \u001b[0mdata_right\u001b[0m\u001b[0;34m\u001b[0m\u001b[0;34m\u001b[0m\u001b[0m\n\u001b[1;32m     56\u001b[0m \u001b[0;34m\u001b[0m\u001b[0m\n\u001b[0;32m---> 57\u001b[0;31m         \u001b[0mself\u001b[0m\u001b[0;34m.\u001b[0m\u001b[0mselect_decision\u001b[0m\u001b[0;34m(\u001b[0m\u001b[0mdata_left\u001b[0m\u001b[0;34m)\u001b[0m\u001b[0;34m\u001b[0m\u001b[0;34m\u001b[0m\u001b[0m\n\u001b[0m\u001b[1;32m     58\u001b[0m         \u001b[0mself\u001b[0m\u001b[0;34m.\u001b[0m\u001b[0mselect_decision\u001b[0m\u001b[0;34m(\u001b[0m\u001b[0mdata_right\u001b[0m\u001b[0;34m)\u001b[0m\u001b[0;34m\u001b[0m\u001b[0;34m\u001b[0m\u001b[0m\n\u001b[1;32m     59\u001b[0m \u001b[0;34m\u001b[0m\u001b[0m\n",
      "\u001b[0;32m<ipython-input-29-58e91eca0dc1>\u001b[0m in \u001b[0;36mselect_decision\u001b[0;34m(self, data)\u001b[0m\n\u001b[1;32m     55\u001b[0m                 \u001b[0mbest_data_right\u001b[0m \u001b[0;34m=\u001b[0m \u001b[0mdata_right\u001b[0m\u001b[0;34m\u001b[0m\u001b[0;34m\u001b[0m\u001b[0m\n\u001b[1;32m     56\u001b[0m \u001b[0;34m\u001b[0m\u001b[0m\n\u001b[0;32m---> 57\u001b[0;31m         \u001b[0mself\u001b[0m\u001b[0;34m.\u001b[0m\u001b[0mselect_decision\u001b[0m\u001b[0;34m(\u001b[0m\u001b[0mdata_left\u001b[0m\u001b[0;34m)\u001b[0m\u001b[0;34m\u001b[0m\u001b[0;34m\u001b[0m\u001b[0m\n\u001b[0m\u001b[1;32m     58\u001b[0m         \u001b[0mself\u001b[0m\u001b[0;34m.\u001b[0m\u001b[0mselect_decision\u001b[0m\u001b[0;34m(\u001b[0m\u001b[0mdata_right\u001b[0m\u001b[0;34m)\u001b[0m\u001b[0;34m\u001b[0m\u001b[0;34m\u001b[0m\u001b[0m\n\u001b[1;32m     59\u001b[0m \u001b[0;34m\u001b[0m\u001b[0m\n",
      "\u001b[0;32m<ipython-input-29-58e91eca0dc1>\u001b[0m in \u001b[0;36mselect_decision\u001b[0;34m(self, data)\u001b[0m\n\u001b[1;32m     55\u001b[0m                 \u001b[0mbest_data_right\u001b[0m \u001b[0;34m=\u001b[0m \u001b[0mdata_right\u001b[0m\u001b[0;34m\u001b[0m\u001b[0;34m\u001b[0m\u001b[0m\n\u001b[1;32m     56\u001b[0m \u001b[0;34m\u001b[0m\u001b[0m\n\u001b[0;32m---> 57\u001b[0;31m         \u001b[0mself\u001b[0m\u001b[0;34m.\u001b[0m\u001b[0mselect_decision\u001b[0m\u001b[0;34m(\u001b[0m\u001b[0mdata_left\u001b[0m\u001b[0;34m)\u001b[0m\u001b[0;34m\u001b[0m\u001b[0;34m\u001b[0m\u001b[0m\n\u001b[0m\u001b[1;32m     58\u001b[0m         \u001b[0mself\u001b[0m\u001b[0;34m.\u001b[0m\u001b[0mselect_decision\u001b[0m\u001b[0;34m(\u001b[0m\u001b[0mdata_right\u001b[0m\u001b[0;34m)\u001b[0m\u001b[0;34m\u001b[0m\u001b[0;34m\u001b[0m\u001b[0m\n\u001b[1;32m     59\u001b[0m \u001b[0;34m\u001b[0m\u001b[0m\n",
      "\u001b[0;32m<ipython-input-29-58e91eca0dc1>\u001b[0m in \u001b[0;36mselect_decision\u001b[0;34m(self, data)\u001b[0m\n\u001b[1;32m     55\u001b[0m                 \u001b[0mbest_data_right\u001b[0m \u001b[0;34m=\u001b[0m \u001b[0mdata_right\u001b[0m\u001b[0;34m\u001b[0m\u001b[0;34m\u001b[0m\u001b[0m\n\u001b[1;32m     56\u001b[0m \u001b[0;34m\u001b[0m\u001b[0m\n\u001b[0;32m---> 57\u001b[0;31m         \u001b[0mself\u001b[0m\u001b[0;34m.\u001b[0m\u001b[0mselect_decision\u001b[0m\u001b[0;34m(\u001b[0m\u001b[0mdata_left\u001b[0m\u001b[0;34m)\u001b[0m\u001b[0;34m\u001b[0m\u001b[0;34m\u001b[0m\u001b[0m\n\u001b[0m\u001b[1;32m     58\u001b[0m         \u001b[0mself\u001b[0m\u001b[0;34m.\u001b[0m\u001b[0mselect_decision\u001b[0m\u001b[0;34m(\u001b[0m\u001b[0mdata_right\u001b[0m\u001b[0;34m)\u001b[0m\u001b[0;34m\u001b[0m\u001b[0;34m\u001b[0m\u001b[0m\n\u001b[1;32m     59\u001b[0m \u001b[0;34m\u001b[0m\u001b[0m\n",
      "\u001b[0;32m<ipython-input-29-58e91eca0dc1>\u001b[0m in \u001b[0;36mselect_decision\u001b[0;34m(self, data)\u001b[0m\n\u001b[1;32m     55\u001b[0m                 \u001b[0mbest_data_right\u001b[0m \u001b[0;34m=\u001b[0m \u001b[0mdata_right\u001b[0m\u001b[0;34m\u001b[0m\u001b[0;34m\u001b[0m\u001b[0m\n\u001b[1;32m     56\u001b[0m \u001b[0;34m\u001b[0m\u001b[0m\n\u001b[0;32m---> 57\u001b[0;31m         \u001b[0mself\u001b[0m\u001b[0;34m.\u001b[0m\u001b[0mselect_decision\u001b[0m\u001b[0;34m(\u001b[0m\u001b[0mdata_left\u001b[0m\u001b[0;34m)\u001b[0m\u001b[0;34m\u001b[0m\u001b[0;34m\u001b[0m\u001b[0m\n\u001b[0m\u001b[1;32m     58\u001b[0m         \u001b[0mself\u001b[0m\u001b[0;34m.\u001b[0m\u001b[0mselect_decision\u001b[0m\u001b[0;34m(\u001b[0m\u001b[0mdata_right\u001b[0m\u001b[0;34m)\u001b[0m\u001b[0;34m\u001b[0m\u001b[0;34m\u001b[0m\u001b[0m\n\u001b[1;32m     59\u001b[0m \u001b[0;34m\u001b[0m\u001b[0m\n",
      "\u001b[0;32m<ipython-input-29-58e91eca0dc1>\u001b[0m in \u001b[0;36mselect_decision\u001b[0;34m(self, data)\u001b[0m\n\u001b[1;32m     55\u001b[0m                 \u001b[0mbest_data_right\u001b[0m \u001b[0;34m=\u001b[0m \u001b[0mdata_right\u001b[0m\u001b[0;34m\u001b[0m\u001b[0;34m\u001b[0m\u001b[0m\n\u001b[1;32m     56\u001b[0m \u001b[0;34m\u001b[0m\u001b[0m\n\u001b[0;32m---> 57\u001b[0;31m         \u001b[0mself\u001b[0m\u001b[0;34m.\u001b[0m\u001b[0mselect_decision\u001b[0m\u001b[0;34m(\u001b[0m\u001b[0mdata_left\u001b[0m\u001b[0;34m)\u001b[0m\u001b[0;34m\u001b[0m\u001b[0;34m\u001b[0m\u001b[0m\n\u001b[0m\u001b[1;32m     58\u001b[0m         \u001b[0mself\u001b[0m\u001b[0;34m.\u001b[0m\u001b[0mselect_decision\u001b[0m\u001b[0;34m(\u001b[0m\u001b[0mdata_right\u001b[0m\u001b[0;34m)\u001b[0m\u001b[0;34m\u001b[0m\u001b[0;34m\u001b[0m\u001b[0m\n\u001b[1;32m     59\u001b[0m \u001b[0;34m\u001b[0m\u001b[0m\n",
      "\u001b[0;32m<ipython-input-29-58e91eca0dc1>\u001b[0m in \u001b[0;36mselect_decision\u001b[0;34m(self, data)\u001b[0m\n\u001b[1;32m     55\u001b[0m                 \u001b[0mbest_data_right\u001b[0m \u001b[0;34m=\u001b[0m \u001b[0mdata_right\u001b[0m\u001b[0;34m\u001b[0m\u001b[0;34m\u001b[0m\u001b[0m\n\u001b[1;32m     56\u001b[0m \u001b[0;34m\u001b[0m\u001b[0m\n\u001b[0;32m---> 57\u001b[0;31m         \u001b[0mself\u001b[0m\u001b[0;34m.\u001b[0m\u001b[0mselect_decision\u001b[0m\u001b[0;34m(\u001b[0m\u001b[0mdata_left\u001b[0m\u001b[0;34m)\u001b[0m\u001b[0;34m\u001b[0m\u001b[0;34m\u001b[0m\u001b[0m\n\u001b[0m\u001b[1;32m     58\u001b[0m         \u001b[0mself\u001b[0m\u001b[0;34m.\u001b[0m\u001b[0mselect_decision\u001b[0m\u001b[0;34m(\u001b[0m\u001b[0mdata_right\u001b[0m\u001b[0;34m)\u001b[0m\u001b[0;34m\u001b[0m\u001b[0;34m\u001b[0m\u001b[0m\n\u001b[1;32m     59\u001b[0m \u001b[0;34m\u001b[0m\u001b[0m\n",
      "\u001b[0;32m<ipython-input-29-58e91eca0dc1>\u001b[0m in \u001b[0;36mselect_decision\u001b[0;34m(self, data)\u001b[0m\n\u001b[1;32m     55\u001b[0m                 \u001b[0mbest_data_right\u001b[0m \u001b[0;34m=\u001b[0m \u001b[0mdata_right\u001b[0m\u001b[0;34m\u001b[0m\u001b[0;34m\u001b[0m\u001b[0m\n\u001b[1;32m     56\u001b[0m \u001b[0;34m\u001b[0m\u001b[0m\n\u001b[0;32m---> 57\u001b[0;31m         \u001b[0mself\u001b[0m\u001b[0;34m.\u001b[0m\u001b[0mselect_decision\u001b[0m\u001b[0;34m(\u001b[0m\u001b[0mdata_left\u001b[0m\u001b[0;34m)\u001b[0m\u001b[0;34m\u001b[0m\u001b[0;34m\u001b[0m\u001b[0m\n\u001b[0m\u001b[1;32m     58\u001b[0m         \u001b[0mself\u001b[0m\u001b[0;34m.\u001b[0m\u001b[0mselect_decision\u001b[0m\u001b[0;34m(\u001b[0m\u001b[0mdata_right\u001b[0m\u001b[0;34m)\u001b[0m\u001b[0;34m\u001b[0m\u001b[0;34m\u001b[0m\u001b[0m\n\u001b[1;32m     59\u001b[0m \u001b[0;34m\u001b[0m\u001b[0m\n",
      "\u001b[0;32m<ipython-input-29-58e91eca0dc1>\u001b[0m in \u001b[0;36mselect_decision\u001b[0;34m(self, data)\u001b[0m\n\u001b[1;32m     55\u001b[0m                 \u001b[0mbest_data_right\u001b[0m \u001b[0;34m=\u001b[0m \u001b[0mdata_right\u001b[0m\u001b[0;34m\u001b[0m\u001b[0;34m\u001b[0m\u001b[0m\n\u001b[1;32m     56\u001b[0m \u001b[0;34m\u001b[0m\u001b[0m\n\u001b[0;32m---> 57\u001b[0;31m         \u001b[0mself\u001b[0m\u001b[0;34m.\u001b[0m\u001b[0mselect_decision\u001b[0m\u001b[0;34m(\u001b[0m\u001b[0mdata_left\u001b[0m\u001b[0;34m)\u001b[0m\u001b[0;34m\u001b[0m\u001b[0;34m\u001b[0m\u001b[0m\n\u001b[0m\u001b[1;32m     58\u001b[0m         \u001b[0mself\u001b[0m\u001b[0;34m.\u001b[0m\u001b[0mselect_decision\u001b[0m\u001b[0;34m(\u001b[0m\u001b[0mdata_right\u001b[0m\u001b[0;34m)\u001b[0m\u001b[0;34m\u001b[0m\u001b[0;34m\u001b[0m\u001b[0m\n\u001b[1;32m     59\u001b[0m \u001b[0;34m\u001b[0m\u001b[0m\n",
      "\u001b[0;32m<ipython-input-29-58e91eca0dc1>\u001b[0m in \u001b[0;36mselect_decision\u001b[0;34m(self, data)\u001b[0m\n\u001b[1;32m     55\u001b[0m                 \u001b[0mbest_data_right\u001b[0m \u001b[0;34m=\u001b[0m \u001b[0mdata_right\u001b[0m\u001b[0;34m\u001b[0m\u001b[0;34m\u001b[0m\u001b[0m\n\u001b[1;32m     56\u001b[0m \u001b[0;34m\u001b[0m\u001b[0m\n\u001b[0;32m---> 57\u001b[0;31m         \u001b[0mself\u001b[0m\u001b[0;34m.\u001b[0m\u001b[0mselect_decision\u001b[0m\u001b[0;34m(\u001b[0m\u001b[0mdata_left\u001b[0m\u001b[0;34m)\u001b[0m\u001b[0;34m\u001b[0m\u001b[0;34m\u001b[0m\u001b[0m\n\u001b[0m\u001b[1;32m     58\u001b[0m         \u001b[0mself\u001b[0m\u001b[0;34m.\u001b[0m\u001b[0mselect_decision\u001b[0m\u001b[0;34m(\u001b[0m\u001b[0mdata_right\u001b[0m\u001b[0;34m)\u001b[0m\u001b[0;34m\u001b[0m\u001b[0;34m\u001b[0m\u001b[0m\n\u001b[1;32m     59\u001b[0m \u001b[0;34m\u001b[0m\u001b[0m\n",
      "\u001b[0;32m<ipython-input-29-58e91eca0dc1>\u001b[0m in \u001b[0;36mselect_decision\u001b[0;34m(self, data)\u001b[0m\n\u001b[1;32m     55\u001b[0m                 \u001b[0mbest_data_right\u001b[0m \u001b[0;34m=\u001b[0m \u001b[0mdata_right\u001b[0m\u001b[0;34m\u001b[0m\u001b[0;34m\u001b[0m\u001b[0m\n\u001b[1;32m     56\u001b[0m \u001b[0;34m\u001b[0m\u001b[0m\n\u001b[0;32m---> 57\u001b[0;31m         \u001b[0mself\u001b[0m\u001b[0;34m.\u001b[0m\u001b[0mselect_decision\u001b[0m\u001b[0;34m(\u001b[0m\u001b[0mdata_left\u001b[0m\u001b[0;34m)\u001b[0m\u001b[0;34m\u001b[0m\u001b[0;34m\u001b[0m\u001b[0m\n\u001b[0m\u001b[1;32m     58\u001b[0m         \u001b[0mself\u001b[0m\u001b[0;34m.\u001b[0m\u001b[0mselect_decision\u001b[0m\u001b[0;34m(\u001b[0m\u001b[0mdata_right\u001b[0m\u001b[0;34m)\u001b[0m\u001b[0;34m\u001b[0m\u001b[0;34m\u001b[0m\u001b[0m\n\u001b[1;32m     59\u001b[0m \u001b[0;34m\u001b[0m\u001b[0m\n",
      "\u001b[0;32m<ipython-input-29-58e91eca0dc1>\u001b[0m in \u001b[0;36mselect_decision\u001b[0;34m(self, data)\u001b[0m\n\u001b[1;32m     55\u001b[0m                 \u001b[0mbest_data_right\u001b[0m \u001b[0;34m=\u001b[0m \u001b[0mdata_right\u001b[0m\u001b[0;34m\u001b[0m\u001b[0;34m\u001b[0m\u001b[0m\n\u001b[1;32m     56\u001b[0m \u001b[0;34m\u001b[0m\u001b[0m\n\u001b[0;32m---> 57\u001b[0;31m         \u001b[0mself\u001b[0m\u001b[0;34m.\u001b[0m\u001b[0mselect_decision\u001b[0m\u001b[0;34m(\u001b[0m\u001b[0mdata_left\u001b[0m\u001b[0;34m)\u001b[0m\u001b[0;34m\u001b[0m\u001b[0;34m\u001b[0m\u001b[0m\n\u001b[0m\u001b[1;32m     58\u001b[0m         \u001b[0mself\u001b[0m\u001b[0;34m.\u001b[0m\u001b[0mselect_decision\u001b[0m\u001b[0;34m(\u001b[0m\u001b[0mdata_right\u001b[0m\u001b[0;34m)\u001b[0m\u001b[0;34m\u001b[0m\u001b[0;34m\u001b[0m\u001b[0m\n\u001b[1;32m     59\u001b[0m \u001b[0;34m\u001b[0m\u001b[0m\n",
      "\u001b[0;32m<ipython-input-29-58e91eca0dc1>\u001b[0m in \u001b[0;36mselect_decision\u001b[0;34m(self, data)\u001b[0m\n\u001b[1;32m     55\u001b[0m                 \u001b[0mbest_data_right\u001b[0m \u001b[0;34m=\u001b[0m \u001b[0mdata_right\u001b[0m\u001b[0;34m\u001b[0m\u001b[0;34m\u001b[0m\u001b[0m\n\u001b[1;32m     56\u001b[0m \u001b[0;34m\u001b[0m\u001b[0m\n\u001b[0;32m---> 57\u001b[0;31m         \u001b[0mself\u001b[0m\u001b[0;34m.\u001b[0m\u001b[0mselect_decision\u001b[0m\u001b[0;34m(\u001b[0m\u001b[0mdata_left\u001b[0m\u001b[0;34m)\u001b[0m\u001b[0;34m\u001b[0m\u001b[0;34m\u001b[0m\u001b[0m\n\u001b[0m\u001b[1;32m     58\u001b[0m         \u001b[0mself\u001b[0m\u001b[0;34m.\u001b[0m\u001b[0mselect_decision\u001b[0m\u001b[0;34m(\u001b[0m\u001b[0mdata_right\u001b[0m\u001b[0;34m)\u001b[0m\u001b[0;34m\u001b[0m\u001b[0;34m\u001b[0m\u001b[0m\n\u001b[1;32m     59\u001b[0m \u001b[0;34m\u001b[0m\u001b[0m\n",
      "\u001b[0;32m<ipython-input-29-58e91eca0dc1>\u001b[0m in \u001b[0;36mselect_decision\u001b[0;34m(self, data)\u001b[0m\n\u001b[1;32m     55\u001b[0m                 \u001b[0mbest_data_right\u001b[0m \u001b[0;34m=\u001b[0m \u001b[0mdata_right\u001b[0m\u001b[0;34m\u001b[0m\u001b[0;34m\u001b[0m\u001b[0m\n\u001b[1;32m     56\u001b[0m \u001b[0;34m\u001b[0m\u001b[0m\n\u001b[0;32m---> 57\u001b[0;31m         \u001b[0mself\u001b[0m\u001b[0;34m.\u001b[0m\u001b[0mselect_decision\u001b[0m\u001b[0;34m(\u001b[0m\u001b[0mdata_left\u001b[0m\u001b[0;34m)\u001b[0m\u001b[0;34m\u001b[0m\u001b[0;34m\u001b[0m\u001b[0m\n\u001b[0m\u001b[1;32m     58\u001b[0m         \u001b[0mself\u001b[0m\u001b[0;34m.\u001b[0m\u001b[0mselect_decision\u001b[0m\u001b[0;34m(\u001b[0m\u001b[0mdata_right\u001b[0m\u001b[0;34m)\u001b[0m\u001b[0;34m\u001b[0m\u001b[0;34m\u001b[0m\u001b[0m\n\u001b[1;32m     59\u001b[0m \u001b[0;34m\u001b[0m\u001b[0m\n",
      "\u001b[0;32m<ipython-input-29-58e91eca0dc1>\u001b[0m in \u001b[0;36mselect_decision\u001b[0;34m(self, data)\u001b[0m\n\u001b[1;32m     55\u001b[0m                 \u001b[0mbest_data_right\u001b[0m \u001b[0;34m=\u001b[0m \u001b[0mdata_right\u001b[0m\u001b[0;34m\u001b[0m\u001b[0;34m\u001b[0m\u001b[0m\n\u001b[1;32m     56\u001b[0m \u001b[0;34m\u001b[0m\u001b[0m\n\u001b[0;32m---> 57\u001b[0;31m         \u001b[0mself\u001b[0m\u001b[0;34m.\u001b[0m\u001b[0mselect_decision\u001b[0m\u001b[0;34m(\u001b[0m\u001b[0mdata_left\u001b[0m\u001b[0;34m)\u001b[0m\u001b[0;34m\u001b[0m\u001b[0;34m\u001b[0m\u001b[0m\n\u001b[0m\u001b[1;32m     58\u001b[0m         \u001b[0mself\u001b[0m\u001b[0;34m.\u001b[0m\u001b[0mselect_decision\u001b[0m\u001b[0;34m(\u001b[0m\u001b[0mdata_right\u001b[0m\u001b[0;34m)\u001b[0m\u001b[0;34m\u001b[0m\u001b[0;34m\u001b[0m\u001b[0m\n\u001b[1;32m     59\u001b[0m \u001b[0;34m\u001b[0m\u001b[0m\n",
      "\u001b[0;32m<ipython-input-29-58e91eca0dc1>\u001b[0m in \u001b[0;36mselect_decision\u001b[0;34m(self, data)\u001b[0m\n\u001b[1;32m     55\u001b[0m                 \u001b[0mbest_data_right\u001b[0m \u001b[0;34m=\u001b[0m \u001b[0mdata_right\u001b[0m\u001b[0;34m\u001b[0m\u001b[0;34m\u001b[0m\u001b[0m\n\u001b[1;32m     56\u001b[0m \u001b[0;34m\u001b[0m\u001b[0m\n\u001b[0;32m---> 57\u001b[0;31m         \u001b[0mself\u001b[0m\u001b[0;34m.\u001b[0m\u001b[0mselect_decision\u001b[0m\u001b[0;34m(\u001b[0m\u001b[0mdata_left\u001b[0m\u001b[0;34m)\u001b[0m\u001b[0;34m\u001b[0m\u001b[0;34m\u001b[0m\u001b[0m\n\u001b[0m\u001b[1;32m     58\u001b[0m         \u001b[0mself\u001b[0m\u001b[0;34m.\u001b[0m\u001b[0mselect_decision\u001b[0m\u001b[0;34m(\u001b[0m\u001b[0mdata_right\u001b[0m\u001b[0;34m)\u001b[0m\u001b[0;34m\u001b[0m\u001b[0;34m\u001b[0m\u001b[0m\n\u001b[1;32m     59\u001b[0m \u001b[0;34m\u001b[0m\u001b[0m\n",
      "\u001b[0;32m<ipython-input-29-58e91eca0dc1>\u001b[0m in \u001b[0;36mselect_decision\u001b[0;34m(self, data)\u001b[0m\n\u001b[1;32m     55\u001b[0m                 \u001b[0mbest_data_right\u001b[0m \u001b[0;34m=\u001b[0m \u001b[0mdata_right\u001b[0m\u001b[0;34m\u001b[0m\u001b[0;34m\u001b[0m\u001b[0m\n\u001b[1;32m     56\u001b[0m \u001b[0;34m\u001b[0m\u001b[0m\n\u001b[0;32m---> 57\u001b[0;31m         \u001b[0mself\u001b[0m\u001b[0;34m.\u001b[0m\u001b[0mselect_decision\u001b[0m\u001b[0;34m(\u001b[0m\u001b[0mdata_left\u001b[0m\u001b[0;34m)\u001b[0m\u001b[0;34m\u001b[0m\u001b[0;34m\u001b[0m\u001b[0m\n\u001b[0m\u001b[1;32m     58\u001b[0m         \u001b[0mself\u001b[0m\u001b[0;34m.\u001b[0m\u001b[0mselect_decision\u001b[0m\u001b[0;34m(\u001b[0m\u001b[0mdata_right\u001b[0m\u001b[0;34m)\u001b[0m\u001b[0;34m\u001b[0m\u001b[0;34m\u001b[0m\u001b[0m\n\u001b[1;32m     59\u001b[0m \u001b[0;34m\u001b[0m\u001b[0m\n",
      "\u001b[0;32m<ipython-input-29-58e91eca0dc1>\u001b[0m in \u001b[0;36mselect_decision\u001b[0;34m(self, data)\u001b[0m\n\u001b[1;32m     55\u001b[0m                 \u001b[0mbest_data_right\u001b[0m \u001b[0;34m=\u001b[0m \u001b[0mdata_right\u001b[0m\u001b[0;34m\u001b[0m\u001b[0;34m\u001b[0m\u001b[0m\n\u001b[1;32m     56\u001b[0m \u001b[0;34m\u001b[0m\u001b[0m\n\u001b[0;32m---> 57\u001b[0;31m         \u001b[0mself\u001b[0m\u001b[0;34m.\u001b[0m\u001b[0mselect_decision\u001b[0m\u001b[0;34m(\u001b[0m\u001b[0mdata_left\u001b[0m\u001b[0;34m)\u001b[0m\u001b[0;34m\u001b[0m\u001b[0;34m\u001b[0m\u001b[0m\n\u001b[0m\u001b[1;32m     58\u001b[0m         \u001b[0mself\u001b[0m\u001b[0;34m.\u001b[0m\u001b[0mselect_decision\u001b[0m\u001b[0;34m(\u001b[0m\u001b[0mdata_right\u001b[0m\u001b[0;34m)\u001b[0m\u001b[0;34m\u001b[0m\u001b[0;34m\u001b[0m\u001b[0m\n\u001b[1;32m     59\u001b[0m \u001b[0;34m\u001b[0m\u001b[0m\n",
      "\u001b[0;32m<ipython-input-29-58e91eca0dc1>\u001b[0m in \u001b[0;36mselect_decision\u001b[0;34m(self, data)\u001b[0m\n\u001b[1;32m     55\u001b[0m                 \u001b[0mbest_data_right\u001b[0m \u001b[0;34m=\u001b[0m \u001b[0mdata_right\u001b[0m\u001b[0;34m\u001b[0m\u001b[0;34m\u001b[0m\u001b[0m\n\u001b[1;32m     56\u001b[0m \u001b[0;34m\u001b[0m\u001b[0m\n\u001b[0;32m---> 57\u001b[0;31m         \u001b[0mself\u001b[0m\u001b[0;34m.\u001b[0m\u001b[0mselect_decision\u001b[0m\u001b[0;34m(\u001b[0m\u001b[0mdata_left\u001b[0m\u001b[0;34m)\u001b[0m\u001b[0;34m\u001b[0m\u001b[0;34m\u001b[0m\u001b[0m\n\u001b[0m\u001b[1;32m     58\u001b[0m         \u001b[0mself\u001b[0m\u001b[0;34m.\u001b[0m\u001b[0mselect_decision\u001b[0m\u001b[0;34m(\u001b[0m\u001b[0mdata_right\u001b[0m\u001b[0;34m)\u001b[0m\u001b[0;34m\u001b[0m\u001b[0;34m\u001b[0m\u001b[0m\n\u001b[1;32m     59\u001b[0m \u001b[0;34m\u001b[0m\u001b[0m\n",
      "\u001b[0;32m<ipython-input-29-58e91eca0dc1>\u001b[0m in \u001b[0;36mselect_decision\u001b[0;34m(self, data)\u001b[0m\n\u001b[1;32m     55\u001b[0m                 \u001b[0mbest_data_right\u001b[0m \u001b[0;34m=\u001b[0m \u001b[0mdata_right\u001b[0m\u001b[0;34m\u001b[0m\u001b[0;34m\u001b[0m\u001b[0m\n\u001b[1;32m     56\u001b[0m \u001b[0;34m\u001b[0m\u001b[0m\n\u001b[0;32m---> 57\u001b[0;31m         \u001b[0mself\u001b[0m\u001b[0;34m.\u001b[0m\u001b[0mselect_decision\u001b[0m\u001b[0;34m(\u001b[0m\u001b[0mdata_left\u001b[0m\u001b[0;34m)\u001b[0m\u001b[0;34m\u001b[0m\u001b[0;34m\u001b[0m\u001b[0m\n\u001b[0m\u001b[1;32m     58\u001b[0m         \u001b[0mself\u001b[0m\u001b[0;34m.\u001b[0m\u001b[0mselect_decision\u001b[0m\u001b[0;34m(\u001b[0m\u001b[0mdata_right\u001b[0m\u001b[0;34m)\u001b[0m\u001b[0;34m\u001b[0m\u001b[0;34m\u001b[0m\u001b[0m\n\u001b[1;32m     59\u001b[0m \u001b[0;34m\u001b[0m\u001b[0m\n",
      "\u001b[0;32m<ipython-input-29-58e91eca0dc1>\u001b[0m in \u001b[0;36mselect_decision\u001b[0;34m(self, data)\u001b[0m\n\u001b[1;32m     55\u001b[0m                 \u001b[0mbest_data_right\u001b[0m \u001b[0;34m=\u001b[0m \u001b[0mdata_right\u001b[0m\u001b[0;34m\u001b[0m\u001b[0;34m\u001b[0m\u001b[0m\n\u001b[1;32m     56\u001b[0m \u001b[0;34m\u001b[0m\u001b[0m\n\u001b[0;32m---> 57\u001b[0;31m         \u001b[0mself\u001b[0m\u001b[0;34m.\u001b[0m\u001b[0mselect_decision\u001b[0m\u001b[0;34m(\u001b[0m\u001b[0mdata_left\u001b[0m\u001b[0;34m)\u001b[0m\u001b[0;34m\u001b[0m\u001b[0;34m\u001b[0m\u001b[0m\n\u001b[0m\u001b[1;32m     58\u001b[0m         \u001b[0mself\u001b[0m\u001b[0;34m.\u001b[0m\u001b[0mselect_decision\u001b[0m\u001b[0;34m(\u001b[0m\u001b[0mdata_right\u001b[0m\u001b[0;34m)\u001b[0m\u001b[0;34m\u001b[0m\u001b[0;34m\u001b[0m\u001b[0m\n\u001b[1;32m     59\u001b[0m \u001b[0;34m\u001b[0m\u001b[0m\n",
      "\u001b[0;32m<ipython-input-29-58e91eca0dc1>\u001b[0m in \u001b[0;36mselect_decision\u001b[0;34m(self, data)\u001b[0m\n\u001b[1;32m     55\u001b[0m                 \u001b[0mbest_data_right\u001b[0m \u001b[0;34m=\u001b[0m \u001b[0mdata_right\u001b[0m\u001b[0;34m\u001b[0m\u001b[0;34m\u001b[0m\u001b[0m\n\u001b[1;32m     56\u001b[0m \u001b[0;34m\u001b[0m\u001b[0m\n\u001b[0;32m---> 57\u001b[0;31m         \u001b[0mself\u001b[0m\u001b[0;34m.\u001b[0m\u001b[0mselect_decision\u001b[0m\u001b[0;34m(\u001b[0m\u001b[0mdata_left\u001b[0m\u001b[0;34m)\u001b[0m\u001b[0;34m\u001b[0m\u001b[0;34m\u001b[0m\u001b[0m\n\u001b[0m\u001b[1;32m     58\u001b[0m         \u001b[0mself\u001b[0m\u001b[0;34m.\u001b[0m\u001b[0mselect_decision\u001b[0m\u001b[0;34m(\u001b[0m\u001b[0mdata_right\u001b[0m\u001b[0;34m)\u001b[0m\u001b[0;34m\u001b[0m\u001b[0;34m\u001b[0m\u001b[0m\n\u001b[1;32m     59\u001b[0m \u001b[0;34m\u001b[0m\u001b[0m\n",
      "\u001b[0;32m<ipython-input-29-58e91eca0dc1>\u001b[0m in \u001b[0;36mselect_decision\u001b[0;34m(self, data)\u001b[0m\n\u001b[1;32m     55\u001b[0m                 \u001b[0mbest_data_right\u001b[0m \u001b[0;34m=\u001b[0m \u001b[0mdata_right\u001b[0m\u001b[0;34m\u001b[0m\u001b[0;34m\u001b[0m\u001b[0m\n\u001b[1;32m     56\u001b[0m \u001b[0;34m\u001b[0m\u001b[0m\n\u001b[0;32m---> 57\u001b[0;31m         \u001b[0mself\u001b[0m\u001b[0;34m.\u001b[0m\u001b[0mselect_decision\u001b[0m\u001b[0;34m(\u001b[0m\u001b[0mdata_left\u001b[0m\u001b[0;34m)\u001b[0m\u001b[0;34m\u001b[0m\u001b[0;34m\u001b[0m\u001b[0m\n\u001b[0m\u001b[1;32m     58\u001b[0m         \u001b[0mself\u001b[0m\u001b[0;34m.\u001b[0m\u001b[0mselect_decision\u001b[0m\u001b[0;34m(\u001b[0m\u001b[0mdata_right\u001b[0m\u001b[0;34m)\u001b[0m\u001b[0;34m\u001b[0m\u001b[0;34m\u001b[0m\u001b[0m\n\u001b[1;32m     59\u001b[0m \u001b[0;34m\u001b[0m\u001b[0m\n",
      "\u001b[0;32m<ipython-input-29-58e91eca0dc1>\u001b[0m in \u001b[0;36mselect_decision\u001b[0;34m(self, data)\u001b[0m\n\u001b[1;32m     55\u001b[0m                 \u001b[0mbest_data_right\u001b[0m \u001b[0;34m=\u001b[0m \u001b[0mdata_right\u001b[0m\u001b[0;34m\u001b[0m\u001b[0;34m\u001b[0m\u001b[0m\n\u001b[1;32m     56\u001b[0m \u001b[0;34m\u001b[0m\u001b[0m\n\u001b[0;32m---> 57\u001b[0;31m         \u001b[0mself\u001b[0m\u001b[0;34m.\u001b[0m\u001b[0mselect_decision\u001b[0m\u001b[0;34m(\u001b[0m\u001b[0mdata_left\u001b[0m\u001b[0;34m)\u001b[0m\u001b[0;34m\u001b[0m\u001b[0;34m\u001b[0m\u001b[0m\n\u001b[0m\u001b[1;32m     58\u001b[0m         \u001b[0mself\u001b[0m\u001b[0;34m.\u001b[0m\u001b[0mselect_decision\u001b[0m\u001b[0;34m(\u001b[0m\u001b[0mdata_right\u001b[0m\u001b[0;34m)\u001b[0m\u001b[0;34m\u001b[0m\u001b[0;34m\u001b[0m\u001b[0m\n\u001b[1;32m     59\u001b[0m \u001b[0;34m\u001b[0m\u001b[0m\n",
      "\u001b[0;32m<ipython-input-29-58e91eca0dc1>\u001b[0m in \u001b[0;36mselect_decision\u001b[0;34m(self, data)\u001b[0m\n\u001b[1;32m     55\u001b[0m                 \u001b[0mbest_data_right\u001b[0m \u001b[0;34m=\u001b[0m \u001b[0mdata_right\u001b[0m\u001b[0;34m\u001b[0m\u001b[0;34m\u001b[0m\u001b[0m\n\u001b[1;32m     56\u001b[0m \u001b[0;34m\u001b[0m\u001b[0m\n\u001b[0;32m---> 57\u001b[0;31m         \u001b[0mself\u001b[0m\u001b[0;34m.\u001b[0m\u001b[0mselect_decision\u001b[0m\u001b[0;34m(\u001b[0m\u001b[0mdata_left\u001b[0m\u001b[0;34m)\u001b[0m\u001b[0;34m\u001b[0m\u001b[0;34m\u001b[0m\u001b[0m\n\u001b[0m\u001b[1;32m     58\u001b[0m         \u001b[0mself\u001b[0m\u001b[0;34m.\u001b[0m\u001b[0mselect_decision\u001b[0m\u001b[0;34m(\u001b[0m\u001b[0mdata_right\u001b[0m\u001b[0;34m)\u001b[0m\u001b[0;34m\u001b[0m\u001b[0;34m\u001b[0m\u001b[0m\n\u001b[1;32m     59\u001b[0m \u001b[0;34m\u001b[0m\u001b[0m\n",
      "\u001b[0;32m<ipython-input-29-58e91eca0dc1>\u001b[0m in \u001b[0;36mselect_decision\u001b[0;34m(self, data)\u001b[0m\n\u001b[1;32m     55\u001b[0m                 \u001b[0mbest_data_right\u001b[0m \u001b[0;34m=\u001b[0m \u001b[0mdata_right\u001b[0m\u001b[0;34m\u001b[0m\u001b[0;34m\u001b[0m\u001b[0m\n\u001b[1;32m     56\u001b[0m \u001b[0;34m\u001b[0m\u001b[0m\n\u001b[0;32m---> 57\u001b[0;31m         \u001b[0mself\u001b[0m\u001b[0;34m.\u001b[0m\u001b[0mselect_decision\u001b[0m\u001b[0;34m(\u001b[0m\u001b[0mdata_left\u001b[0m\u001b[0;34m)\u001b[0m\u001b[0;34m\u001b[0m\u001b[0;34m\u001b[0m\u001b[0m\n\u001b[0m\u001b[1;32m     58\u001b[0m         \u001b[0mself\u001b[0m\u001b[0;34m.\u001b[0m\u001b[0mselect_decision\u001b[0m\u001b[0;34m(\u001b[0m\u001b[0mdata_right\u001b[0m\u001b[0;34m)\u001b[0m\u001b[0;34m\u001b[0m\u001b[0;34m\u001b[0m\u001b[0m\n\u001b[1;32m     59\u001b[0m \u001b[0;34m\u001b[0m\u001b[0m\n",
      "\u001b[0;32m<ipython-input-29-58e91eca0dc1>\u001b[0m in \u001b[0;36mselect_decision\u001b[0;34m(self, data)\u001b[0m\n\u001b[1;32m     55\u001b[0m                 \u001b[0mbest_data_right\u001b[0m \u001b[0;34m=\u001b[0m \u001b[0mdata_right\u001b[0m\u001b[0;34m\u001b[0m\u001b[0;34m\u001b[0m\u001b[0m\n\u001b[1;32m     56\u001b[0m \u001b[0;34m\u001b[0m\u001b[0m\n\u001b[0;32m---> 57\u001b[0;31m         \u001b[0mself\u001b[0m\u001b[0;34m.\u001b[0m\u001b[0mselect_decision\u001b[0m\u001b[0;34m(\u001b[0m\u001b[0mdata_left\u001b[0m\u001b[0;34m)\u001b[0m\u001b[0;34m\u001b[0m\u001b[0;34m\u001b[0m\u001b[0m\n\u001b[0m\u001b[1;32m     58\u001b[0m         \u001b[0mself\u001b[0m\u001b[0;34m.\u001b[0m\u001b[0mselect_decision\u001b[0m\u001b[0;34m(\u001b[0m\u001b[0mdata_right\u001b[0m\u001b[0;34m)\u001b[0m\u001b[0;34m\u001b[0m\u001b[0;34m\u001b[0m\u001b[0m\n\u001b[1;32m     59\u001b[0m \u001b[0;34m\u001b[0m\u001b[0m\n",
      "\u001b[0;32m<ipython-input-29-58e91eca0dc1>\u001b[0m in \u001b[0;36mselect_decision\u001b[0;34m(self, data)\u001b[0m\n\u001b[1;32m     55\u001b[0m                 \u001b[0mbest_data_right\u001b[0m \u001b[0;34m=\u001b[0m \u001b[0mdata_right\u001b[0m\u001b[0;34m\u001b[0m\u001b[0;34m\u001b[0m\u001b[0m\n\u001b[1;32m     56\u001b[0m \u001b[0;34m\u001b[0m\u001b[0m\n\u001b[0;32m---> 57\u001b[0;31m         \u001b[0mself\u001b[0m\u001b[0;34m.\u001b[0m\u001b[0mselect_decision\u001b[0m\u001b[0;34m(\u001b[0m\u001b[0mdata_left\u001b[0m\u001b[0;34m)\u001b[0m\u001b[0;34m\u001b[0m\u001b[0;34m\u001b[0m\u001b[0m\n\u001b[0m\u001b[1;32m     58\u001b[0m         \u001b[0mself\u001b[0m\u001b[0;34m.\u001b[0m\u001b[0mselect_decision\u001b[0m\u001b[0;34m(\u001b[0m\u001b[0mdata_right\u001b[0m\u001b[0;34m)\u001b[0m\u001b[0;34m\u001b[0m\u001b[0;34m\u001b[0m\u001b[0m\n\u001b[1;32m     59\u001b[0m \u001b[0;34m\u001b[0m\u001b[0m\n",
      "\u001b[0;32m<ipython-input-29-58e91eca0dc1>\u001b[0m in \u001b[0;36mselect_decision\u001b[0;34m(self, data)\u001b[0m\n\u001b[1;32m     55\u001b[0m                 \u001b[0mbest_data_right\u001b[0m \u001b[0;34m=\u001b[0m \u001b[0mdata_right\u001b[0m\u001b[0;34m\u001b[0m\u001b[0;34m\u001b[0m\u001b[0m\n\u001b[1;32m     56\u001b[0m \u001b[0;34m\u001b[0m\u001b[0m\n\u001b[0;32m---> 57\u001b[0;31m         \u001b[0mself\u001b[0m\u001b[0;34m.\u001b[0m\u001b[0mselect_decision\u001b[0m\u001b[0;34m(\u001b[0m\u001b[0mdata_left\u001b[0m\u001b[0;34m)\u001b[0m\u001b[0;34m\u001b[0m\u001b[0;34m\u001b[0m\u001b[0m\n\u001b[0m\u001b[1;32m     58\u001b[0m         \u001b[0mself\u001b[0m\u001b[0;34m.\u001b[0m\u001b[0mselect_decision\u001b[0m\u001b[0;34m(\u001b[0m\u001b[0mdata_right\u001b[0m\u001b[0;34m)\u001b[0m\u001b[0;34m\u001b[0m\u001b[0;34m\u001b[0m\u001b[0m\n\u001b[1;32m     59\u001b[0m \u001b[0;34m\u001b[0m\u001b[0m\n",
      "\u001b[0;32m<ipython-input-29-58e91eca0dc1>\u001b[0m in \u001b[0;36mselect_decision\u001b[0;34m(self, data)\u001b[0m\n\u001b[1;32m     55\u001b[0m                 \u001b[0mbest_data_right\u001b[0m \u001b[0;34m=\u001b[0m \u001b[0mdata_right\u001b[0m\u001b[0;34m\u001b[0m\u001b[0;34m\u001b[0m\u001b[0m\n\u001b[1;32m     56\u001b[0m \u001b[0;34m\u001b[0m\u001b[0m\n\u001b[0;32m---> 57\u001b[0;31m         \u001b[0mself\u001b[0m\u001b[0;34m.\u001b[0m\u001b[0mselect_decision\u001b[0m\u001b[0;34m(\u001b[0m\u001b[0mdata_left\u001b[0m\u001b[0;34m)\u001b[0m\u001b[0;34m\u001b[0m\u001b[0;34m\u001b[0m\u001b[0m\n\u001b[0m\u001b[1;32m     58\u001b[0m         \u001b[0mself\u001b[0m\u001b[0;34m.\u001b[0m\u001b[0mselect_decision\u001b[0m\u001b[0;34m(\u001b[0m\u001b[0mdata_right\u001b[0m\u001b[0;34m)\u001b[0m\u001b[0;34m\u001b[0m\u001b[0;34m\u001b[0m\u001b[0m\n\u001b[1;32m     59\u001b[0m \u001b[0;34m\u001b[0m\u001b[0m\n",
      "\u001b[0;32m<ipython-input-29-58e91eca0dc1>\u001b[0m in \u001b[0;36mselect_decision\u001b[0;34m(self, data)\u001b[0m\n\u001b[1;32m     55\u001b[0m                 \u001b[0mbest_data_right\u001b[0m \u001b[0;34m=\u001b[0m \u001b[0mdata_right\u001b[0m\u001b[0;34m\u001b[0m\u001b[0;34m\u001b[0m\u001b[0m\n\u001b[1;32m     56\u001b[0m \u001b[0;34m\u001b[0m\u001b[0m\n\u001b[0;32m---> 57\u001b[0;31m         \u001b[0mself\u001b[0m\u001b[0;34m.\u001b[0m\u001b[0mselect_decision\u001b[0m\u001b[0;34m(\u001b[0m\u001b[0mdata_left\u001b[0m\u001b[0;34m)\u001b[0m\u001b[0;34m\u001b[0m\u001b[0;34m\u001b[0m\u001b[0m\n\u001b[0m\u001b[1;32m     58\u001b[0m         \u001b[0mself\u001b[0m\u001b[0;34m.\u001b[0m\u001b[0mselect_decision\u001b[0m\u001b[0;34m(\u001b[0m\u001b[0mdata_right\u001b[0m\u001b[0;34m)\u001b[0m\u001b[0;34m\u001b[0m\u001b[0;34m\u001b[0m\u001b[0m\n\u001b[1;32m     59\u001b[0m \u001b[0;34m\u001b[0m\u001b[0m\n",
      "\u001b[0;32m<ipython-input-29-58e91eca0dc1>\u001b[0m in \u001b[0;36mselect_decision\u001b[0;34m(self, data)\u001b[0m\n\u001b[1;32m     55\u001b[0m                 \u001b[0mbest_data_right\u001b[0m \u001b[0;34m=\u001b[0m \u001b[0mdata_right\u001b[0m\u001b[0;34m\u001b[0m\u001b[0;34m\u001b[0m\u001b[0m\n\u001b[1;32m     56\u001b[0m \u001b[0;34m\u001b[0m\u001b[0m\n\u001b[0;32m---> 57\u001b[0;31m         \u001b[0mself\u001b[0m\u001b[0;34m.\u001b[0m\u001b[0mselect_decision\u001b[0m\u001b[0;34m(\u001b[0m\u001b[0mdata_left\u001b[0m\u001b[0;34m)\u001b[0m\u001b[0;34m\u001b[0m\u001b[0;34m\u001b[0m\u001b[0m\n\u001b[0m\u001b[1;32m     58\u001b[0m         \u001b[0mself\u001b[0m\u001b[0;34m.\u001b[0m\u001b[0mselect_decision\u001b[0m\u001b[0;34m(\u001b[0m\u001b[0mdata_right\u001b[0m\u001b[0;34m)\u001b[0m\u001b[0;34m\u001b[0m\u001b[0;34m\u001b[0m\u001b[0m\n\u001b[1;32m     59\u001b[0m \u001b[0;34m\u001b[0m\u001b[0m\n",
      "\u001b[0;32m<ipython-input-29-58e91eca0dc1>\u001b[0m in \u001b[0;36mselect_decision\u001b[0;34m(self, data)\u001b[0m\n\u001b[1;32m     55\u001b[0m                 \u001b[0mbest_data_right\u001b[0m \u001b[0;34m=\u001b[0m \u001b[0mdata_right\u001b[0m\u001b[0;34m\u001b[0m\u001b[0;34m\u001b[0m\u001b[0m\n\u001b[1;32m     56\u001b[0m \u001b[0;34m\u001b[0m\u001b[0m\n\u001b[0;32m---> 57\u001b[0;31m         \u001b[0mself\u001b[0m\u001b[0;34m.\u001b[0m\u001b[0mselect_decision\u001b[0m\u001b[0;34m(\u001b[0m\u001b[0mdata_left\u001b[0m\u001b[0;34m)\u001b[0m\u001b[0;34m\u001b[0m\u001b[0;34m\u001b[0m\u001b[0m\n\u001b[0m\u001b[1;32m     58\u001b[0m         \u001b[0mself\u001b[0m\u001b[0;34m.\u001b[0m\u001b[0mselect_decision\u001b[0m\u001b[0;34m(\u001b[0m\u001b[0mdata_right\u001b[0m\u001b[0;34m)\u001b[0m\u001b[0;34m\u001b[0m\u001b[0;34m\u001b[0m\u001b[0m\n\u001b[1;32m     59\u001b[0m \u001b[0;34m\u001b[0m\u001b[0m\n",
      "\u001b[0;32m<ipython-input-29-58e91eca0dc1>\u001b[0m in \u001b[0;36mselect_decision\u001b[0;34m(self, data)\u001b[0m\n\u001b[1;32m     55\u001b[0m                 \u001b[0mbest_data_right\u001b[0m \u001b[0;34m=\u001b[0m \u001b[0mdata_right\u001b[0m\u001b[0;34m\u001b[0m\u001b[0;34m\u001b[0m\u001b[0m\n\u001b[1;32m     56\u001b[0m \u001b[0;34m\u001b[0m\u001b[0m\n\u001b[0;32m---> 57\u001b[0;31m         \u001b[0mself\u001b[0m\u001b[0;34m.\u001b[0m\u001b[0mselect_decision\u001b[0m\u001b[0;34m(\u001b[0m\u001b[0mdata_left\u001b[0m\u001b[0;34m)\u001b[0m\u001b[0;34m\u001b[0m\u001b[0;34m\u001b[0m\u001b[0m\n\u001b[0m\u001b[1;32m     58\u001b[0m         \u001b[0mself\u001b[0m\u001b[0;34m.\u001b[0m\u001b[0mselect_decision\u001b[0m\u001b[0;34m(\u001b[0m\u001b[0mdata_right\u001b[0m\u001b[0;34m)\u001b[0m\u001b[0;34m\u001b[0m\u001b[0;34m\u001b[0m\u001b[0m\n\u001b[1;32m     59\u001b[0m \u001b[0;34m\u001b[0m\u001b[0m\n",
      "\u001b[0;32m<ipython-input-29-58e91eca0dc1>\u001b[0m in \u001b[0;36mselect_decision\u001b[0;34m(self, data)\u001b[0m\n\u001b[1;32m     55\u001b[0m                 \u001b[0mbest_data_right\u001b[0m \u001b[0;34m=\u001b[0m \u001b[0mdata_right\u001b[0m\u001b[0;34m\u001b[0m\u001b[0;34m\u001b[0m\u001b[0m\n\u001b[1;32m     56\u001b[0m \u001b[0;34m\u001b[0m\u001b[0m\n\u001b[0;32m---> 57\u001b[0;31m         \u001b[0mself\u001b[0m\u001b[0;34m.\u001b[0m\u001b[0mselect_decision\u001b[0m\u001b[0;34m(\u001b[0m\u001b[0mdata_left\u001b[0m\u001b[0;34m)\u001b[0m\u001b[0;34m\u001b[0m\u001b[0;34m\u001b[0m\u001b[0m\n\u001b[0m\u001b[1;32m     58\u001b[0m         \u001b[0mself\u001b[0m\u001b[0;34m.\u001b[0m\u001b[0mselect_decision\u001b[0m\u001b[0;34m(\u001b[0m\u001b[0mdata_right\u001b[0m\u001b[0;34m)\u001b[0m\u001b[0;34m\u001b[0m\u001b[0;34m\u001b[0m\u001b[0m\n\u001b[1;32m     59\u001b[0m \u001b[0;34m\u001b[0m\u001b[0m\n",
      "\u001b[0;32m<ipython-input-29-58e91eca0dc1>\u001b[0m in \u001b[0;36mselect_decision\u001b[0;34m(self, data)\u001b[0m\n\u001b[1;32m     55\u001b[0m                 \u001b[0mbest_data_right\u001b[0m \u001b[0;34m=\u001b[0m \u001b[0mdata_right\u001b[0m\u001b[0;34m\u001b[0m\u001b[0;34m\u001b[0m\u001b[0m\n\u001b[1;32m     56\u001b[0m \u001b[0;34m\u001b[0m\u001b[0m\n\u001b[0;32m---> 57\u001b[0;31m         \u001b[0mself\u001b[0m\u001b[0;34m.\u001b[0m\u001b[0mselect_decision\u001b[0m\u001b[0;34m(\u001b[0m\u001b[0mdata_left\u001b[0m\u001b[0;34m)\u001b[0m\u001b[0;34m\u001b[0m\u001b[0;34m\u001b[0m\u001b[0m\n\u001b[0m\u001b[1;32m     58\u001b[0m         \u001b[0mself\u001b[0m\u001b[0;34m.\u001b[0m\u001b[0mselect_decision\u001b[0m\u001b[0;34m(\u001b[0m\u001b[0mdata_right\u001b[0m\u001b[0;34m)\u001b[0m\u001b[0;34m\u001b[0m\u001b[0;34m\u001b[0m\u001b[0m\n\u001b[1;32m     59\u001b[0m \u001b[0;34m\u001b[0m\u001b[0m\n",
      "\u001b[0;32m<ipython-input-29-58e91eca0dc1>\u001b[0m in \u001b[0;36mselect_decision\u001b[0;34m(self, data)\u001b[0m\n\u001b[1;32m     55\u001b[0m                 \u001b[0mbest_data_right\u001b[0m \u001b[0;34m=\u001b[0m \u001b[0mdata_right\u001b[0m\u001b[0;34m\u001b[0m\u001b[0;34m\u001b[0m\u001b[0m\n\u001b[1;32m     56\u001b[0m \u001b[0;34m\u001b[0m\u001b[0m\n\u001b[0;32m---> 57\u001b[0;31m         \u001b[0mself\u001b[0m\u001b[0;34m.\u001b[0m\u001b[0mselect_decision\u001b[0m\u001b[0;34m(\u001b[0m\u001b[0mdata_left\u001b[0m\u001b[0;34m)\u001b[0m\u001b[0;34m\u001b[0m\u001b[0;34m\u001b[0m\u001b[0m\n\u001b[0m\u001b[1;32m     58\u001b[0m         \u001b[0mself\u001b[0m\u001b[0;34m.\u001b[0m\u001b[0mselect_decision\u001b[0m\u001b[0;34m(\u001b[0m\u001b[0mdata_right\u001b[0m\u001b[0;34m)\u001b[0m\u001b[0;34m\u001b[0m\u001b[0;34m\u001b[0m\u001b[0m\n\u001b[1;32m     59\u001b[0m \u001b[0;34m\u001b[0m\u001b[0m\n",
      "\u001b[0;32m<ipython-input-29-58e91eca0dc1>\u001b[0m in \u001b[0;36mselect_decision\u001b[0;34m(self, data)\u001b[0m\n\u001b[1;32m     55\u001b[0m                 \u001b[0mbest_data_right\u001b[0m \u001b[0;34m=\u001b[0m \u001b[0mdata_right\u001b[0m\u001b[0;34m\u001b[0m\u001b[0;34m\u001b[0m\u001b[0m\n\u001b[1;32m     56\u001b[0m \u001b[0;34m\u001b[0m\u001b[0m\n\u001b[0;32m---> 57\u001b[0;31m         \u001b[0mself\u001b[0m\u001b[0;34m.\u001b[0m\u001b[0mselect_decision\u001b[0m\u001b[0;34m(\u001b[0m\u001b[0mdata_left\u001b[0m\u001b[0;34m)\u001b[0m\u001b[0;34m\u001b[0m\u001b[0;34m\u001b[0m\u001b[0m\n\u001b[0m\u001b[1;32m     58\u001b[0m         \u001b[0mself\u001b[0m\u001b[0;34m.\u001b[0m\u001b[0mselect_decision\u001b[0m\u001b[0;34m(\u001b[0m\u001b[0mdata_right\u001b[0m\u001b[0;34m)\u001b[0m\u001b[0;34m\u001b[0m\u001b[0;34m\u001b[0m\u001b[0m\n\u001b[1;32m     59\u001b[0m \u001b[0;34m\u001b[0m\u001b[0m\n",
      "\u001b[0;32m<ipython-input-29-58e91eca0dc1>\u001b[0m in \u001b[0;36mselect_decision\u001b[0;34m(self, data)\u001b[0m\n\u001b[1;32m     55\u001b[0m                 \u001b[0mbest_data_right\u001b[0m \u001b[0;34m=\u001b[0m \u001b[0mdata_right\u001b[0m\u001b[0;34m\u001b[0m\u001b[0;34m\u001b[0m\u001b[0m\n\u001b[1;32m     56\u001b[0m \u001b[0;34m\u001b[0m\u001b[0m\n\u001b[0;32m---> 57\u001b[0;31m         \u001b[0mself\u001b[0m\u001b[0;34m.\u001b[0m\u001b[0mselect_decision\u001b[0m\u001b[0;34m(\u001b[0m\u001b[0mdata_left\u001b[0m\u001b[0;34m)\u001b[0m\u001b[0;34m\u001b[0m\u001b[0;34m\u001b[0m\u001b[0m\n\u001b[0m\u001b[1;32m     58\u001b[0m         \u001b[0mself\u001b[0m\u001b[0;34m.\u001b[0m\u001b[0mselect_decision\u001b[0m\u001b[0;34m(\u001b[0m\u001b[0mdata_right\u001b[0m\u001b[0;34m)\u001b[0m\u001b[0;34m\u001b[0m\u001b[0;34m\u001b[0m\u001b[0m\n\u001b[1;32m     59\u001b[0m \u001b[0;34m\u001b[0m\u001b[0m\n",
      "\u001b[0;32m<ipython-input-29-58e91eca0dc1>\u001b[0m in \u001b[0;36mselect_decision\u001b[0;34m(self, data)\u001b[0m\n\u001b[1;32m     55\u001b[0m                 \u001b[0mbest_data_right\u001b[0m \u001b[0;34m=\u001b[0m \u001b[0mdata_right\u001b[0m\u001b[0;34m\u001b[0m\u001b[0;34m\u001b[0m\u001b[0m\n\u001b[1;32m     56\u001b[0m \u001b[0;34m\u001b[0m\u001b[0m\n\u001b[0;32m---> 57\u001b[0;31m         \u001b[0mself\u001b[0m\u001b[0;34m.\u001b[0m\u001b[0mselect_decision\u001b[0m\u001b[0;34m(\u001b[0m\u001b[0mdata_left\u001b[0m\u001b[0;34m)\u001b[0m\u001b[0;34m\u001b[0m\u001b[0;34m\u001b[0m\u001b[0m\n\u001b[0m\u001b[1;32m     58\u001b[0m         \u001b[0mself\u001b[0m\u001b[0;34m.\u001b[0m\u001b[0mselect_decision\u001b[0m\u001b[0;34m(\u001b[0m\u001b[0mdata_right\u001b[0m\u001b[0;34m)\u001b[0m\u001b[0;34m\u001b[0m\u001b[0;34m\u001b[0m\u001b[0m\n\u001b[1;32m     59\u001b[0m \u001b[0;34m\u001b[0m\u001b[0m\n",
      "\u001b[0;32m<ipython-input-29-58e91eca0dc1>\u001b[0m in \u001b[0;36mselect_decision\u001b[0;34m(self, data)\u001b[0m\n\u001b[1;32m     55\u001b[0m                 \u001b[0mbest_data_right\u001b[0m \u001b[0;34m=\u001b[0m \u001b[0mdata_right\u001b[0m\u001b[0;34m\u001b[0m\u001b[0;34m\u001b[0m\u001b[0m\n\u001b[1;32m     56\u001b[0m \u001b[0;34m\u001b[0m\u001b[0m\n\u001b[0;32m---> 57\u001b[0;31m         \u001b[0mself\u001b[0m\u001b[0;34m.\u001b[0m\u001b[0mselect_decision\u001b[0m\u001b[0;34m(\u001b[0m\u001b[0mdata_left\u001b[0m\u001b[0;34m)\u001b[0m\u001b[0;34m\u001b[0m\u001b[0;34m\u001b[0m\u001b[0m\n\u001b[0m\u001b[1;32m     58\u001b[0m         \u001b[0mself\u001b[0m\u001b[0;34m.\u001b[0m\u001b[0mselect_decision\u001b[0m\u001b[0;34m(\u001b[0m\u001b[0mdata_right\u001b[0m\u001b[0;34m)\u001b[0m\u001b[0;34m\u001b[0m\u001b[0;34m\u001b[0m\u001b[0m\n\u001b[1;32m     59\u001b[0m \u001b[0;34m\u001b[0m\u001b[0m\n",
      "\u001b[0;32m<ipython-input-29-58e91eca0dc1>\u001b[0m in \u001b[0;36mselect_decision\u001b[0;34m(self, data)\u001b[0m\n\u001b[1;32m     55\u001b[0m                 \u001b[0mbest_data_right\u001b[0m \u001b[0;34m=\u001b[0m \u001b[0mdata_right\u001b[0m\u001b[0;34m\u001b[0m\u001b[0;34m\u001b[0m\u001b[0m\n\u001b[1;32m     56\u001b[0m \u001b[0;34m\u001b[0m\u001b[0m\n\u001b[0;32m---> 57\u001b[0;31m         \u001b[0mself\u001b[0m\u001b[0;34m.\u001b[0m\u001b[0mselect_decision\u001b[0m\u001b[0;34m(\u001b[0m\u001b[0mdata_left\u001b[0m\u001b[0;34m)\u001b[0m\u001b[0;34m\u001b[0m\u001b[0;34m\u001b[0m\u001b[0m\n\u001b[0m\u001b[1;32m     58\u001b[0m         \u001b[0mself\u001b[0m\u001b[0;34m.\u001b[0m\u001b[0mselect_decision\u001b[0m\u001b[0;34m(\u001b[0m\u001b[0mdata_right\u001b[0m\u001b[0;34m)\u001b[0m\u001b[0;34m\u001b[0m\u001b[0;34m\u001b[0m\u001b[0m\n\u001b[1;32m     59\u001b[0m \u001b[0;34m\u001b[0m\u001b[0m\n",
      "\u001b[0;32m<ipython-input-29-58e91eca0dc1>\u001b[0m in \u001b[0;36mselect_decision\u001b[0;34m(self, data)\u001b[0m\n\u001b[1;32m     55\u001b[0m                 \u001b[0mbest_data_right\u001b[0m \u001b[0;34m=\u001b[0m \u001b[0mdata_right\u001b[0m\u001b[0;34m\u001b[0m\u001b[0;34m\u001b[0m\u001b[0m\n\u001b[1;32m     56\u001b[0m \u001b[0;34m\u001b[0m\u001b[0m\n\u001b[0;32m---> 57\u001b[0;31m         \u001b[0mself\u001b[0m\u001b[0;34m.\u001b[0m\u001b[0mselect_decision\u001b[0m\u001b[0;34m(\u001b[0m\u001b[0mdata_left\u001b[0m\u001b[0;34m)\u001b[0m\u001b[0;34m\u001b[0m\u001b[0;34m\u001b[0m\u001b[0m\n\u001b[0m\u001b[1;32m     58\u001b[0m         \u001b[0mself\u001b[0m\u001b[0;34m.\u001b[0m\u001b[0mselect_decision\u001b[0m\u001b[0;34m(\u001b[0m\u001b[0mdata_right\u001b[0m\u001b[0;34m)\u001b[0m\u001b[0;34m\u001b[0m\u001b[0;34m\u001b[0m\u001b[0m\n\u001b[1;32m     59\u001b[0m \u001b[0;34m\u001b[0m\u001b[0m\n",
      "\u001b[0;32m<ipython-input-29-58e91eca0dc1>\u001b[0m in \u001b[0;36mselect_decision\u001b[0;34m(self, data)\u001b[0m\n\u001b[1;32m     55\u001b[0m                 \u001b[0mbest_data_right\u001b[0m \u001b[0;34m=\u001b[0m \u001b[0mdata_right\u001b[0m\u001b[0;34m\u001b[0m\u001b[0;34m\u001b[0m\u001b[0m\n\u001b[1;32m     56\u001b[0m \u001b[0;34m\u001b[0m\u001b[0m\n\u001b[0;32m---> 57\u001b[0;31m         \u001b[0mself\u001b[0m\u001b[0;34m.\u001b[0m\u001b[0mselect_decision\u001b[0m\u001b[0;34m(\u001b[0m\u001b[0mdata_left\u001b[0m\u001b[0;34m)\u001b[0m\u001b[0;34m\u001b[0m\u001b[0;34m\u001b[0m\u001b[0m\n\u001b[0m\u001b[1;32m     58\u001b[0m         \u001b[0mself\u001b[0m\u001b[0;34m.\u001b[0m\u001b[0mselect_decision\u001b[0m\u001b[0;34m(\u001b[0m\u001b[0mdata_right\u001b[0m\u001b[0;34m)\u001b[0m\u001b[0;34m\u001b[0m\u001b[0;34m\u001b[0m\u001b[0m\n\u001b[1;32m     59\u001b[0m \u001b[0;34m\u001b[0m\u001b[0m\n",
      "\u001b[0;32m<ipython-input-29-58e91eca0dc1>\u001b[0m in \u001b[0;36mselect_decision\u001b[0;34m(self, data)\u001b[0m\n\u001b[1;32m     55\u001b[0m                 \u001b[0mbest_data_right\u001b[0m \u001b[0;34m=\u001b[0m \u001b[0mdata_right\u001b[0m\u001b[0;34m\u001b[0m\u001b[0;34m\u001b[0m\u001b[0m\n\u001b[1;32m     56\u001b[0m \u001b[0;34m\u001b[0m\u001b[0m\n\u001b[0;32m---> 57\u001b[0;31m         \u001b[0mself\u001b[0m\u001b[0;34m.\u001b[0m\u001b[0mselect_decision\u001b[0m\u001b[0;34m(\u001b[0m\u001b[0mdata_left\u001b[0m\u001b[0;34m)\u001b[0m\u001b[0;34m\u001b[0m\u001b[0;34m\u001b[0m\u001b[0m\n\u001b[0m\u001b[1;32m     58\u001b[0m         \u001b[0mself\u001b[0m\u001b[0;34m.\u001b[0m\u001b[0mselect_decision\u001b[0m\u001b[0;34m(\u001b[0m\u001b[0mdata_right\u001b[0m\u001b[0;34m)\u001b[0m\u001b[0;34m\u001b[0m\u001b[0;34m\u001b[0m\u001b[0m\n\u001b[1;32m     59\u001b[0m \u001b[0;34m\u001b[0m\u001b[0m\n",
      "\u001b[0;32m<ipython-input-29-58e91eca0dc1>\u001b[0m in \u001b[0;36mselect_decision\u001b[0;34m(self, data)\u001b[0m\n\u001b[1;32m     55\u001b[0m                 \u001b[0mbest_data_right\u001b[0m \u001b[0;34m=\u001b[0m \u001b[0mdata_right\u001b[0m\u001b[0;34m\u001b[0m\u001b[0;34m\u001b[0m\u001b[0m\n\u001b[1;32m     56\u001b[0m \u001b[0;34m\u001b[0m\u001b[0m\n\u001b[0;32m---> 57\u001b[0;31m         \u001b[0mself\u001b[0m\u001b[0;34m.\u001b[0m\u001b[0mselect_decision\u001b[0m\u001b[0;34m(\u001b[0m\u001b[0mdata_left\u001b[0m\u001b[0;34m)\u001b[0m\u001b[0;34m\u001b[0m\u001b[0;34m\u001b[0m\u001b[0m\n\u001b[0m\u001b[1;32m     58\u001b[0m         \u001b[0mself\u001b[0m\u001b[0;34m.\u001b[0m\u001b[0mselect_decision\u001b[0m\u001b[0;34m(\u001b[0m\u001b[0mdata_right\u001b[0m\u001b[0;34m)\u001b[0m\u001b[0;34m\u001b[0m\u001b[0;34m\u001b[0m\u001b[0m\n\u001b[1;32m     59\u001b[0m \u001b[0;34m\u001b[0m\u001b[0m\n",
      "\u001b[0;32m<ipython-input-29-58e91eca0dc1>\u001b[0m in \u001b[0;36mselect_decision\u001b[0;34m(self, data)\u001b[0m\n\u001b[1;32m     55\u001b[0m                 \u001b[0mbest_data_right\u001b[0m \u001b[0;34m=\u001b[0m \u001b[0mdata_right\u001b[0m\u001b[0;34m\u001b[0m\u001b[0;34m\u001b[0m\u001b[0m\n\u001b[1;32m     56\u001b[0m \u001b[0;34m\u001b[0m\u001b[0m\n\u001b[0;32m---> 57\u001b[0;31m         \u001b[0mself\u001b[0m\u001b[0;34m.\u001b[0m\u001b[0mselect_decision\u001b[0m\u001b[0;34m(\u001b[0m\u001b[0mdata_left\u001b[0m\u001b[0;34m)\u001b[0m\u001b[0;34m\u001b[0m\u001b[0;34m\u001b[0m\u001b[0m\n\u001b[0m\u001b[1;32m     58\u001b[0m         \u001b[0mself\u001b[0m\u001b[0;34m.\u001b[0m\u001b[0mselect_decision\u001b[0m\u001b[0;34m(\u001b[0m\u001b[0mdata_right\u001b[0m\u001b[0;34m)\u001b[0m\u001b[0;34m\u001b[0m\u001b[0;34m\u001b[0m\u001b[0m\n\u001b[1;32m     59\u001b[0m \u001b[0;34m\u001b[0m\u001b[0m\n",
      "\u001b[0;32m<ipython-input-29-58e91eca0dc1>\u001b[0m in \u001b[0;36mselect_decision\u001b[0;34m(self, data)\u001b[0m\n\u001b[1;32m     55\u001b[0m                 \u001b[0mbest_data_right\u001b[0m \u001b[0;34m=\u001b[0m \u001b[0mdata_right\u001b[0m\u001b[0;34m\u001b[0m\u001b[0;34m\u001b[0m\u001b[0m\n\u001b[1;32m     56\u001b[0m \u001b[0;34m\u001b[0m\u001b[0m\n\u001b[0;32m---> 57\u001b[0;31m         \u001b[0mself\u001b[0m\u001b[0;34m.\u001b[0m\u001b[0mselect_decision\u001b[0m\u001b[0;34m(\u001b[0m\u001b[0mdata_left\u001b[0m\u001b[0;34m)\u001b[0m\u001b[0;34m\u001b[0m\u001b[0;34m\u001b[0m\u001b[0m\n\u001b[0m\u001b[1;32m     58\u001b[0m         \u001b[0mself\u001b[0m\u001b[0;34m.\u001b[0m\u001b[0mselect_decision\u001b[0m\u001b[0;34m(\u001b[0m\u001b[0mdata_right\u001b[0m\u001b[0;34m)\u001b[0m\u001b[0;34m\u001b[0m\u001b[0;34m\u001b[0m\u001b[0m\n\u001b[1;32m     59\u001b[0m \u001b[0;34m\u001b[0m\u001b[0m\n",
      "\u001b[0;32m<ipython-input-29-58e91eca0dc1>\u001b[0m in \u001b[0;36mselect_decision\u001b[0;34m(self, data)\u001b[0m\n\u001b[1;32m     55\u001b[0m                 \u001b[0mbest_data_right\u001b[0m \u001b[0;34m=\u001b[0m \u001b[0mdata_right\u001b[0m\u001b[0;34m\u001b[0m\u001b[0;34m\u001b[0m\u001b[0m\n\u001b[1;32m     56\u001b[0m \u001b[0;34m\u001b[0m\u001b[0m\n\u001b[0;32m---> 57\u001b[0;31m         \u001b[0mself\u001b[0m\u001b[0;34m.\u001b[0m\u001b[0mselect_decision\u001b[0m\u001b[0;34m(\u001b[0m\u001b[0mdata_left\u001b[0m\u001b[0;34m)\u001b[0m\u001b[0;34m\u001b[0m\u001b[0;34m\u001b[0m\u001b[0m\n\u001b[0m\u001b[1;32m     58\u001b[0m         \u001b[0mself\u001b[0m\u001b[0;34m.\u001b[0m\u001b[0mselect_decision\u001b[0m\u001b[0;34m(\u001b[0m\u001b[0mdata_right\u001b[0m\u001b[0;34m)\u001b[0m\u001b[0;34m\u001b[0m\u001b[0;34m\u001b[0m\u001b[0m\n\u001b[1;32m     59\u001b[0m \u001b[0;34m\u001b[0m\u001b[0m\n",
      "\u001b[0;32m<ipython-input-29-58e91eca0dc1>\u001b[0m in \u001b[0;36mselect_decision\u001b[0;34m(self, data)\u001b[0m\n\u001b[1;32m     55\u001b[0m                 \u001b[0mbest_data_right\u001b[0m \u001b[0;34m=\u001b[0m \u001b[0mdata_right\u001b[0m\u001b[0;34m\u001b[0m\u001b[0;34m\u001b[0m\u001b[0m\n\u001b[1;32m     56\u001b[0m \u001b[0;34m\u001b[0m\u001b[0m\n\u001b[0;32m---> 57\u001b[0;31m         \u001b[0mself\u001b[0m\u001b[0;34m.\u001b[0m\u001b[0mselect_decision\u001b[0m\u001b[0;34m(\u001b[0m\u001b[0mdata_left\u001b[0m\u001b[0;34m)\u001b[0m\u001b[0;34m\u001b[0m\u001b[0;34m\u001b[0m\u001b[0m\n\u001b[0m\u001b[1;32m     58\u001b[0m         \u001b[0mself\u001b[0m\u001b[0;34m.\u001b[0m\u001b[0mselect_decision\u001b[0m\u001b[0;34m(\u001b[0m\u001b[0mdata_right\u001b[0m\u001b[0;34m)\u001b[0m\u001b[0;34m\u001b[0m\u001b[0;34m\u001b[0m\u001b[0m\n\u001b[1;32m     59\u001b[0m \u001b[0;34m\u001b[0m\u001b[0m\n",
      "\u001b[0;32m<ipython-input-29-58e91eca0dc1>\u001b[0m in \u001b[0;36mselect_decision\u001b[0;34m(self, data)\u001b[0m\n\u001b[1;32m     55\u001b[0m                 \u001b[0mbest_data_right\u001b[0m \u001b[0;34m=\u001b[0m \u001b[0mdata_right\u001b[0m\u001b[0;34m\u001b[0m\u001b[0;34m\u001b[0m\u001b[0m\n\u001b[1;32m     56\u001b[0m \u001b[0;34m\u001b[0m\u001b[0m\n\u001b[0;32m---> 57\u001b[0;31m         \u001b[0mself\u001b[0m\u001b[0;34m.\u001b[0m\u001b[0mselect_decision\u001b[0m\u001b[0;34m(\u001b[0m\u001b[0mdata_left\u001b[0m\u001b[0;34m)\u001b[0m\u001b[0;34m\u001b[0m\u001b[0;34m\u001b[0m\u001b[0m\n\u001b[0m\u001b[1;32m     58\u001b[0m         \u001b[0mself\u001b[0m\u001b[0;34m.\u001b[0m\u001b[0mselect_decision\u001b[0m\u001b[0;34m(\u001b[0m\u001b[0mdata_right\u001b[0m\u001b[0;34m)\u001b[0m\u001b[0;34m\u001b[0m\u001b[0;34m\u001b[0m\u001b[0m\n\u001b[1;32m     59\u001b[0m \u001b[0;34m\u001b[0m\u001b[0m\n",
      "\u001b[0;32m<ipython-input-29-58e91eca0dc1>\u001b[0m in \u001b[0;36mselect_decision\u001b[0;34m(self, data)\u001b[0m\n\u001b[1;32m     55\u001b[0m                 \u001b[0mbest_data_right\u001b[0m \u001b[0;34m=\u001b[0m \u001b[0mdata_right\u001b[0m\u001b[0;34m\u001b[0m\u001b[0;34m\u001b[0m\u001b[0m\n\u001b[1;32m     56\u001b[0m \u001b[0;34m\u001b[0m\u001b[0m\n\u001b[0;32m---> 57\u001b[0;31m         \u001b[0mself\u001b[0m\u001b[0;34m.\u001b[0m\u001b[0mselect_decision\u001b[0m\u001b[0;34m(\u001b[0m\u001b[0mdata_left\u001b[0m\u001b[0;34m)\u001b[0m\u001b[0;34m\u001b[0m\u001b[0;34m\u001b[0m\u001b[0m\n\u001b[0m\u001b[1;32m     58\u001b[0m         \u001b[0mself\u001b[0m\u001b[0;34m.\u001b[0m\u001b[0mselect_decision\u001b[0m\u001b[0;34m(\u001b[0m\u001b[0mdata_right\u001b[0m\u001b[0;34m)\u001b[0m\u001b[0;34m\u001b[0m\u001b[0;34m\u001b[0m\u001b[0m\n\u001b[1;32m     59\u001b[0m \u001b[0;34m\u001b[0m\u001b[0m\n",
      "\u001b[0;32m<ipython-input-29-58e91eca0dc1>\u001b[0m in \u001b[0;36mselect_decision\u001b[0;34m(self, data)\u001b[0m\n\u001b[1;32m     55\u001b[0m                 \u001b[0mbest_data_right\u001b[0m \u001b[0;34m=\u001b[0m \u001b[0mdata_right\u001b[0m\u001b[0;34m\u001b[0m\u001b[0;34m\u001b[0m\u001b[0m\n\u001b[1;32m     56\u001b[0m \u001b[0;34m\u001b[0m\u001b[0m\n\u001b[0;32m---> 57\u001b[0;31m         \u001b[0mself\u001b[0m\u001b[0;34m.\u001b[0m\u001b[0mselect_decision\u001b[0m\u001b[0;34m(\u001b[0m\u001b[0mdata_left\u001b[0m\u001b[0;34m)\u001b[0m\u001b[0;34m\u001b[0m\u001b[0;34m\u001b[0m\u001b[0m\n\u001b[0m\u001b[1;32m     58\u001b[0m         \u001b[0mself\u001b[0m\u001b[0;34m.\u001b[0m\u001b[0mselect_decision\u001b[0m\u001b[0;34m(\u001b[0m\u001b[0mdata_right\u001b[0m\u001b[0;34m)\u001b[0m\u001b[0;34m\u001b[0m\u001b[0;34m\u001b[0m\u001b[0m\n\u001b[1;32m     59\u001b[0m \u001b[0;34m\u001b[0m\u001b[0m\n",
      "\u001b[0;32m<ipython-input-29-58e91eca0dc1>\u001b[0m in \u001b[0;36mselect_decision\u001b[0;34m(self, data)\u001b[0m\n\u001b[1;32m     55\u001b[0m                 \u001b[0mbest_data_right\u001b[0m \u001b[0;34m=\u001b[0m \u001b[0mdata_right\u001b[0m\u001b[0;34m\u001b[0m\u001b[0;34m\u001b[0m\u001b[0m\n\u001b[1;32m     56\u001b[0m \u001b[0;34m\u001b[0m\u001b[0m\n\u001b[0;32m---> 57\u001b[0;31m         \u001b[0mself\u001b[0m\u001b[0;34m.\u001b[0m\u001b[0mselect_decision\u001b[0m\u001b[0;34m(\u001b[0m\u001b[0mdata_left\u001b[0m\u001b[0;34m)\u001b[0m\u001b[0;34m\u001b[0m\u001b[0;34m\u001b[0m\u001b[0m\n\u001b[0m\u001b[1;32m     58\u001b[0m         \u001b[0mself\u001b[0m\u001b[0;34m.\u001b[0m\u001b[0mselect_decision\u001b[0m\u001b[0;34m(\u001b[0m\u001b[0mdata_right\u001b[0m\u001b[0;34m)\u001b[0m\u001b[0;34m\u001b[0m\u001b[0;34m\u001b[0m\u001b[0m\n\u001b[1;32m     59\u001b[0m \u001b[0;34m\u001b[0m\u001b[0m\n",
      "\u001b[0;32m<ipython-input-29-58e91eca0dc1>\u001b[0m in \u001b[0;36mselect_decision\u001b[0;34m(self, data)\u001b[0m\n\u001b[1;32m     55\u001b[0m                 \u001b[0mbest_data_right\u001b[0m \u001b[0;34m=\u001b[0m \u001b[0mdata_right\u001b[0m\u001b[0;34m\u001b[0m\u001b[0;34m\u001b[0m\u001b[0m\n\u001b[1;32m     56\u001b[0m \u001b[0;34m\u001b[0m\u001b[0m\n\u001b[0;32m---> 57\u001b[0;31m         \u001b[0mself\u001b[0m\u001b[0;34m.\u001b[0m\u001b[0mselect_decision\u001b[0m\u001b[0;34m(\u001b[0m\u001b[0mdata_left\u001b[0m\u001b[0;34m)\u001b[0m\u001b[0;34m\u001b[0m\u001b[0;34m\u001b[0m\u001b[0m\n\u001b[0m\u001b[1;32m     58\u001b[0m         \u001b[0mself\u001b[0m\u001b[0;34m.\u001b[0m\u001b[0mselect_decision\u001b[0m\u001b[0;34m(\u001b[0m\u001b[0mdata_right\u001b[0m\u001b[0;34m)\u001b[0m\u001b[0;34m\u001b[0m\u001b[0;34m\u001b[0m\u001b[0m\n\u001b[1;32m     59\u001b[0m \u001b[0;34m\u001b[0m\u001b[0m\n",
      "\u001b[0;32m<ipython-input-29-58e91eca0dc1>\u001b[0m in \u001b[0;36mselect_decision\u001b[0;34m(self, data)\u001b[0m\n\u001b[1;32m     55\u001b[0m                 \u001b[0mbest_data_right\u001b[0m \u001b[0;34m=\u001b[0m \u001b[0mdata_right\u001b[0m\u001b[0;34m\u001b[0m\u001b[0;34m\u001b[0m\u001b[0m\n\u001b[1;32m     56\u001b[0m \u001b[0;34m\u001b[0m\u001b[0m\n\u001b[0;32m---> 57\u001b[0;31m         \u001b[0mself\u001b[0m\u001b[0;34m.\u001b[0m\u001b[0mselect_decision\u001b[0m\u001b[0;34m(\u001b[0m\u001b[0mdata_left\u001b[0m\u001b[0;34m)\u001b[0m\u001b[0;34m\u001b[0m\u001b[0;34m\u001b[0m\u001b[0m\n\u001b[0m\u001b[1;32m     58\u001b[0m         \u001b[0mself\u001b[0m\u001b[0;34m.\u001b[0m\u001b[0mselect_decision\u001b[0m\u001b[0;34m(\u001b[0m\u001b[0mdata_right\u001b[0m\u001b[0;34m)\u001b[0m\u001b[0;34m\u001b[0m\u001b[0;34m\u001b[0m\u001b[0m\n\u001b[1;32m     59\u001b[0m \u001b[0;34m\u001b[0m\u001b[0m\n",
      "\u001b[0;32m<ipython-input-29-58e91eca0dc1>\u001b[0m in \u001b[0;36mselect_decision\u001b[0;34m(self, data)\u001b[0m\n\u001b[1;32m     55\u001b[0m                 \u001b[0mbest_data_right\u001b[0m \u001b[0;34m=\u001b[0m \u001b[0mdata_right\u001b[0m\u001b[0;34m\u001b[0m\u001b[0;34m\u001b[0m\u001b[0m\n\u001b[1;32m     56\u001b[0m \u001b[0;34m\u001b[0m\u001b[0m\n\u001b[0;32m---> 57\u001b[0;31m         \u001b[0mself\u001b[0m\u001b[0;34m.\u001b[0m\u001b[0mselect_decision\u001b[0m\u001b[0;34m(\u001b[0m\u001b[0mdata_left\u001b[0m\u001b[0;34m)\u001b[0m\u001b[0;34m\u001b[0m\u001b[0;34m\u001b[0m\u001b[0m\n\u001b[0m\u001b[1;32m     58\u001b[0m         \u001b[0mself\u001b[0m\u001b[0;34m.\u001b[0m\u001b[0mselect_decision\u001b[0m\u001b[0;34m(\u001b[0m\u001b[0mdata_right\u001b[0m\u001b[0;34m)\u001b[0m\u001b[0;34m\u001b[0m\u001b[0;34m\u001b[0m\u001b[0m\n\u001b[1;32m     59\u001b[0m \u001b[0;34m\u001b[0m\u001b[0m\n",
      "\u001b[0;32m<ipython-input-29-58e91eca0dc1>\u001b[0m in \u001b[0;36mselect_decision\u001b[0;34m(self, data)\u001b[0m\n\u001b[1;32m     55\u001b[0m                 \u001b[0mbest_data_right\u001b[0m \u001b[0;34m=\u001b[0m \u001b[0mdata_right\u001b[0m\u001b[0;34m\u001b[0m\u001b[0;34m\u001b[0m\u001b[0m\n\u001b[1;32m     56\u001b[0m \u001b[0;34m\u001b[0m\u001b[0m\n\u001b[0;32m---> 57\u001b[0;31m         \u001b[0mself\u001b[0m\u001b[0;34m.\u001b[0m\u001b[0mselect_decision\u001b[0m\u001b[0;34m(\u001b[0m\u001b[0mdata_left\u001b[0m\u001b[0;34m)\u001b[0m\u001b[0;34m\u001b[0m\u001b[0;34m\u001b[0m\u001b[0m\n\u001b[0m\u001b[1;32m     58\u001b[0m         \u001b[0mself\u001b[0m\u001b[0;34m.\u001b[0m\u001b[0mselect_decision\u001b[0m\u001b[0;34m(\u001b[0m\u001b[0mdata_right\u001b[0m\u001b[0;34m)\u001b[0m\u001b[0;34m\u001b[0m\u001b[0;34m\u001b[0m\u001b[0m\n\u001b[1;32m     59\u001b[0m \u001b[0;34m\u001b[0m\u001b[0m\n",
      "\u001b[0;32m<ipython-input-29-58e91eca0dc1>\u001b[0m in \u001b[0;36mselect_decision\u001b[0;34m(self, data)\u001b[0m\n\u001b[1;32m     55\u001b[0m                 \u001b[0mbest_data_right\u001b[0m \u001b[0;34m=\u001b[0m \u001b[0mdata_right\u001b[0m\u001b[0;34m\u001b[0m\u001b[0;34m\u001b[0m\u001b[0m\n\u001b[1;32m     56\u001b[0m \u001b[0;34m\u001b[0m\u001b[0m\n\u001b[0;32m---> 57\u001b[0;31m         \u001b[0mself\u001b[0m\u001b[0;34m.\u001b[0m\u001b[0mselect_decision\u001b[0m\u001b[0;34m(\u001b[0m\u001b[0mdata_left\u001b[0m\u001b[0;34m)\u001b[0m\u001b[0;34m\u001b[0m\u001b[0;34m\u001b[0m\u001b[0m\n\u001b[0m\u001b[1;32m     58\u001b[0m         \u001b[0mself\u001b[0m\u001b[0;34m.\u001b[0m\u001b[0mselect_decision\u001b[0m\u001b[0;34m(\u001b[0m\u001b[0mdata_right\u001b[0m\u001b[0;34m)\u001b[0m\u001b[0;34m\u001b[0m\u001b[0;34m\u001b[0m\u001b[0m\n\u001b[1;32m     59\u001b[0m \u001b[0;34m\u001b[0m\u001b[0m\n",
      "\u001b[0;32m<ipython-input-29-58e91eca0dc1>\u001b[0m in \u001b[0;36mselect_decision\u001b[0;34m(self, data)\u001b[0m\n\u001b[1;32m     55\u001b[0m                 \u001b[0mbest_data_right\u001b[0m \u001b[0;34m=\u001b[0m \u001b[0mdata_right\u001b[0m\u001b[0;34m\u001b[0m\u001b[0;34m\u001b[0m\u001b[0m\n\u001b[1;32m     56\u001b[0m \u001b[0;34m\u001b[0m\u001b[0m\n\u001b[0;32m---> 57\u001b[0;31m         \u001b[0mself\u001b[0m\u001b[0;34m.\u001b[0m\u001b[0mselect_decision\u001b[0m\u001b[0;34m(\u001b[0m\u001b[0mdata_left\u001b[0m\u001b[0;34m)\u001b[0m\u001b[0;34m\u001b[0m\u001b[0;34m\u001b[0m\u001b[0m\n\u001b[0m\u001b[1;32m     58\u001b[0m         \u001b[0mself\u001b[0m\u001b[0;34m.\u001b[0m\u001b[0mselect_decision\u001b[0m\u001b[0;34m(\u001b[0m\u001b[0mdata_right\u001b[0m\u001b[0;34m)\u001b[0m\u001b[0;34m\u001b[0m\u001b[0;34m\u001b[0m\u001b[0m\n\u001b[1;32m     59\u001b[0m \u001b[0;34m\u001b[0m\u001b[0m\n",
      "\u001b[0;32m<ipython-input-29-58e91eca0dc1>\u001b[0m in \u001b[0;36mselect_decision\u001b[0;34m(self, data)\u001b[0m\n\u001b[1;32m     55\u001b[0m                 \u001b[0mbest_data_right\u001b[0m \u001b[0;34m=\u001b[0m \u001b[0mdata_right\u001b[0m\u001b[0;34m\u001b[0m\u001b[0;34m\u001b[0m\u001b[0m\n\u001b[1;32m     56\u001b[0m \u001b[0;34m\u001b[0m\u001b[0m\n\u001b[0;32m---> 57\u001b[0;31m         \u001b[0mself\u001b[0m\u001b[0;34m.\u001b[0m\u001b[0mselect_decision\u001b[0m\u001b[0;34m(\u001b[0m\u001b[0mdata_left\u001b[0m\u001b[0;34m)\u001b[0m\u001b[0;34m\u001b[0m\u001b[0;34m\u001b[0m\u001b[0m\n\u001b[0m\u001b[1;32m     58\u001b[0m         \u001b[0mself\u001b[0m\u001b[0;34m.\u001b[0m\u001b[0mselect_decision\u001b[0m\u001b[0;34m(\u001b[0m\u001b[0mdata_right\u001b[0m\u001b[0;34m)\u001b[0m\u001b[0;34m\u001b[0m\u001b[0;34m\u001b[0m\u001b[0m\n\u001b[1;32m     59\u001b[0m \u001b[0;34m\u001b[0m\u001b[0m\n",
      "\u001b[0;32m<ipython-input-29-58e91eca0dc1>\u001b[0m in \u001b[0;36mselect_decision\u001b[0;34m(self, data)\u001b[0m\n\u001b[1;32m     55\u001b[0m                 \u001b[0mbest_data_right\u001b[0m \u001b[0;34m=\u001b[0m \u001b[0mdata_right\u001b[0m\u001b[0;34m\u001b[0m\u001b[0;34m\u001b[0m\u001b[0m\n\u001b[1;32m     56\u001b[0m \u001b[0;34m\u001b[0m\u001b[0m\n\u001b[0;32m---> 57\u001b[0;31m         \u001b[0mself\u001b[0m\u001b[0;34m.\u001b[0m\u001b[0mselect_decision\u001b[0m\u001b[0;34m(\u001b[0m\u001b[0mdata_left\u001b[0m\u001b[0;34m)\u001b[0m\u001b[0;34m\u001b[0m\u001b[0;34m\u001b[0m\u001b[0m\n\u001b[0m\u001b[1;32m     58\u001b[0m         \u001b[0mself\u001b[0m\u001b[0;34m.\u001b[0m\u001b[0mselect_decision\u001b[0m\u001b[0;34m(\u001b[0m\u001b[0mdata_right\u001b[0m\u001b[0;34m)\u001b[0m\u001b[0;34m\u001b[0m\u001b[0;34m\u001b[0m\u001b[0m\n\u001b[1;32m     59\u001b[0m \u001b[0;34m\u001b[0m\u001b[0m\n",
      "\u001b[0;32m<ipython-input-29-58e91eca0dc1>\u001b[0m in \u001b[0;36mselect_decision\u001b[0;34m(self, data)\u001b[0m\n\u001b[1;32m     55\u001b[0m                 \u001b[0mbest_data_right\u001b[0m \u001b[0;34m=\u001b[0m \u001b[0mdata_right\u001b[0m\u001b[0;34m\u001b[0m\u001b[0;34m\u001b[0m\u001b[0m\n\u001b[1;32m     56\u001b[0m \u001b[0;34m\u001b[0m\u001b[0m\n\u001b[0;32m---> 57\u001b[0;31m         \u001b[0mself\u001b[0m\u001b[0;34m.\u001b[0m\u001b[0mselect_decision\u001b[0m\u001b[0;34m(\u001b[0m\u001b[0mdata_left\u001b[0m\u001b[0;34m)\u001b[0m\u001b[0;34m\u001b[0m\u001b[0;34m\u001b[0m\u001b[0m\n\u001b[0m\u001b[1;32m     58\u001b[0m         \u001b[0mself\u001b[0m\u001b[0;34m.\u001b[0m\u001b[0mselect_decision\u001b[0m\u001b[0;34m(\u001b[0m\u001b[0mdata_right\u001b[0m\u001b[0;34m)\u001b[0m\u001b[0;34m\u001b[0m\u001b[0;34m\u001b[0m\u001b[0m\n\u001b[1;32m     59\u001b[0m \u001b[0;34m\u001b[0m\u001b[0m\n",
      "\u001b[0;32m<ipython-input-29-58e91eca0dc1>\u001b[0m in \u001b[0;36mselect_decision\u001b[0;34m(self, data)\u001b[0m\n\u001b[1;32m     55\u001b[0m                 \u001b[0mbest_data_right\u001b[0m \u001b[0;34m=\u001b[0m \u001b[0mdata_right\u001b[0m\u001b[0;34m\u001b[0m\u001b[0;34m\u001b[0m\u001b[0m\n\u001b[1;32m     56\u001b[0m \u001b[0;34m\u001b[0m\u001b[0m\n\u001b[0;32m---> 57\u001b[0;31m         \u001b[0mself\u001b[0m\u001b[0;34m.\u001b[0m\u001b[0mselect_decision\u001b[0m\u001b[0;34m(\u001b[0m\u001b[0mdata_left\u001b[0m\u001b[0;34m)\u001b[0m\u001b[0;34m\u001b[0m\u001b[0;34m\u001b[0m\u001b[0m\n\u001b[0m\u001b[1;32m     58\u001b[0m         \u001b[0mself\u001b[0m\u001b[0;34m.\u001b[0m\u001b[0mselect_decision\u001b[0m\u001b[0;34m(\u001b[0m\u001b[0mdata_right\u001b[0m\u001b[0;34m)\u001b[0m\u001b[0;34m\u001b[0m\u001b[0;34m\u001b[0m\u001b[0m\n\u001b[1;32m     59\u001b[0m \u001b[0;34m\u001b[0m\u001b[0m\n",
      "\u001b[0;32m<ipython-input-29-58e91eca0dc1>\u001b[0m in \u001b[0;36mselect_decision\u001b[0;34m(self, data)\u001b[0m\n\u001b[1;32m     55\u001b[0m                 \u001b[0mbest_data_right\u001b[0m \u001b[0;34m=\u001b[0m \u001b[0mdata_right\u001b[0m\u001b[0;34m\u001b[0m\u001b[0;34m\u001b[0m\u001b[0m\n\u001b[1;32m     56\u001b[0m \u001b[0;34m\u001b[0m\u001b[0m\n\u001b[0;32m---> 57\u001b[0;31m         \u001b[0mself\u001b[0m\u001b[0;34m.\u001b[0m\u001b[0mselect_decision\u001b[0m\u001b[0;34m(\u001b[0m\u001b[0mdata_left\u001b[0m\u001b[0;34m)\u001b[0m\u001b[0;34m\u001b[0m\u001b[0;34m\u001b[0m\u001b[0m\n\u001b[0m\u001b[1;32m     58\u001b[0m         \u001b[0mself\u001b[0m\u001b[0;34m.\u001b[0m\u001b[0mselect_decision\u001b[0m\u001b[0;34m(\u001b[0m\u001b[0mdata_right\u001b[0m\u001b[0;34m)\u001b[0m\u001b[0;34m\u001b[0m\u001b[0;34m\u001b[0m\u001b[0m\n\u001b[1;32m     59\u001b[0m \u001b[0;34m\u001b[0m\u001b[0m\n",
      "\u001b[0;32m<ipython-input-29-58e91eca0dc1>\u001b[0m in \u001b[0;36mselect_decision\u001b[0;34m(self, data)\u001b[0m\n\u001b[1;32m     55\u001b[0m                 \u001b[0mbest_data_right\u001b[0m \u001b[0;34m=\u001b[0m \u001b[0mdata_right\u001b[0m\u001b[0;34m\u001b[0m\u001b[0;34m\u001b[0m\u001b[0m\n\u001b[1;32m     56\u001b[0m \u001b[0;34m\u001b[0m\u001b[0m\n\u001b[0;32m---> 57\u001b[0;31m         \u001b[0mself\u001b[0m\u001b[0;34m.\u001b[0m\u001b[0mselect_decision\u001b[0m\u001b[0;34m(\u001b[0m\u001b[0mdata_left\u001b[0m\u001b[0;34m)\u001b[0m\u001b[0;34m\u001b[0m\u001b[0;34m\u001b[0m\u001b[0m\n\u001b[0m\u001b[1;32m     58\u001b[0m         \u001b[0mself\u001b[0m\u001b[0;34m.\u001b[0m\u001b[0mselect_decision\u001b[0m\u001b[0;34m(\u001b[0m\u001b[0mdata_right\u001b[0m\u001b[0;34m)\u001b[0m\u001b[0;34m\u001b[0m\u001b[0;34m\u001b[0m\u001b[0m\n\u001b[1;32m     59\u001b[0m \u001b[0;34m\u001b[0m\u001b[0m\n",
      "\u001b[0;32m<ipython-input-29-58e91eca0dc1>\u001b[0m in \u001b[0;36mselect_decision\u001b[0;34m(self, data)\u001b[0m\n\u001b[1;32m     55\u001b[0m                 \u001b[0mbest_data_right\u001b[0m \u001b[0;34m=\u001b[0m \u001b[0mdata_right\u001b[0m\u001b[0;34m\u001b[0m\u001b[0;34m\u001b[0m\u001b[0m\n\u001b[1;32m     56\u001b[0m \u001b[0;34m\u001b[0m\u001b[0m\n\u001b[0;32m---> 57\u001b[0;31m         \u001b[0mself\u001b[0m\u001b[0;34m.\u001b[0m\u001b[0mselect_decision\u001b[0m\u001b[0;34m(\u001b[0m\u001b[0mdata_left\u001b[0m\u001b[0;34m)\u001b[0m\u001b[0;34m\u001b[0m\u001b[0;34m\u001b[0m\u001b[0m\n\u001b[0m\u001b[1;32m     58\u001b[0m         \u001b[0mself\u001b[0m\u001b[0;34m.\u001b[0m\u001b[0mselect_decision\u001b[0m\u001b[0;34m(\u001b[0m\u001b[0mdata_right\u001b[0m\u001b[0;34m)\u001b[0m\u001b[0;34m\u001b[0m\u001b[0;34m\u001b[0m\u001b[0m\n\u001b[1;32m     59\u001b[0m \u001b[0;34m\u001b[0m\u001b[0m\n",
      "\u001b[0;32m<ipython-input-29-58e91eca0dc1>\u001b[0m in \u001b[0;36mselect_decision\u001b[0;34m(self, data)\u001b[0m\n\u001b[1;32m     55\u001b[0m                 \u001b[0mbest_data_right\u001b[0m \u001b[0;34m=\u001b[0m \u001b[0mdata_right\u001b[0m\u001b[0;34m\u001b[0m\u001b[0;34m\u001b[0m\u001b[0m\n\u001b[1;32m     56\u001b[0m \u001b[0;34m\u001b[0m\u001b[0m\n\u001b[0;32m---> 57\u001b[0;31m         \u001b[0mself\u001b[0m\u001b[0;34m.\u001b[0m\u001b[0mselect_decision\u001b[0m\u001b[0;34m(\u001b[0m\u001b[0mdata_left\u001b[0m\u001b[0;34m)\u001b[0m\u001b[0;34m\u001b[0m\u001b[0;34m\u001b[0m\u001b[0m\n\u001b[0m\u001b[1;32m     58\u001b[0m         \u001b[0mself\u001b[0m\u001b[0;34m.\u001b[0m\u001b[0mselect_decision\u001b[0m\u001b[0;34m(\u001b[0m\u001b[0mdata_right\u001b[0m\u001b[0;34m)\u001b[0m\u001b[0;34m\u001b[0m\u001b[0;34m\u001b[0m\u001b[0m\n\u001b[1;32m     59\u001b[0m \u001b[0;34m\u001b[0m\u001b[0m\n",
      "\u001b[0;32m<ipython-input-29-58e91eca0dc1>\u001b[0m in \u001b[0;36mselect_decision\u001b[0;34m(self, data)\u001b[0m\n\u001b[1;32m     55\u001b[0m                 \u001b[0mbest_data_right\u001b[0m \u001b[0;34m=\u001b[0m \u001b[0mdata_right\u001b[0m\u001b[0;34m\u001b[0m\u001b[0;34m\u001b[0m\u001b[0m\n\u001b[1;32m     56\u001b[0m \u001b[0;34m\u001b[0m\u001b[0m\n\u001b[0;32m---> 57\u001b[0;31m         \u001b[0mself\u001b[0m\u001b[0;34m.\u001b[0m\u001b[0mselect_decision\u001b[0m\u001b[0;34m(\u001b[0m\u001b[0mdata_left\u001b[0m\u001b[0;34m)\u001b[0m\u001b[0;34m\u001b[0m\u001b[0;34m\u001b[0m\u001b[0m\n\u001b[0m\u001b[1;32m     58\u001b[0m         \u001b[0mself\u001b[0m\u001b[0;34m.\u001b[0m\u001b[0mselect_decision\u001b[0m\u001b[0;34m(\u001b[0m\u001b[0mdata_right\u001b[0m\u001b[0;34m)\u001b[0m\u001b[0;34m\u001b[0m\u001b[0;34m\u001b[0m\u001b[0m\n\u001b[1;32m     59\u001b[0m \u001b[0;34m\u001b[0m\u001b[0m\n",
      "\u001b[0;32m<ipython-input-29-58e91eca0dc1>\u001b[0m in \u001b[0;36mselect_decision\u001b[0;34m(self, data)\u001b[0m\n\u001b[1;32m     55\u001b[0m                 \u001b[0mbest_data_right\u001b[0m \u001b[0;34m=\u001b[0m \u001b[0mdata_right\u001b[0m\u001b[0;34m\u001b[0m\u001b[0;34m\u001b[0m\u001b[0m\n\u001b[1;32m     56\u001b[0m \u001b[0;34m\u001b[0m\u001b[0m\n\u001b[0;32m---> 57\u001b[0;31m         \u001b[0mself\u001b[0m\u001b[0;34m.\u001b[0m\u001b[0mselect_decision\u001b[0m\u001b[0;34m(\u001b[0m\u001b[0mdata_left\u001b[0m\u001b[0;34m)\u001b[0m\u001b[0;34m\u001b[0m\u001b[0;34m\u001b[0m\u001b[0m\n\u001b[0m\u001b[1;32m     58\u001b[0m         \u001b[0mself\u001b[0m\u001b[0;34m.\u001b[0m\u001b[0mselect_decision\u001b[0m\u001b[0;34m(\u001b[0m\u001b[0mdata_right\u001b[0m\u001b[0;34m)\u001b[0m\u001b[0;34m\u001b[0m\u001b[0;34m\u001b[0m\u001b[0m\n\u001b[1;32m     59\u001b[0m \u001b[0;34m\u001b[0m\u001b[0m\n",
      "\u001b[0;32m<ipython-input-29-58e91eca0dc1>\u001b[0m in \u001b[0;36mselect_decision\u001b[0;34m(self, data)\u001b[0m\n\u001b[1;32m     55\u001b[0m                 \u001b[0mbest_data_right\u001b[0m \u001b[0;34m=\u001b[0m \u001b[0mdata_right\u001b[0m\u001b[0;34m\u001b[0m\u001b[0;34m\u001b[0m\u001b[0m\n\u001b[1;32m     56\u001b[0m \u001b[0;34m\u001b[0m\u001b[0m\n\u001b[0;32m---> 57\u001b[0;31m         \u001b[0mself\u001b[0m\u001b[0;34m.\u001b[0m\u001b[0mselect_decision\u001b[0m\u001b[0;34m(\u001b[0m\u001b[0mdata_left\u001b[0m\u001b[0;34m)\u001b[0m\u001b[0;34m\u001b[0m\u001b[0;34m\u001b[0m\u001b[0m\n\u001b[0m\u001b[1;32m     58\u001b[0m         \u001b[0mself\u001b[0m\u001b[0;34m.\u001b[0m\u001b[0mselect_decision\u001b[0m\u001b[0;34m(\u001b[0m\u001b[0mdata_right\u001b[0m\u001b[0;34m)\u001b[0m\u001b[0;34m\u001b[0m\u001b[0;34m\u001b[0m\u001b[0m\n\u001b[1;32m     59\u001b[0m \u001b[0;34m\u001b[0m\u001b[0m\n",
      "\u001b[0;32m<ipython-input-29-58e91eca0dc1>\u001b[0m in \u001b[0;36mselect_decision\u001b[0;34m(self, data)\u001b[0m\n\u001b[1;32m     55\u001b[0m                 \u001b[0mbest_data_right\u001b[0m \u001b[0;34m=\u001b[0m \u001b[0mdata_right\u001b[0m\u001b[0;34m\u001b[0m\u001b[0;34m\u001b[0m\u001b[0m\n\u001b[1;32m     56\u001b[0m \u001b[0;34m\u001b[0m\u001b[0m\n\u001b[0;32m---> 57\u001b[0;31m         \u001b[0mself\u001b[0m\u001b[0;34m.\u001b[0m\u001b[0mselect_decision\u001b[0m\u001b[0;34m(\u001b[0m\u001b[0mdata_left\u001b[0m\u001b[0;34m)\u001b[0m\u001b[0;34m\u001b[0m\u001b[0;34m\u001b[0m\u001b[0m\n\u001b[0m\u001b[1;32m     58\u001b[0m         \u001b[0mself\u001b[0m\u001b[0;34m.\u001b[0m\u001b[0mselect_decision\u001b[0m\u001b[0;34m(\u001b[0m\u001b[0mdata_right\u001b[0m\u001b[0;34m)\u001b[0m\u001b[0;34m\u001b[0m\u001b[0;34m\u001b[0m\u001b[0m\n\u001b[1;32m     59\u001b[0m \u001b[0;34m\u001b[0m\u001b[0m\n",
      "\u001b[0;32m<ipython-input-29-58e91eca0dc1>\u001b[0m in \u001b[0;36mselect_decision\u001b[0;34m(self, data)\u001b[0m\n\u001b[1;32m     55\u001b[0m                 \u001b[0mbest_data_right\u001b[0m \u001b[0;34m=\u001b[0m \u001b[0mdata_right\u001b[0m\u001b[0;34m\u001b[0m\u001b[0;34m\u001b[0m\u001b[0m\n\u001b[1;32m     56\u001b[0m \u001b[0;34m\u001b[0m\u001b[0m\n\u001b[0;32m---> 57\u001b[0;31m         \u001b[0mself\u001b[0m\u001b[0;34m.\u001b[0m\u001b[0mselect_decision\u001b[0m\u001b[0;34m(\u001b[0m\u001b[0mdata_left\u001b[0m\u001b[0;34m)\u001b[0m\u001b[0;34m\u001b[0m\u001b[0;34m\u001b[0m\u001b[0m\n\u001b[0m\u001b[1;32m     58\u001b[0m         \u001b[0mself\u001b[0m\u001b[0;34m.\u001b[0m\u001b[0mselect_decision\u001b[0m\u001b[0;34m(\u001b[0m\u001b[0mdata_right\u001b[0m\u001b[0;34m)\u001b[0m\u001b[0;34m\u001b[0m\u001b[0;34m\u001b[0m\u001b[0m\n\u001b[1;32m     59\u001b[0m \u001b[0;34m\u001b[0m\u001b[0m\n",
      "\u001b[0;32m<ipython-input-29-58e91eca0dc1>\u001b[0m in \u001b[0;36mselect_decision\u001b[0;34m(self, data)\u001b[0m\n\u001b[1;32m     55\u001b[0m                 \u001b[0mbest_data_right\u001b[0m \u001b[0;34m=\u001b[0m \u001b[0mdata_right\u001b[0m\u001b[0;34m\u001b[0m\u001b[0;34m\u001b[0m\u001b[0m\n\u001b[1;32m     56\u001b[0m \u001b[0;34m\u001b[0m\u001b[0m\n\u001b[0;32m---> 57\u001b[0;31m         \u001b[0mself\u001b[0m\u001b[0;34m.\u001b[0m\u001b[0mselect_decision\u001b[0m\u001b[0;34m(\u001b[0m\u001b[0mdata_left\u001b[0m\u001b[0;34m)\u001b[0m\u001b[0;34m\u001b[0m\u001b[0;34m\u001b[0m\u001b[0m\n\u001b[0m\u001b[1;32m     58\u001b[0m         \u001b[0mself\u001b[0m\u001b[0;34m.\u001b[0m\u001b[0mselect_decision\u001b[0m\u001b[0;34m(\u001b[0m\u001b[0mdata_right\u001b[0m\u001b[0;34m)\u001b[0m\u001b[0;34m\u001b[0m\u001b[0;34m\u001b[0m\u001b[0m\n\u001b[1;32m     59\u001b[0m \u001b[0;34m\u001b[0m\u001b[0m\n",
      "\u001b[0;32m<ipython-input-29-58e91eca0dc1>\u001b[0m in \u001b[0;36mselect_decision\u001b[0;34m(self, data)\u001b[0m\n\u001b[1;32m     55\u001b[0m                 \u001b[0mbest_data_right\u001b[0m \u001b[0;34m=\u001b[0m \u001b[0mdata_right\u001b[0m\u001b[0;34m\u001b[0m\u001b[0;34m\u001b[0m\u001b[0m\n\u001b[1;32m     56\u001b[0m \u001b[0;34m\u001b[0m\u001b[0m\n\u001b[0;32m---> 57\u001b[0;31m         \u001b[0mself\u001b[0m\u001b[0;34m.\u001b[0m\u001b[0mselect_decision\u001b[0m\u001b[0;34m(\u001b[0m\u001b[0mdata_left\u001b[0m\u001b[0;34m)\u001b[0m\u001b[0;34m\u001b[0m\u001b[0;34m\u001b[0m\u001b[0m\n\u001b[0m\u001b[1;32m     58\u001b[0m         \u001b[0mself\u001b[0m\u001b[0;34m.\u001b[0m\u001b[0mselect_decision\u001b[0m\u001b[0;34m(\u001b[0m\u001b[0mdata_right\u001b[0m\u001b[0;34m)\u001b[0m\u001b[0;34m\u001b[0m\u001b[0;34m\u001b[0m\u001b[0m\n\u001b[1;32m     59\u001b[0m \u001b[0;34m\u001b[0m\u001b[0m\n",
      "\u001b[0;32m<ipython-input-29-58e91eca0dc1>\u001b[0m in \u001b[0;36mselect_decision\u001b[0;34m(self, data)\u001b[0m\n\u001b[1;32m     55\u001b[0m                 \u001b[0mbest_data_right\u001b[0m \u001b[0;34m=\u001b[0m \u001b[0mdata_right\u001b[0m\u001b[0;34m\u001b[0m\u001b[0;34m\u001b[0m\u001b[0m\n\u001b[1;32m     56\u001b[0m \u001b[0;34m\u001b[0m\u001b[0m\n\u001b[0;32m---> 57\u001b[0;31m         \u001b[0mself\u001b[0m\u001b[0;34m.\u001b[0m\u001b[0mselect_decision\u001b[0m\u001b[0;34m(\u001b[0m\u001b[0mdata_left\u001b[0m\u001b[0;34m)\u001b[0m\u001b[0;34m\u001b[0m\u001b[0;34m\u001b[0m\u001b[0m\n\u001b[0m\u001b[1;32m     58\u001b[0m         \u001b[0mself\u001b[0m\u001b[0;34m.\u001b[0m\u001b[0mselect_decision\u001b[0m\u001b[0;34m(\u001b[0m\u001b[0mdata_right\u001b[0m\u001b[0;34m)\u001b[0m\u001b[0;34m\u001b[0m\u001b[0;34m\u001b[0m\u001b[0m\n\u001b[1;32m     59\u001b[0m \u001b[0;34m\u001b[0m\u001b[0m\n",
      "\u001b[0;32m<ipython-input-29-58e91eca0dc1>\u001b[0m in \u001b[0;36mselect_decision\u001b[0;34m(self, data)\u001b[0m\n\u001b[1;32m     55\u001b[0m                 \u001b[0mbest_data_right\u001b[0m \u001b[0;34m=\u001b[0m \u001b[0mdata_right\u001b[0m\u001b[0;34m\u001b[0m\u001b[0;34m\u001b[0m\u001b[0m\n\u001b[1;32m     56\u001b[0m \u001b[0;34m\u001b[0m\u001b[0m\n\u001b[0;32m---> 57\u001b[0;31m         \u001b[0mself\u001b[0m\u001b[0;34m.\u001b[0m\u001b[0mselect_decision\u001b[0m\u001b[0;34m(\u001b[0m\u001b[0mdata_left\u001b[0m\u001b[0;34m)\u001b[0m\u001b[0;34m\u001b[0m\u001b[0;34m\u001b[0m\u001b[0m\n\u001b[0m\u001b[1;32m     58\u001b[0m         \u001b[0mself\u001b[0m\u001b[0;34m.\u001b[0m\u001b[0mselect_decision\u001b[0m\u001b[0;34m(\u001b[0m\u001b[0mdata_right\u001b[0m\u001b[0;34m)\u001b[0m\u001b[0;34m\u001b[0m\u001b[0;34m\u001b[0m\u001b[0m\n\u001b[1;32m     59\u001b[0m \u001b[0;34m\u001b[0m\u001b[0m\n",
      "\u001b[0;32m<ipython-input-29-58e91eca0dc1>\u001b[0m in \u001b[0;36mselect_decision\u001b[0;34m(self, data)\u001b[0m\n\u001b[1;32m     55\u001b[0m                 \u001b[0mbest_data_right\u001b[0m \u001b[0;34m=\u001b[0m \u001b[0mdata_right\u001b[0m\u001b[0;34m\u001b[0m\u001b[0;34m\u001b[0m\u001b[0m\n\u001b[1;32m     56\u001b[0m \u001b[0;34m\u001b[0m\u001b[0m\n\u001b[0;32m---> 57\u001b[0;31m         \u001b[0mself\u001b[0m\u001b[0;34m.\u001b[0m\u001b[0mselect_decision\u001b[0m\u001b[0;34m(\u001b[0m\u001b[0mdata_left\u001b[0m\u001b[0;34m)\u001b[0m\u001b[0;34m\u001b[0m\u001b[0;34m\u001b[0m\u001b[0m\n\u001b[0m\u001b[1;32m     58\u001b[0m         \u001b[0mself\u001b[0m\u001b[0;34m.\u001b[0m\u001b[0mselect_decision\u001b[0m\u001b[0;34m(\u001b[0m\u001b[0mdata_right\u001b[0m\u001b[0;34m)\u001b[0m\u001b[0;34m\u001b[0m\u001b[0;34m\u001b[0m\u001b[0m\n\u001b[1;32m     59\u001b[0m \u001b[0;34m\u001b[0m\u001b[0m\n",
      "\u001b[0;32m<ipython-input-29-58e91eca0dc1>\u001b[0m in \u001b[0;36mselect_decision\u001b[0;34m(self, data)\u001b[0m\n\u001b[1;32m     55\u001b[0m                 \u001b[0mbest_data_right\u001b[0m \u001b[0;34m=\u001b[0m \u001b[0mdata_right\u001b[0m\u001b[0;34m\u001b[0m\u001b[0;34m\u001b[0m\u001b[0m\n\u001b[1;32m     56\u001b[0m \u001b[0;34m\u001b[0m\u001b[0m\n\u001b[0;32m---> 57\u001b[0;31m         \u001b[0mself\u001b[0m\u001b[0;34m.\u001b[0m\u001b[0mselect_decision\u001b[0m\u001b[0;34m(\u001b[0m\u001b[0mdata_left\u001b[0m\u001b[0;34m)\u001b[0m\u001b[0;34m\u001b[0m\u001b[0;34m\u001b[0m\u001b[0m\n\u001b[0m\u001b[1;32m     58\u001b[0m         \u001b[0mself\u001b[0m\u001b[0;34m.\u001b[0m\u001b[0mselect_decision\u001b[0m\u001b[0;34m(\u001b[0m\u001b[0mdata_right\u001b[0m\u001b[0;34m)\u001b[0m\u001b[0;34m\u001b[0m\u001b[0;34m\u001b[0m\u001b[0m\n\u001b[1;32m     59\u001b[0m \u001b[0;34m\u001b[0m\u001b[0m\n",
      "\u001b[0;32m<ipython-input-29-58e91eca0dc1>\u001b[0m in \u001b[0;36mselect_decision\u001b[0;34m(self, data)\u001b[0m\n\u001b[1;32m     55\u001b[0m                 \u001b[0mbest_data_right\u001b[0m \u001b[0;34m=\u001b[0m \u001b[0mdata_right\u001b[0m\u001b[0;34m\u001b[0m\u001b[0;34m\u001b[0m\u001b[0m\n\u001b[1;32m     56\u001b[0m \u001b[0;34m\u001b[0m\u001b[0m\n\u001b[0;32m---> 57\u001b[0;31m         \u001b[0mself\u001b[0m\u001b[0;34m.\u001b[0m\u001b[0mselect_decision\u001b[0m\u001b[0;34m(\u001b[0m\u001b[0mdata_left\u001b[0m\u001b[0;34m)\u001b[0m\u001b[0;34m\u001b[0m\u001b[0;34m\u001b[0m\u001b[0m\n\u001b[0m\u001b[1;32m     58\u001b[0m         \u001b[0mself\u001b[0m\u001b[0;34m.\u001b[0m\u001b[0mselect_decision\u001b[0m\u001b[0;34m(\u001b[0m\u001b[0mdata_right\u001b[0m\u001b[0;34m)\u001b[0m\u001b[0;34m\u001b[0m\u001b[0;34m\u001b[0m\u001b[0m\n\u001b[1;32m     59\u001b[0m \u001b[0;34m\u001b[0m\u001b[0m\n",
      "\u001b[0;32m<ipython-input-29-58e91eca0dc1>\u001b[0m in \u001b[0;36mselect_decision\u001b[0;34m(self, data)\u001b[0m\n\u001b[1;32m     55\u001b[0m                 \u001b[0mbest_data_right\u001b[0m \u001b[0;34m=\u001b[0m \u001b[0mdata_right\u001b[0m\u001b[0;34m\u001b[0m\u001b[0;34m\u001b[0m\u001b[0m\n\u001b[1;32m     56\u001b[0m \u001b[0;34m\u001b[0m\u001b[0m\n\u001b[0;32m---> 57\u001b[0;31m         \u001b[0mself\u001b[0m\u001b[0;34m.\u001b[0m\u001b[0mselect_decision\u001b[0m\u001b[0;34m(\u001b[0m\u001b[0mdata_left\u001b[0m\u001b[0;34m)\u001b[0m\u001b[0;34m\u001b[0m\u001b[0;34m\u001b[0m\u001b[0m\n\u001b[0m\u001b[1;32m     58\u001b[0m         \u001b[0mself\u001b[0m\u001b[0;34m.\u001b[0m\u001b[0mselect_decision\u001b[0m\u001b[0;34m(\u001b[0m\u001b[0mdata_right\u001b[0m\u001b[0;34m)\u001b[0m\u001b[0;34m\u001b[0m\u001b[0;34m\u001b[0m\u001b[0m\n\u001b[1;32m     59\u001b[0m \u001b[0;34m\u001b[0m\u001b[0m\n",
      "\u001b[0;32m<ipython-input-29-58e91eca0dc1>\u001b[0m in \u001b[0;36mselect_decision\u001b[0;34m(self, data)\u001b[0m\n\u001b[1;32m     55\u001b[0m                 \u001b[0mbest_data_right\u001b[0m \u001b[0;34m=\u001b[0m \u001b[0mdata_right\u001b[0m\u001b[0;34m\u001b[0m\u001b[0;34m\u001b[0m\u001b[0m\n\u001b[1;32m     56\u001b[0m \u001b[0;34m\u001b[0m\u001b[0m\n\u001b[0;32m---> 57\u001b[0;31m         \u001b[0mself\u001b[0m\u001b[0;34m.\u001b[0m\u001b[0mselect_decision\u001b[0m\u001b[0;34m(\u001b[0m\u001b[0mdata_left\u001b[0m\u001b[0;34m)\u001b[0m\u001b[0;34m\u001b[0m\u001b[0;34m\u001b[0m\u001b[0m\n\u001b[0m\u001b[1;32m     58\u001b[0m         \u001b[0mself\u001b[0m\u001b[0;34m.\u001b[0m\u001b[0mselect_decision\u001b[0m\u001b[0;34m(\u001b[0m\u001b[0mdata_right\u001b[0m\u001b[0;34m)\u001b[0m\u001b[0;34m\u001b[0m\u001b[0;34m\u001b[0m\u001b[0m\n\u001b[1;32m     59\u001b[0m \u001b[0;34m\u001b[0m\u001b[0m\n",
      "\u001b[0;32m<ipython-input-29-58e91eca0dc1>\u001b[0m in \u001b[0;36mselect_decision\u001b[0;34m(self, data)\u001b[0m\n\u001b[1;32m     55\u001b[0m                 \u001b[0mbest_data_right\u001b[0m \u001b[0;34m=\u001b[0m \u001b[0mdata_right\u001b[0m\u001b[0;34m\u001b[0m\u001b[0;34m\u001b[0m\u001b[0m\n\u001b[1;32m     56\u001b[0m \u001b[0;34m\u001b[0m\u001b[0m\n\u001b[0;32m---> 57\u001b[0;31m         \u001b[0mself\u001b[0m\u001b[0;34m.\u001b[0m\u001b[0mselect_decision\u001b[0m\u001b[0;34m(\u001b[0m\u001b[0mdata_left\u001b[0m\u001b[0;34m)\u001b[0m\u001b[0;34m\u001b[0m\u001b[0;34m\u001b[0m\u001b[0m\n\u001b[0m\u001b[1;32m     58\u001b[0m         \u001b[0mself\u001b[0m\u001b[0;34m.\u001b[0m\u001b[0mselect_decision\u001b[0m\u001b[0;34m(\u001b[0m\u001b[0mdata_right\u001b[0m\u001b[0;34m)\u001b[0m\u001b[0;34m\u001b[0m\u001b[0;34m\u001b[0m\u001b[0m\n\u001b[1;32m     59\u001b[0m \u001b[0;34m\u001b[0m\u001b[0m\n",
      "\u001b[0;32m<ipython-input-29-58e91eca0dc1>\u001b[0m in \u001b[0;36mselect_decision\u001b[0;34m(self, data)\u001b[0m\n\u001b[1;32m     55\u001b[0m                 \u001b[0mbest_data_right\u001b[0m \u001b[0;34m=\u001b[0m \u001b[0mdata_right\u001b[0m\u001b[0;34m\u001b[0m\u001b[0;34m\u001b[0m\u001b[0m\n\u001b[1;32m     56\u001b[0m \u001b[0;34m\u001b[0m\u001b[0m\n\u001b[0;32m---> 57\u001b[0;31m         \u001b[0mself\u001b[0m\u001b[0;34m.\u001b[0m\u001b[0mselect_decision\u001b[0m\u001b[0;34m(\u001b[0m\u001b[0mdata_left\u001b[0m\u001b[0;34m)\u001b[0m\u001b[0;34m\u001b[0m\u001b[0;34m\u001b[0m\u001b[0m\n\u001b[0m\u001b[1;32m     58\u001b[0m         \u001b[0mself\u001b[0m\u001b[0;34m.\u001b[0m\u001b[0mselect_decision\u001b[0m\u001b[0;34m(\u001b[0m\u001b[0mdata_right\u001b[0m\u001b[0;34m)\u001b[0m\u001b[0;34m\u001b[0m\u001b[0;34m\u001b[0m\u001b[0m\n\u001b[1;32m     59\u001b[0m \u001b[0;34m\u001b[0m\u001b[0m\n",
      "\u001b[0;32m<ipython-input-29-58e91eca0dc1>\u001b[0m in \u001b[0;36mselect_decision\u001b[0;34m(self, data)\u001b[0m\n\u001b[1;32m     55\u001b[0m                 \u001b[0mbest_data_right\u001b[0m \u001b[0;34m=\u001b[0m \u001b[0mdata_right\u001b[0m\u001b[0;34m\u001b[0m\u001b[0;34m\u001b[0m\u001b[0m\n\u001b[1;32m     56\u001b[0m \u001b[0;34m\u001b[0m\u001b[0m\n\u001b[0;32m---> 57\u001b[0;31m         \u001b[0mself\u001b[0m\u001b[0;34m.\u001b[0m\u001b[0mselect_decision\u001b[0m\u001b[0;34m(\u001b[0m\u001b[0mdata_left\u001b[0m\u001b[0;34m)\u001b[0m\u001b[0;34m\u001b[0m\u001b[0;34m\u001b[0m\u001b[0m\n\u001b[0m\u001b[1;32m     58\u001b[0m         \u001b[0mself\u001b[0m\u001b[0;34m.\u001b[0m\u001b[0mselect_decision\u001b[0m\u001b[0;34m(\u001b[0m\u001b[0mdata_right\u001b[0m\u001b[0;34m)\u001b[0m\u001b[0;34m\u001b[0m\u001b[0;34m\u001b[0m\u001b[0m\n\u001b[1;32m     59\u001b[0m \u001b[0;34m\u001b[0m\u001b[0m\n",
      "\u001b[0;32m<ipython-input-29-58e91eca0dc1>\u001b[0m in \u001b[0;36mselect_decision\u001b[0;34m(self, data)\u001b[0m\n\u001b[1;32m     55\u001b[0m                 \u001b[0mbest_data_right\u001b[0m \u001b[0;34m=\u001b[0m \u001b[0mdata_right\u001b[0m\u001b[0;34m\u001b[0m\u001b[0;34m\u001b[0m\u001b[0m\n\u001b[1;32m     56\u001b[0m \u001b[0;34m\u001b[0m\u001b[0m\n\u001b[0;32m---> 57\u001b[0;31m         \u001b[0mself\u001b[0m\u001b[0;34m.\u001b[0m\u001b[0mselect_decision\u001b[0m\u001b[0;34m(\u001b[0m\u001b[0mdata_left\u001b[0m\u001b[0;34m)\u001b[0m\u001b[0;34m\u001b[0m\u001b[0;34m\u001b[0m\u001b[0m\n\u001b[0m\u001b[1;32m     58\u001b[0m         \u001b[0mself\u001b[0m\u001b[0;34m.\u001b[0m\u001b[0mselect_decision\u001b[0m\u001b[0;34m(\u001b[0m\u001b[0mdata_right\u001b[0m\u001b[0;34m)\u001b[0m\u001b[0;34m\u001b[0m\u001b[0;34m\u001b[0m\u001b[0m\n\u001b[1;32m     59\u001b[0m \u001b[0;34m\u001b[0m\u001b[0m\n",
      "\u001b[0;32m<ipython-input-29-58e91eca0dc1>\u001b[0m in \u001b[0;36mselect_decision\u001b[0;34m(self, data)\u001b[0m\n\u001b[1;32m     55\u001b[0m                 \u001b[0mbest_data_right\u001b[0m \u001b[0;34m=\u001b[0m \u001b[0mdata_right\u001b[0m\u001b[0;34m\u001b[0m\u001b[0;34m\u001b[0m\u001b[0m\n\u001b[1;32m     56\u001b[0m \u001b[0;34m\u001b[0m\u001b[0m\n\u001b[0;32m---> 57\u001b[0;31m         \u001b[0mself\u001b[0m\u001b[0;34m.\u001b[0m\u001b[0mselect_decision\u001b[0m\u001b[0;34m(\u001b[0m\u001b[0mdata_left\u001b[0m\u001b[0;34m)\u001b[0m\u001b[0;34m\u001b[0m\u001b[0;34m\u001b[0m\u001b[0m\n\u001b[0m\u001b[1;32m     58\u001b[0m         \u001b[0mself\u001b[0m\u001b[0;34m.\u001b[0m\u001b[0mselect_decision\u001b[0m\u001b[0;34m(\u001b[0m\u001b[0mdata_right\u001b[0m\u001b[0;34m)\u001b[0m\u001b[0;34m\u001b[0m\u001b[0;34m\u001b[0m\u001b[0m\n\u001b[1;32m     59\u001b[0m \u001b[0;34m\u001b[0m\u001b[0m\n",
      "\u001b[0;32m<ipython-input-29-58e91eca0dc1>\u001b[0m in \u001b[0;36mselect_decision\u001b[0;34m(self, data)\u001b[0m\n\u001b[1;32m     55\u001b[0m                 \u001b[0mbest_data_right\u001b[0m \u001b[0;34m=\u001b[0m \u001b[0mdata_right\u001b[0m\u001b[0;34m\u001b[0m\u001b[0;34m\u001b[0m\u001b[0m\n\u001b[1;32m     56\u001b[0m \u001b[0;34m\u001b[0m\u001b[0m\n\u001b[0;32m---> 57\u001b[0;31m         \u001b[0mself\u001b[0m\u001b[0;34m.\u001b[0m\u001b[0mselect_decision\u001b[0m\u001b[0;34m(\u001b[0m\u001b[0mdata_left\u001b[0m\u001b[0;34m)\u001b[0m\u001b[0;34m\u001b[0m\u001b[0;34m\u001b[0m\u001b[0m\n\u001b[0m\u001b[1;32m     58\u001b[0m         \u001b[0mself\u001b[0m\u001b[0;34m.\u001b[0m\u001b[0mselect_decision\u001b[0m\u001b[0;34m(\u001b[0m\u001b[0mdata_right\u001b[0m\u001b[0;34m)\u001b[0m\u001b[0;34m\u001b[0m\u001b[0;34m\u001b[0m\u001b[0m\n\u001b[1;32m     59\u001b[0m \u001b[0;34m\u001b[0m\u001b[0m\n",
      "\u001b[0;32m<ipython-input-29-58e91eca0dc1>\u001b[0m in \u001b[0;36mselect_decision\u001b[0;34m(self, data)\u001b[0m\n\u001b[1;32m     55\u001b[0m                 \u001b[0mbest_data_right\u001b[0m \u001b[0;34m=\u001b[0m \u001b[0mdata_right\u001b[0m\u001b[0;34m\u001b[0m\u001b[0;34m\u001b[0m\u001b[0m\n\u001b[1;32m     56\u001b[0m \u001b[0;34m\u001b[0m\u001b[0m\n\u001b[0;32m---> 57\u001b[0;31m         \u001b[0mself\u001b[0m\u001b[0;34m.\u001b[0m\u001b[0mselect_decision\u001b[0m\u001b[0;34m(\u001b[0m\u001b[0mdata_left\u001b[0m\u001b[0;34m)\u001b[0m\u001b[0;34m\u001b[0m\u001b[0;34m\u001b[0m\u001b[0m\n\u001b[0m\u001b[1;32m     58\u001b[0m         \u001b[0mself\u001b[0m\u001b[0;34m.\u001b[0m\u001b[0mselect_decision\u001b[0m\u001b[0;34m(\u001b[0m\u001b[0mdata_right\u001b[0m\u001b[0;34m)\u001b[0m\u001b[0;34m\u001b[0m\u001b[0;34m\u001b[0m\u001b[0m\n\u001b[1;32m     59\u001b[0m \u001b[0;34m\u001b[0m\u001b[0m\n",
      "\u001b[0;32m<ipython-input-29-58e91eca0dc1>\u001b[0m in \u001b[0;36mselect_decision\u001b[0;34m(self, data)\u001b[0m\n\u001b[1;32m     55\u001b[0m                 \u001b[0mbest_data_right\u001b[0m \u001b[0;34m=\u001b[0m \u001b[0mdata_right\u001b[0m\u001b[0;34m\u001b[0m\u001b[0;34m\u001b[0m\u001b[0m\n\u001b[1;32m     56\u001b[0m \u001b[0;34m\u001b[0m\u001b[0m\n\u001b[0;32m---> 57\u001b[0;31m         \u001b[0mself\u001b[0m\u001b[0;34m.\u001b[0m\u001b[0mselect_decision\u001b[0m\u001b[0;34m(\u001b[0m\u001b[0mdata_left\u001b[0m\u001b[0;34m)\u001b[0m\u001b[0;34m\u001b[0m\u001b[0;34m\u001b[0m\u001b[0m\n\u001b[0m\u001b[1;32m     58\u001b[0m         \u001b[0mself\u001b[0m\u001b[0;34m.\u001b[0m\u001b[0mselect_decision\u001b[0m\u001b[0;34m(\u001b[0m\u001b[0mdata_right\u001b[0m\u001b[0;34m)\u001b[0m\u001b[0;34m\u001b[0m\u001b[0;34m\u001b[0m\u001b[0m\n\u001b[1;32m     59\u001b[0m \u001b[0;34m\u001b[0m\u001b[0m\n",
      "\u001b[0;32m<ipython-input-29-58e91eca0dc1>\u001b[0m in \u001b[0;36mselect_decision\u001b[0;34m(self, data)\u001b[0m\n\u001b[1;32m     55\u001b[0m                 \u001b[0mbest_data_right\u001b[0m \u001b[0;34m=\u001b[0m \u001b[0mdata_right\u001b[0m\u001b[0;34m\u001b[0m\u001b[0;34m\u001b[0m\u001b[0m\n\u001b[1;32m     56\u001b[0m \u001b[0;34m\u001b[0m\u001b[0m\n\u001b[0;32m---> 57\u001b[0;31m         \u001b[0mself\u001b[0m\u001b[0;34m.\u001b[0m\u001b[0mselect_decision\u001b[0m\u001b[0;34m(\u001b[0m\u001b[0mdata_left\u001b[0m\u001b[0;34m)\u001b[0m\u001b[0;34m\u001b[0m\u001b[0;34m\u001b[0m\u001b[0m\n\u001b[0m\u001b[1;32m     58\u001b[0m         \u001b[0mself\u001b[0m\u001b[0;34m.\u001b[0m\u001b[0mselect_decision\u001b[0m\u001b[0;34m(\u001b[0m\u001b[0mdata_right\u001b[0m\u001b[0;34m)\u001b[0m\u001b[0;34m\u001b[0m\u001b[0;34m\u001b[0m\u001b[0m\n\u001b[1;32m     59\u001b[0m \u001b[0;34m\u001b[0m\u001b[0m\n",
      "\u001b[0;32m<ipython-input-29-58e91eca0dc1>\u001b[0m in \u001b[0;36mselect_decision\u001b[0;34m(self, data)\u001b[0m\n\u001b[1;32m     55\u001b[0m                 \u001b[0mbest_data_right\u001b[0m \u001b[0;34m=\u001b[0m \u001b[0mdata_right\u001b[0m\u001b[0;34m\u001b[0m\u001b[0;34m\u001b[0m\u001b[0m\n\u001b[1;32m     56\u001b[0m \u001b[0;34m\u001b[0m\u001b[0m\n\u001b[0;32m---> 57\u001b[0;31m         \u001b[0mself\u001b[0m\u001b[0;34m.\u001b[0m\u001b[0mselect_decision\u001b[0m\u001b[0;34m(\u001b[0m\u001b[0mdata_left\u001b[0m\u001b[0;34m)\u001b[0m\u001b[0;34m\u001b[0m\u001b[0;34m\u001b[0m\u001b[0m\n\u001b[0m\u001b[1;32m     58\u001b[0m         \u001b[0mself\u001b[0m\u001b[0;34m.\u001b[0m\u001b[0mselect_decision\u001b[0m\u001b[0;34m(\u001b[0m\u001b[0mdata_right\u001b[0m\u001b[0;34m)\u001b[0m\u001b[0;34m\u001b[0m\u001b[0;34m\u001b[0m\u001b[0m\n\u001b[1;32m     59\u001b[0m \u001b[0;34m\u001b[0m\u001b[0m\n",
      "\u001b[0;32m<ipython-input-29-58e91eca0dc1>\u001b[0m in \u001b[0;36mselect_decision\u001b[0;34m(self, data)\u001b[0m\n\u001b[1;32m     55\u001b[0m                 \u001b[0mbest_data_right\u001b[0m \u001b[0;34m=\u001b[0m \u001b[0mdata_right\u001b[0m\u001b[0;34m\u001b[0m\u001b[0;34m\u001b[0m\u001b[0m\n\u001b[1;32m     56\u001b[0m \u001b[0;34m\u001b[0m\u001b[0m\n\u001b[0;32m---> 57\u001b[0;31m         \u001b[0mself\u001b[0m\u001b[0;34m.\u001b[0m\u001b[0mselect_decision\u001b[0m\u001b[0;34m(\u001b[0m\u001b[0mdata_left\u001b[0m\u001b[0;34m)\u001b[0m\u001b[0;34m\u001b[0m\u001b[0;34m\u001b[0m\u001b[0m\n\u001b[0m\u001b[1;32m     58\u001b[0m         \u001b[0mself\u001b[0m\u001b[0;34m.\u001b[0m\u001b[0mselect_decision\u001b[0m\u001b[0;34m(\u001b[0m\u001b[0mdata_right\u001b[0m\u001b[0;34m)\u001b[0m\u001b[0;34m\u001b[0m\u001b[0;34m\u001b[0m\u001b[0m\n\u001b[1;32m     59\u001b[0m \u001b[0;34m\u001b[0m\u001b[0m\n",
      "\u001b[0;32m<ipython-input-29-58e91eca0dc1>\u001b[0m in \u001b[0;36mselect_decision\u001b[0;34m(self, data)\u001b[0m\n\u001b[1;32m     55\u001b[0m                 \u001b[0mbest_data_right\u001b[0m \u001b[0;34m=\u001b[0m \u001b[0mdata_right\u001b[0m\u001b[0;34m\u001b[0m\u001b[0;34m\u001b[0m\u001b[0m\n\u001b[1;32m     56\u001b[0m \u001b[0;34m\u001b[0m\u001b[0m\n\u001b[0;32m---> 57\u001b[0;31m         \u001b[0mself\u001b[0m\u001b[0;34m.\u001b[0m\u001b[0mselect_decision\u001b[0m\u001b[0;34m(\u001b[0m\u001b[0mdata_left\u001b[0m\u001b[0;34m)\u001b[0m\u001b[0;34m\u001b[0m\u001b[0;34m\u001b[0m\u001b[0m\n\u001b[0m\u001b[1;32m     58\u001b[0m         \u001b[0mself\u001b[0m\u001b[0;34m.\u001b[0m\u001b[0mselect_decision\u001b[0m\u001b[0;34m(\u001b[0m\u001b[0mdata_right\u001b[0m\u001b[0;34m)\u001b[0m\u001b[0;34m\u001b[0m\u001b[0;34m\u001b[0m\u001b[0m\n\u001b[1;32m     59\u001b[0m \u001b[0;34m\u001b[0m\u001b[0m\n",
      "\u001b[0;32m<ipython-input-29-58e91eca0dc1>\u001b[0m in \u001b[0;36mselect_decision\u001b[0;34m(self, data)\u001b[0m\n\u001b[1;32m     55\u001b[0m                 \u001b[0mbest_data_right\u001b[0m \u001b[0;34m=\u001b[0m \u001b[0mdata_right\u001b[0m\u001b[0;34m\u001b[0m\u001b[0;34m\u001b[0m\u001b[0m\n\u001b[1;32m     56\u001b[0m \u001b[0;34m\u001b[0m\u001b[0m\n\u001b[0;32m---> 57\u001b[0;31m         \u001b[0mself\u001b[0m\u001b[0;34m.\u001b[0m\u001b[0mselect_decision\u001b[0m\u001b[0;34m(\u001b[0m\u001b[0mdata_left\u001b[0m\u001b[0;34m)\u001b[0m\u001b[0;34m\u001b[0m\u001b[0;34m\u001b[0m\u001b[0m\n\u001b[0m\u001b[1;32m     58\u001b[0m         \u001b[0mself\u001b[0m\u001b[0;34m.\u001b[0m\u001b[0mselect_decision\u001b[0m\u001b[0;34m(\u001b[0m\u001b[0mdata_right\u001b[0m\u001b[0;34m)\u001b[0m\u001b[0;34m\u001b[0m\u001b[0;34m\u001b[0m\u001b[0m\n\u001b[1;32m     59\u001b[0m \u001b[0;34m\u001b[0m\u001b[0m\n",
      "\u001b[0;32m<ipython-input-29-58e91eca0dc1>\u001b[0m in \u001b[0;36mselect_decision\u001b[0;34m(self, data)\u001b[0m\n\u001b[1;32m     55\u001b[0m                 \u001b[0mbest_data_right\u001b[0m \u001b[0;34m=\u001b[0m \u001b[0mdata_right\u001b[0m\u001b[0;34m\u001b[0m\u001b[0;34m\u001b[0m\u001b[0m\n\u001b[1;32m     56\u001b[0m \u001b[0;34m\u001b[0m\u001b[0m\n\u001b[0;32m---> 57\u001b[0;31m         \u001b[0mself\u001b[0m\u001b[0;34m.\u001b[0m\u001b[0mselect_decision\u001b[0m\u001b[0;34m(\u001b[0m\u001b[0mdata_left\u001b[0m\u001b[0;34m)\u001b[0m\u001b[0;34m\u001b[0m\u001b[0;34m\u001b[0m\u001b[0m\n\u001b[0m\u001b[1;32m     58\u001b[0m         \u001b[0mself\u001b[0m\u001b[0;34m.\u001b[0m\u001b[0mselect_decision\u001b[0m\u001b[0;34m(\u001b[0m\u001b[0mdata_right\u001b[0m\u001b[0;34m)\u001b[0m\u001b[0;34m\u001b[0m\u001b[0;34m\u001b[0m\u001b[0m\n\u001b[1;32m     59\u001b[0m \u001b[0;34m\u001b[0m\u001b[0m\n",
      "\u001b[0;32m<ipython-input-29-58e91eca0dc1>\u001b[0m in \u001b[0;36mselect_decision\u001b[0;34m(self, data)\u001b[0m\n\u001b[1;32m     55\u001b[0m                 \u001b[0mbest_data_right\u001b[0m \u001b[0;34m=\u001b[0m \u001b[0mdata_right\u001b[0m\u001b[0;34m\u001b[0m\u001b[0;34m\u001b[0m\u001b[0m\n\u001b[1;32m     56\u001b[0m \u001b[0;34m\u001b[0m\u001b[0m\n\u001b[0;32m---> 57\u001b[0;31m         \u001b[0mself\u001b[0m\u001b[0;34m.\u001b[0m\u001b[0mselect_decision\u001b[0m\u001b[0;34m(\u001b[0m\u001b[0mdata_left\u001b[0m\u001b[0;34m)\u001b[0m\u001b[0;34m\u001b[0m\u001b[0;34m\u001b[0m\u001b[0m\n\u001b[0m\u001b[1;32m     58\u001b[0m         \u001b[0mself\u001b[0m\u001b[0;34m.\u001b[0m\u001b[0mselect_decision\u001b[0m\u001b[0;34m(\u001b[0m\u001b[0mdata_right\u001b[0m\u001b[0;34m)\u001b[0m\u001b[0;34m\u001b[0m\u001b[0;34m\u001b[0m\u001b[0m\n\u001b[1;32m     59\u001b[0m \u001b[0;34m\u001b[0m\u001b[0m\n",
      "\u001b[0;32m<ipython-input-29-58e91eca0dc1>\u001b[0m in \u001b[0;36mselect_decision\u001b[0;34m(self, data)\u001b[0m\n\u001b[1;32m     55\u001b[0m                 \u001b[0mbest_data_right\u001b[0m \u001b[0;34m=\u001b[0m \u001b[0mdata_right\u001b[0m\u001b[0;34m\u001b[0m\u001b[0;34m\u001b[0m\u001b[0m\n\u001b[1;32m     56\u001b[0m \u001b[0;34m\u001b[0m\u001b[0m\n\u001b[0;32m---> 57\u001b[0;31m         \u001b[0mself\u001b[0m\u001b[0;34m.\u001b[0m\u001b[0mselect_decision\u001b[0m\u001b[0;34m(\u001b[0m\u001b[0mdata_left\u001b[0m\u001b[0;34m)\u001b[0m\u001b[0;34m\u001b[0m\u001b[0;34m\u001b[0m\u001b[0m\n\u001b[0m\u001b[1;32m     58\u001b[0m         \u001b[0mself\u001b[0m\u001b[0;34m.\u001b[0m\u001b[0mselect_decision\u001b[0m\u001b[0;34m(\u001b[0m\u001b[0mdata_right\u001b[0m\u001b[0;34m)\u001b[0m\u001b[0;34m\u001b[0m\u001b[0;34m\u001b[0m\u001b[0m\n\u001b[1;32m     59\u001b[0m \u001b[0;34m\u001b[0m\u001b[0m\n",
      "\u001b[0;32m<ipython-input-29-58e91eca0dc1>\u001b[0m in \u001b[0;36mselect_decision\u001b[0;34m(self, data)\u001b[0m\n\u001b[1;32m     55\u001b[0m                 \u001b[0mbest_data_right\u001b[0m \u001b[0;34m=\u001b[0m \u001b[0mdata_right\u001b[0m\u001b[0;34m\u001b[0m\u001b[0;34m\u001b[0m\u001b[0m\n\u001b[1;32m     56\u001b[0m \u001b[0;34m\u001b[0m\u001b[0m\n\u001b[0;32m---> 57\u001b[0;31m         \u001b[0mself\u001b[0m\u001b[0;34m.\u001b[0m\u001b[0mselect_decision\u001b[0m\u001b[0;34m(\u001b[0m\u001b[0mdata_left\u001b[0m\u001b[0;34m)\u001b[0m\u001b[0;34m\u001b[0m\u001b[0;34m\u001b[0m\u001b[0m\n\u001b[0m\u001b[1;32m     58\u001b[0m         \u001b[0mself\u001b[0m\u001b[0;34m.\u001b[0m\u001b[0mselect_decision\u001b[0m\u001b[0;34m(\u001b[0m\u001b[0mdata_right\u001b[0m\u001b[0;34m)\u001b[0m\u001b[0;34m\u001b[0m\u001b[0;34m\u001b[0m\u001b[0m\n\u001b[1;32m     59\u001b[0m \u001b[0;34m\u001b[0m\u001b[0m\n",
      "\u001b[0;32m<ipython-input-29-58e91eca0dc1>\u001b[0m in \u001b[0;36mselect_decision\u001b[0;34m(self, data)\u001b[0m\n\u001b[1;32m     55\u001b[0m                 \u001b[0mbest_data_right\u001b[0m \u001b[0;34m=\u001b[0m \u001b[0mdata_right\u001b[0m\u001b[0;34m\u001b[0m\u001b[0;34m\u001b[0m\u001b[0m\n\u001b[1;32m     56\u001b[0m \u001b[0;34m\u001b[0m\u001b[0m\n\u001b[0;32m---> 57\u001b[0;31m         \u001b[0mself\u001b[0m\u001b[0;34m.\u001b[0m\u001b[0mselect_decision\u001b[0m\u001b[0;34m(\u001b[0m\u001b[0mdata_left\u001b[0m\u001b[0;34m)\u001b[0m\u001b[0;34m\u001b[0m\u001b[0;34m\u001b[0m\u001b[0m\n\u001b[0m\u001b[1;32m     58\u001b[0m         \u001b[0mself\u001b[0m\u001b[0;34m.\u001b[0m\u001b[0mselect_decision\u001b[0m\u001b[0;34m(\u001b[0m\u001b[0mdata_right\u001b[0m\u001b[0;34m)\u001b[0m\u001b[0;34m\u001b[0m\u001b[0;34m\u001b[0m\u001b[0m\n\u001b[1;32m     59\u001b[0m \u001b[0;34m\u001b[0m\u001b[0m\n",
      "\u001b[0;32m<ipython-input-29-58e91eca0dc1>\u001b[0m in \u001b[0;36mselect_decision\u001b[0;34m(self, data)\u001b[0m\n\u001b[1;32m     55\u001b[0m                 \u001b[0mbest_data_right\u001b[0m \u001b[0;34m=\u001b[0m \u001b[0mdata_right\u001b[0m\u001b[0;34m\u001b[0m\u001b[0;34m\u001b[0m\u001b[0m\n\u001b[1;32m     56\u001b[0m \u001b[0;34m\u001b[0m\u001b[0m\n\u001b[0;32m---> 57\u001b[0;31m         \u001b[0mself\u001b[0m\u001b[0;34m.\u001b[0m\u001b[0mselect_decision\u001b[0m\u001b[0;34m(\u001b[0m\u001b[0mdata_left\u001b[0m\u001b[0;34m)\u001b[0m\u001b[0;34m\u001b[0m\u001b[0;34m\u001b[0m\u001b[0m\n\u001b[0m\u001b[1;32m     58\u001b[0m         \u001b[0mself\u001b[0m\u001b[0;34m.\u001b[0m\u001b[0mselect_decision\u001b[0m\u001b[0;34m(\u001b[0m\u001b[0mdata_right\u001b[0m\u001b[0;34m)\u001b[0m\u001b[0;34m\u001b[0m\u001b[0;34m\u001b[0m\u001b[0m\n\u001b[1;32m     59\u001b[0m \u001b[0;34m\u001b[0m\u001b[0m\n",
      "\u001b[0;32m<ipython-input-29-58e91eca0dc1>\u001b[0m in \u001b[0;36mselect_decision\u001b[0;34m(self, data)\u001b[0m\n\u001b[1;32m     55\u001b[0m                 \u001b[0mbest_data_right\u001b[0m \u001b[0;34m=\u001b[0m \u001b[0mdata_right\u001b[0m\u001b[0;34m\u001b[0m\u001b[0;34m\u001b[0m\u001b[0m\n\u001b[1;32m     56\u001b[0m \u001b[0;34m\u001b[0m\u001b[0m\n\u001b[0;32m---> 57\u001b[0;31m         \u001b[0mself\u001b[0m\u001b[0;34m.\u001b[0m\u001b[0mselect_decision\u001b[0m\u001b[0;34m(\u001b[0m\u001b[0mdata_left\u001b[0m\u001b[0;34m)\u001b[0m\u001b[0;34m\u001b[0m\u001b[0;34m\u001b[0m\u001b[0m\n\u001b[0m\u001b[1;32m     58\u001b[0m         \u001b[0mself\u001b[0m\u001b[0;34m.\u001b[0m\u001b[0mselect_decision\u001b[0m\u001b[0;34m(\u001b[0m\u001b[0mdata_right\u001b[0m\u001b[0;34m)\u001b[0m\u001b[0;34m\u001b[0m\u001b[0;34m\u001b[0m\u001b[0m\n\u001b[1;32m     59\u001b[0m \u001b[0;34m\u001b[0m\u001b[0m\n",
      "\u001b[0;32m<ipython-input-29-58e91eca0dc1>\u001b[0m in \u001b[0;36mselect_decision\u001b[0;34m(self, data)\u001b[0m\n\u001b[1;32m     55\u001b[0m                 \u001b[0mbest_data_right\u001b[0m \u001b[0;34m=\u001b[0m \u001b[0mdata_right\u001b[0m\u001b[0;34m\u001b[0m\u001b[0;34m\u001b[0m\u001b[0m\n\u001b[1;32m     56\u001b[0m \u001b[0;34m\u001b[0m\u001b[0m\n\u001b[0;32m---> 57\u001b[0;31m         \u001b[0mself\u001b[0m\u001b[0;34m.\u001b[0m\u001b[0mselect_decision\u001b[0m\u001b[0;34m(\u001b[0m\u001b[0mdata_left\u001b[0m\u001b[0;34m)\u001b[0m\u001b[0;34m\u001b[0m\u001b[0;34m\u001b[0m\u001b[0m\n\u001b[0m\u001b[1;32m     58\u001b[0m         \u001b[0mself\u001b[0m\u001b[0;34m.\u001b[0m\u001b[0mselect_decision\u001b[0m\u001b[0;34m(\u001b[0m\u001b[0mdata_right\u001b[0m\u001b[0;34m)\u001b[0m\u001b[0;34m\u001b[0m\u001b[0;34m\u001b[0m\u001b[0m\n\u001b[1;32m     59\u001b[0m \u001b[0;34m\u001b[0m\u001b[0m\n",
      "\u001b[0;32m<ipython-input-29-58e91eca0dc1>\u001b[0m in \u001b[0;36mselect_decision\u001b[0;34m(self, data)\u001b[0m\n\u001b[1;32m     55\u001b[0m                 \u001b[0mbest_data_right\u001b[0m \u001b[0;34m=\u001b[0m \u001b[0mdata_right\u001b[0m\u001b[0;34m\u001b[0m\u001b[0;34m\u001b[0m\u001b[0m\n\u001b[1;32m     56\u001b[0m \u001b[0;34m\u001b[0m\u001b[0m\n\u001b[0;32m---> 57\u001b[0;31m         \u001b[0mself\u001b[0m\u001b[0;34m.\u001b[0m\u001b[0mselect_decision\u001b[0m\u001b[0;34m(\u001b[0m\u001b[0mdata_left\u001b[0m\u001b[0;34m)\u001b[0m\u001b[0;34m\u001b[0m\u001b[0;34m\u001b[0m\u001b[0m\n\u001b[0m\u001b[1;32m     58\u001b[0m         \u001b[0mself\u001b[0m\u001b[0;34m.\u001b[0m\u001b[0mselect_decision\u001b[0m\u001b[0;34m(\u001b[0m\u001b[0mdata_right\u001b[0m\u001b[0;34m)\u001b[0m\u001b[0;34m\u001b[0m\u001b[0;34m\u001b[0m\u001b[0m\n\u001b[1;32m     59\u001b[0m \u001b[0;34m\u001b[0m\u001b[0m\n",
      "\u001b[0;32m<ipython-input-29-58e91eca0dc1>\u001b[0m in \u001b[0;36mselect_decision\u001b[0;34m(self, data)\u001b[0m\n\u001b[1;32m     55\u001b[0m                 \u001b[0mbest_data_right\u001b[0m \u001b[0;34m=\u001b[0m \u001b[0mdata_right\u001b[0m\u001b[0;34m\u001b[0m\u001b[0;34m\u001b[0m\u001b[0m\n\u001b[1;32m     56\u001b[0m \u001b[0;34m\u001b[0m\u001b[0m\n\u001b[0;32m---> 57\u001b[0;31m         \u001b[0mself\u001b[0m\u001b[0;34m.\u001b[0m\u001b[0mselect_decision\u001b[0m\u001b[0;34m(\u001b[0m\u001b[0mdata_left\u001b[0m\u001b[0;34m)\u001b[0m\u001b[0;34m\u001b[0m\u001b[0;34m\u001b[0m\u001b[0m\n\u001b[0m\u001b[1;32m     58\u001b[0m         \u001b[0mself\u001b[0m\u001b[0;34m.\u001b[0m\u001b[0mselect_decision\u001b[0m\u001b[0;34m(\u001b[0m\u001b[0mdata_right\u001b[0m\u001b[0;34m)\u001b[0m\u001b[0;34m\u001b[0m\u001b[0;34m\u001b[0m\u001b[0m\n\u001b[1;32m     59\u001b[0m \u001b[0;34m\u001b[0m\u001b[0m\n",
      "\u001b[0;32m<ipython-input-29-58e91eca0dc1>\u001b[0m in \u001b[0;36mselect_decision\u001b[0;34m(self, data)\u001b[0m\n\u001b[1;32m     55\u001b[0m                 \u001b[0mbest_data_right\u001b[0m \u001b[0;34m=\u001b[0m \u001b[0mdata_right\u001b[0m\u001b[0;34m\u001b[0m\u001b[0;34m\u001b[0m\u001b[0m\n\u001b[1;32m     56\u001b[0m \u001b[0;34m\u001b[0m\u001b[0m\n\u001b[0;32m---> 57\u001b[0;31m         \u001b[0mself\u001b[0m\u001b[0;34m.\u001b[0m\u001b[0mselect_decision\u001b[0m\u001b[0;34m(\u001b[0m\u001b[0mdata_left\u001b[0m\u001b[0;34m)\u001b[0m\u001b[0;34m\u001b[0m\u001b[0;34m\u001b[0m\u001b[0m\n\u001b[0m\u001b[1;32m     58\u001b[0m         \u001b[0mself\u001b[0m\u001b[0;34m.\u001b[0m\u001b[0mselect_decision\u001b[0m\u001b[0;34m(\u001b[0m\u001b[0mdata_right\u001b[0m\u001b[0;34m)\u001b[0m\u001b[0;34m\u001b[0m\u001b[0;34m\u001b[0m\u001b[0m\n\u001b[1;32m     59\u001b[0m \u001b[0;34m\u001b[0m\u001b[0m\n",
      "\u001b[0;32m<ipython-input-29-58e91eca0dc1>\u001b[0m in \u001b[0;36mselect_decision\u001b[0;34m(self, data)\u001b[0m\n\u001b[1;32m     55\u001b[0m                 \u001b[0mbest_data_right\u001b[0m \u001b[0;34m=\u001b[0m \u001b[0mdata_right\u001b[0m\u001b[0;34m\u001b[0m\u001b[0;34m\u001b[0m\u001b[0m\n\u001b[1;32m     56\u001b[0m \u001b[0;34m\u001b[0m\u001b[0m\n\u001b[0;32m---> 57\u001b[0;31m         \u001b[0mself\u001b[0m\u001b[0;34m.\u001b[0m\u001b[0mselect_decision\u001b[0m\u001b[0;34m(\u001b[0m\u001b[0mdata_left\u001b[0m\u001b[0;34m)\u001b[0m\u001b[0;34m\u001b[0m\u001b[0;34m\u001b[0m\u001b[0m\n\u001b[0m\u001b[1;32m     58\u001b[0m         \u001b[0mself\u001b[0m\u001b[0;34m.\u001b[0m\u001b[0mselect_decision\u001b[0m\u001b[0;34m(\u001b[0m\u001b[0mdata_right\u001b[0m\u001b[0;34m)\u001b[0m\u001b[0;34m\u001b[0m\u001b[0;34m\u001b[0m\u001b[0m\n\u001b[1;32m     59\u001b[0m \u001b[0;34m\u001b[0m\u001b[0m\n",
      "\u001b[0;32m<ipython-input-29-58e91eca0dc1>\u001b[0m in \u001b[0;36mselect_decision\u001b[0;34m(self, data)\u001b[0m\n\u001b[1;32m     55\u001b[0m                 \u001b[0mbest_data_right\u001b[0m \u001b[0;34m=\u001b[0m \u001b[0mdata_right\u001b[0m\u001b[0;34m\u001b[0m\u001b[0;34m\u001b[0m\u001b[0m\n\u001b[1;32m     56\u001b[0m \u001b[0;34m\u001b[0m\u001b[0m\n\u001b[0;32m---> 57\u001b[0;31m         \u001b[0mself\u001b[0m\u001b[0;34m.\u001b[0m\u001b[0mselect_decision\u001b[0m\u001b[0;34m(\u001b[0m\u001b[0mdata_left\u001b[0m\u001b[0;34m)\u001b[0m\u001b[0;34m\u001b[0m\u001b[0;34m\u001b[0m\u001b[0m\n\u001b[0m\u001b[1;32m     58\u001b[0m         \u001b[0mself\u001b[0m\u001b[0;34m.\u001b[0m\u001b[0mselect_decision\u001b[0m\u001b[0;34m(\u001b[0m\u001b[0mdata_right\u001b[0m\u001b[0;34m)\u001b[0m\u001b[0;34m\u001b[0m\u001b[0;34m\u001b[0m\u001b[0m\n\u001b[1;32m     59\u001b[0m \u001b[0;34m\u001b[0m\u001b[0m\n",
      "\u001b[0;32m<ipython-input-29-58e91eca0dc1>\u001b[0m in \u001b[0;36mselect_decision\u001b[0;34m(self, data)\u001b[0m\n\u001b[1;32m     55\u001b[0m                 \u001b[0mbest_data_right\u001b[0m \u001b[0;34m=\u001b[0m \u001b[0mdata_right\u001b[0m\u001b[0;34m\u001b[0m\u001b[0;34m\u001b[0m\u001b[0m\n\u001b[1;32m     56\u001b[0m \u001b[0;34m\u001b[0m\u001b[0m\n\u001b[0;32m---> 57\u001b[0;31m         \u001b[0mself\u001b[0m\u001b[0;34m.\u001b[0m\u001b[0mselect_decision\u001b[0m\u001b[0;34m(\u001b[0m\u001b[0mdata_left\u001b[0m\u001b[0;34m)\u001b[0m\u001b[0;34m\u001b[0m\u001b[0;34m\u001b[0m\u001b[0m\n\u001b[0m\u001b[1;32m     58\u001b[0m         \u001b[0mself\u001b[0m\u001b[0;34m.\u001b[0m\u001b[0mselect_decision\u001b[0m\u001b[0;34m(\u001b[0m\u001b[0mdata_right\u001b[0m\u001b[0;34m)\u001b[0m\u001b[0;34m\u001b[0m\u001b[0;34m\u001b[0m\u001b[0m\n\u001b[1;32m     59\u001b[0m \u001b[0;34m\u001b[0m\u001b[0m\n",
      "\u001b[0;32m<ipython-input-29-58e91eca0dc1>\u001b[0m in \u001b[0;36mselect_decision\u001b[0;34m(self, data)\u001b[0m\n\u001b[1;32m     55\u001b[0m                 \u001b[0mbest_data_right\u001b[0m \u001b[0;34m=\u001b[0m \u001b[0mdata_right\u001b[0m\u001b[0;34m\u001b[0m\u001b[0;34m\u001b[0m\u001b[0m\n\u001b[1;32m     56\u001b[0m \u001b[0;34m\u001b[0m\u001b[0m\n\u001b[0;32m---> 57\u001b[0;31m         \u001b[0mself\u001b[0m\u001b[0;34m.\u001b[0m\u001b[0mselect_decision\u001b[0m\u001b[0;34m(\u001b[0m\u001b[0mdata_left\u001b[0m\u001b[0;34m)\u001b[0m\u001b[0;34m\u001b[0m\u001b[0;34m\u001b[0m\u001b[0m\n\u001b[0m\u001b[1;32m     58\u001b[0m         \u001b[0mself\u001b[0m\u001b[0;34m.\u001b[0m\u001b[0mselect_decision\u001b[0m\u001b[0;34m(\u001b[0m\u001b[0mdata_right\u001b[0m\u001b[0;34m)\u001b[0m\u001b[0;34m\u001b[0m\u001b[0;34m\u001b[0m\u001b[0m\n\u001b[1;32m     59\u001b[0m \u001b[0;34m\u001b[0m\u001b[0m\n",
      "\u001b[0;32m<ipython-input-29-58e91eca0dc1>\u001b[0m in \u001b[0;36mselect_decision\u001b[0;34m(self, data)\u001b[0m\n\u001b[1;32m     55\u001b[0m                 \u001b[0mbest_data_right\u001b[0m \u001b[0;34m=\u001b[0m \u001b[0mdata_right\u001b[0m\u001b[0;34m\u001b[0m\u001b[0;34m\u001b[0m\u001b[0m\n\u001b[1;32m     56\u001b[0m \u001b[0;34m\u001b[0m\u001b[0m\n\u001b[0;32m---> 57\u001b[0;31m         \u001b[0mself\u001b[0m\u001b[0;34m.\u001b[0m\u001b[0mselect_decision\u001b[0m\u001b[0;34m(\u001b[0m\u001b[0mdata_left\u001b[0m\u001b[0;34m)\u001b[0m\u001b[0;34m\u001b[0m\u001b[0;34m\u001b[0m\u001b[0m\n\u001b[0m\u001b[1;32m     58\u001b[0m         \u001b[0mself\u001b[0m\u001b[0;34m.\u001b[0m\u001b[0mselect_decision\u001b[0m\u001b[0;34m(\u001b[0m\u001b[0mdata_right\u001b[0m\u001b[0;34m)\u001b[0m\u001b[0;34m\u001b[0m\u001b[0;34m\u001b[0m\u001b[0m\n\u001b[1;32m     59\u001b[0m \u001b[0;34m\u001b[0m\u001b[0m\n",
      "\u001b[0;32m<ipython-input-29-58e91eca0dc1>\u001b[0m in \u001b[0;36mselect_decision\u001b[0;34m(self, data)\u001b[0m\n\u001b[1;32m     55\u001b[0m                 \u001b[0mbest_data_right\u001b[0m \u001b[0;34m=\u001b[0m \u001b[0mdata_right\u001b[0m\u001b[0;34m\u001b[0m\u001b[0;34m\u001b[0m\u001b[0m\n\u001b[1;32m     56\u001b[0m \u001b[0;34m\u001b[0m\u001b[0m\n\u001b[0;32m---> 57\u001b[0;31m         \u001b[0mself\u001b[0m\u001b[0;34m.\u001b[0m\u001b[0mselect_decision\u001b[0m\u001b[0;34m(\u001b[0m\u001b[0mdata_left\u001b[0m\u001b[0;34m)\u001b[0m\u001b[0;34m\u001b[0m\u001b[0;34m\u001b[0m\u001b[0m\n\u001b[0m\u001b[1;32m     58\u001b[0m         \u001b[0mself\u001b[0m\u001b[0;34m.\u001b[0m\u001b[0mselect_decision\u001b[0m\u001b[0;34m(\u001b[0m\u001b[0mdata_right\u001b[0m\u001b[0;34m)\u001b[0m\u001b[0;34m\u001b[0m\u001b[0;34m\u001b[0m\u001b[0m\n\u001b[1;32m     59\u001b[0m \u001b[0;34m\u001b[0m\u001b[0m\n",
      "\u001b[0;32m<ipython-input-29-58e91eca0dc1>\u001b[0m in \u001b[0;36mselect_decision\u001b[0;34m(self, data)\u001b[0m\n\u001b[1;32m     55\u001b[0m                 \u001b[0mbest_data_right\u001b[0m \u001b[0;34m=\u001b[0m \u001b[0mdata_right\u001b[0m\u001b[0;34m\u001b[0m\u001b[0;34m\u001b[0m\u001b[0m\n\u001b[1;32m     56\u001b[0m \u001b[0;34m\u001b[0m\u001b[0m\n\u001b[0;32m---> 57\u001b[0;31m         \u001b[0mself\u001b[0m\u001b[0;34m.\u001b[0m\u001b[0mselect_decision\u001b[0m\u001b[0;34m(\u001b[0m\u001b[0mdata_left\u001b[0m\u001b[0;34m)\u001b[0m\u001b[0;34m\u001b[0m\u001b[0;34m\u001b[0m\u001b[0m\n\u001b[0m\u001b[1;32m     58\u001b[0m         \u001b[0mself\u001b[0m\u001b[0;34m.\u001b[0m\u001b[0mselect_decision\u001b[0m\u001b[0;34m(\u001b[0m\u001b[0mdata_right\u001b[0m\u001b[0;34m)\u001b[0m\u001b[0;34m\u001b[0m\u001b[0;34m\u001b[0m\u001b[0m\n\u001b[1;32m     59\u001b[0m \u001b[0;34m\u001b[0m\u001b[0m\n",
      "\u001b[0;32m<ipython-input-29-58e91eca0dc1>\u001b[0m in \u001b[0;36mselect_decision\u001b[0;34m(self, data)\u001b[0m\n\u001b[1;32m     55\u001b[0m                 \u001b[0mbest_data_right\u001b[0m \u001b[0;34m=\u001b[0m \u001b[0mdata_right\u001b[0m\u001b[0;34m\u001b[0m\u001b[0;34m\u001b[0m\u001b[0m\n\u001b[1;32m     56\u001b[0m \u001b[0;34m\u001b[0m\u001b[0m\n\u001b[0;32m---> 57\u001b[0;31m         \u001b[0mself\u001b[0m\u001b[0;34m.\u001b[0m\u001b[0mselect_decision\u001b[0m\u001b[0;34m(\u001b[0m\u001b[0mdata_left\u001b[0m\u001b[0;34m)\u001b[0m\u001b[0;34m\u001b[0m\u001b[0;34m\u001b[0m\u001b[0m\n\u001b[0m\u001b[1;32m     58\u001b[0m         \u001b[0mself\u001b[0m\u001b[0;34m.\u001b[0m\u001b[0mselect_decision\u001b[0m\u001b[0;34m(\u001b[0m\u001b[0mdata_right\u001b[0m\u001b[0;34m)\u001b[0m\u001b[0;34m\u001b[0m\u001b[0;34m\u001b[0m\u001b[0m\n\u001b[1;32m     59\u001b[0m \u001b[0;34m\u001b[0m\u001b[0m\n",
      "\u001b[0;32m<ipython-input-29-58e91eca0dc1>\u001b[0m in \u001b[0;36mselect_decision\u001b[0;34m(self, data)\u001b[0m\n\u001b[1;32m     55\u001b[0m                 \u001b[0mbest_data_right\u001b[0m \u001b[0;34m=\u001b[0m \u001b[0mdata_right\u001b[0m\u001b[0;34m\u001b[0m\u001b[0;34m\u001b[0m\u001b[0m\n\u001b[1;32m     56\u001b[0m \u001b[0;34m\u001b[0m\u001b[0m\n\u001b[0;32m---> 57\u001b[0;31m         \u001b[0mself\u001b[0m\u001b[0;34m.\u001b[0m\u001b[0mselect_decision\u001b[0m\u001b[0;34m(\u001b[0m\u001b[0mdata_left\u001b[0m\u001b[0;34m)\u001b[0m\u001b[0;34m\u001b[0m\u001b[0;34m\u001b[0m\u001b[0m\n\u001b[0m\u001b[1;32m     58\u001b[0m         \u001b[0mself\u001b[0m\u001b[0;34m.\u001b[0m\u001b[0mselect_decision\u001b[0m\u001b[0;34m(\u001b[0m\u001b[0mdata_right\u001b[0m\u001b[0;34m)\u001b[0m\u001b[0;34m\u001b[0m\u001b[0;34m\u001b[0m\u001b[0m\n\u001b[1;32m     59\u001b[0m \u001b[0;34m\u001b[0m\u001b[0m\n",
      "\u001b[0;32m<ipython-input-29-58e91eca0dc1>\u001b[0m in \u001b[0;36mselect_decision\u001b[0;34m(self, data)\u001b[0m\n\u001b[1;32m     55\u001b[0m                 \u001b[0mbest_data_right\u001b[0m \u001b[0;34m=\u001b[0m \u001b[0mdata_right\u001b[0m\u001b[0;34m\u001b[0m\u001b[0;34m\u001b[0m\u001b[0m\n\u001b[1;32m     56\u001b[0m \u001b[0;34m\u001b[0m\u001b[0m\n\u001b[0;32m---> 57\u001b[0;31m         \u001b[0mself\u001b[0m\u001b[0;34m.\u001b[0m\u001b[0mselect_decision\u001b[0m\u001b[0;34m(\u001b[0m\u001b[0mdata_left\u001b[0m\u001b[0;34m)\u001b[0m\u001b[0;34m\u001b[0m\u001b[0;34m\u001b[0m\u001b[0m\n\u001b[0m\u001b[1;32m     58\u001b[0m         \u001b[0mself\u001b[0m\u001b[0;34m.\u001b[0m\u001b[0mselect_decision\u001b[0m\u001b[0;34m(\u001b[0m\u001b[0mdata_right\u001b[0m\u001b[0;34m)\u001b[0m\u001b[0;34m\u001b[0m\u001b[0;34m\u001b[0m\u001b[0m\n\u001b[1;32m     59\u001b[0m \u001b[0;34m\u001b[0m\u001b[0m\n",
      "\u001b[0;32m<ipython-input-29-58e91eca0dc1>\u001b[0m in \u001b[0;36mselect_decision\u001b[0;34m(self, data)\u001b[0m\n\u001b[1;32m     55\u001b[0m                 \u001b[0mbest_data_right\u001b[0m \u001b[0;34m=\u001b[0m \u001b[0mdata_right\u001b[0m\u001b[0;34m\u001b[0m\u001b[0;34m\u001b[0m\u001b[0m\n\u001b[1;32m     56\u001b[0m \u001b[0;34m\u001b[0m\u001b[0m\n\u001b[0;32m---> 57\u001b[0;31m         \u001b[0mself\u001b[0m\u001b[0;34m.\u001b[0m\u001b[0mselect_decision\u001b[0m\u001b[0;34m(\u001b[0m\u001b[0mdata_left\u001b[0m\u001b[0;34m)\u001b[0m\u001b[0;34m\u001b[0m\u001b[0;34m\u001b[0m\u001b[0m\n\u001b[0m\u001b[1;32m     58\u001b[0m         \u001b[0mself\u001b[0m\u001b[0;34m.\u001b[0m\u001b[0mselect_decision\u001b[0m\u001b[0;34m(\u001b[0m\u001b[0mdata_right\u001b[0m\u001b[0;34m)\u001b[0m\u001b[0;34m\u001b[0m\u001b[0;34m\u001b[0m\u001b[0m\n\u001b[1;32m     59\u001b[0m \u001b[0;34m\u001b[0m\u001b[0m\n",
      "\u001b[0;32m<ipython-input-29-58e91eca0dc1>\u001b[0m in \u001b[0;36mselect_decision\u001b[0;34m(self, data)\u001b[0m\n\u001b[1;32m     55\u001b[0m                 \u001b[0mbest_data_right\u001b[0m \u001b[0;34m=\u001b[0m \u001b[0mdata_right\u001b[0m\u001b[0;34m\u001b[0m\u001b[0;34m\u001b[0m\u001b[0m\n\u001b[1;32m     56\u001b[0m \u001b[0;34m\u001b[0m\u001b[0m\n\u001b[0;32m---> 57\u001b[0;31m         \u001b[0mself\u001b[0m\u001b[0;34m.\u001b[0m\u001b[0mselect_decision\u001b[0m\u001b[0;34m(\u001b[0m\u001b[0mdata_left\u001b[0m\u001b[0;34m)\u001b[0m\u001b[0;34m\u001b[0m\u001b[0;34m\u001b[0m\u001b[0m\n\u001b[0m\u001b[1;32m     58\u001b[0m         \u001b[0mself\u001b[0m\u001b[0;34m.\u001b[0m\u001b[0mselect_decision\u001b[0m\u001b[0;34m(\u001b[0m\u001b[0mdata_right\u001b[0m\u001b[0;34m)\u001b[0m\u001b[0;34m\u001b[0m\u001b[0;34m\u001b[0m\u001b[0m\n\u001b[1;32m     59\u001b[0m \u001b[0;34m\u001b[0m\u001b[0m\n",
      "\u001b[0;32m<ipython-input-29-58e91eca0dc1>\u001b[0m in \u001b[0;36mselect_decision\u001b[0;34m(self, data)\u001b[0m\n\u001b[1;32m     55\u001b[0m                 \u001b[0mbest_data_right\u001b[0m \u001b[0;34m=\u001b[0m \u001b[0mdata_right\u001b[0m\u001b[0;34m\u001b[0m\u001b[0;34m\u001b[0m\u001b[0m\n\u001b[1;32m     56\u001b[0m \u001b[0;34m\u001b[0m\u001b[0m\n\u001b[0;32m---> 57\u001b[0;31m         \u001b[0mself\u001b[0m\u001b[0;34m.\u001b[0m\u001b[0mselect_decision\u001b[0m\u001b[0;34m(\u001b[0m\u001b[0mdata_left\u001b[0m\u001b[0;34m)\u001b[0m\u001b[0;34m\u001b[0m\u001b[0;34m\u001b[0m\u001b[0m\n\u001b[0m\u001b[1;32m     58\u001b[0m         \u001b[0mself\u001b[0m\u001b[0;34m.\u001b[0m\u001b[0mselect_decision\u001b[0m\u001b[0;34m(\u001b[0m\u001b[0mdata_right\u001b[0m\u001b[0;34m)\u001b[0m\u001b[0;34m\u001b[0m\u001b[0;34m\u001b[0m\u001b[0m\n\u001b[1;32m     59\u001b[0m \u001b[0;34m\u001b[0m\u001b[0m\n",
      "\u001b[0;32m<ipython-input-29-58e91eca0dc1>\u001b[0m in \u001b[0;36mselect_decision\u001b[0;34m(self, data)\u001b[0m\n\u001b[1;32m     55\u001b[0m                 \u001b[0mbest_data_right\u001b[0m \u001b[0;34m=\u001b[0m \u001b[0mdata_right\u001b[0m\u001b[0;34m\u001b[0m\u001b[0;34m\u001b[0m\u001b[0m\n\u001b[1;32m     56\u001b[0m \u001b[0;34m\u001b[0m\u001b[0m\n\u001b[0;32m---> 57\u001b[0;31m         \u001b[0mself\u001b[0m\u001b[0;34m.\u001b[0m\u001b[0mselect_decision\u001b[0m\u001b[0;34m(\u001b[0m\u001b[0mdata_left\u001b[0m\u001b[0;34m)\u001b[0m\u001b[0;34m\u001b[0m\u001b[0;34m\u001b[0m\u001b[0m\n\u001b[0m\u001b[1;32m     58\u001b[0m         \u001b[0mself\u001b[0m\u001b[0;34m.\u001b[0m\u001b[0mselect_decision\u001b[0m\u001b[0;34m(\u001b[0m\u001b[0mdata_right\u001b[0m\u001b[0;34m)\u001b[0m\u001b[0;34m\u001b[0m\u001b[0;34m\u001b[0m\u001b[0m\n\u001b[1;32m     59\u001b[0m \u001b[0;34m\u001b[0m\u001b[0m\n",
      "\u001b[0;32m<ipython-input-29-58e91eca0dc1>\u001b[0m in \u001b[0;36mselect_decision\u001b[0;34m(self, data)\u001b[0m\n\u001b[1;32m     55\u001b[0m                 \u001b[0mbest_data_right\u001b[0m \u001b[0;34m=\u001b[0m \u001b[0mdata_right\u001b[0m\u001b[0;34m\u001b[0m\u001b[0;34m\u001b[0m\u001b[0m\n\u001b[1;32m     56\u001b[0m \u001b[0;34m\u001b[0m\u001b[0m\n\u001b[0;32m---> 57\u001b[0;31m         \u001b[0mself\u001b[0m\u001b[0;34m.\u001b[0m\u001b[0mselect_decision\u001b[0m\u001b[0;34m(\u001b[0m\u001b[0mdata_left\u001b[0m\u001b[0;34m)\u001b[0m\u001b[0;34m\u001b[0m\u001b[0;34m\u001b[0m\u001b[0m\n\u001b[0m\u001b[1;32m     58\u001b[0m         \u001b[0mself\u001b[0m\u001b[0;34m.\u001b[0m\u001b[0mselect_decision\u001b[0m\u001b[0;34m(\u001b[0m\u001b[0mdata_right\u001b[0m\u001b[0;34m)\u001b[0m\u001b[0;34m\u001b[0m\u001b[0;34m\u001b[0m\u001b[0m\n\u001b[1;32m     59\u001b[0m \u001b[0;34m\u001b[0m\u001b[0m\n",
      "\u001b[0;32m<ipython-input-29-58e91eca0dc1>\u001b[0m in \u001b[0;36mselect_decision\u001b[0;34m(self, data)\u001b[0m\n\u001b[1;32m     55\u001b[0m                 \u001b[0mbest_data_right\u001b[0m \u001b[0;34m=\u001b[0m \u001b[0mdata_right\u001b[0m\u001b[0;34m\u001b[0m\u001b[0;34m\u001b[0m\u001b[0m\n\u001b[1;32m     56\u001b[0m \u001b[0;34m\u001b[0m\u001b[0m\n\u001b[0;32m---> 57\u001b[0;31m         \u001b[0mself\u001b[0m\u001b[0;34m.\u001b[0m\u001b[0mselect_decision\u001b[0m\u001b[0;34m(\u001b[0m\u001b[0mdata_left\u001b[0m\u001b[0;34m)\u001b[0m\u001b[0;34m\u001b[0m\u001b[0;34m\u001b[0m\u001b[0m\n\u001b[0m\u001b[1;32m     58\u001b[0m         \u001b[0mself\u001b[0m\u001b[0;34m.\u001b[0m\u001b[0mselect_decision\u001b[0m\u001b[0;34m(\u001b[0m\u001b[0mdata_right\u001b[0m\u001b[0;34m)\u001b[0m\u001b[0;34m\u001b[0m\u001b[0;34m\u001b[0m\u001b[0m\n\u001b[1;32m     59\u001b[0m \u001b[0;34m\u001b[0m\u001b[0m\n",
      "\u001b[0;32m<ipython-input-29-58e91eca0dc1>\u001b[0m in \u001b[0;36mselect_decision\u001b[0;34m(self, data)\u001b[0m\n\u001b[1;32m     55\u001b[0m                 \u001b[0mbest_data_right\u001b[0m \u001b[0;34m=\u001b[0m \u001b[0mdata_right\u001b[0m\u001b[0;34m\u001b[0m\u001b[0;34m\u001b[0m\u001b[0m\n\u001b[1;32m     56\u001b[0m \u001b[0;34m\u001b[0m\u001b[0m\n\u001b[0;32m---> 57\u001b[0;31m         \u001b[0mself\u001b[0m\u001b[0;34m.\u001b[0m\u001b[0mselect_decision\u001b[0m\u001b[0;34m(\u001b[0m\u001b[0mdata_left\u001b[0m\u001b[0;34m)\u001b[0m\u001b[0;34m\u001b[0m\u001b[0;34m\u001b[0m\u001b[0m\n\u001b[0m\u001b[1;32m     58\u001b[0m         \u001b[0mself\u001b[0m\u001b[0;34m.\u001b[0m\u001b[0mselect_decision\u001b[0m\u001b[0;34m(\u001b[0m\u001b[0mdata_right\u001b[0m\u001b[0;34m)\u001b[0m\u001b[0;34m\u001b[0m\u001b[0;34m\u001b[0m\u001b[0m\n\u001b[1;32m     59\u001b[0m \u001b[0;34m\u001b[0m\u001b[0m\n",
      "\u001b[0;32m<ipython-input-29-58e91eca0dc1>\u001b[0m in \u001b[0;36mselect_decision\u001b[0;34m(self, data)\u001b[0m\n\u001b[1;32m     55\u001b[0m                 \u001b[0mbest_data_right\u001b[0m \u001b[0;34m=\u001b[0m \u001b[0mdata_right\u001b[0m\u001b[0;34m\u001b[0m\u001b[0;34m\u001b[0m\u001b[0m\n\u001b[1;32m     56\u001b[0m \u001b[0;34m\u001b[0m\u001b[0m\n\u001b[0;32m---> 57\u001b[0;31m         \u001b[0mself\u001b[0m\u001b[0;34m.\u001b[0m\u001b[0mselect_decision\u001b[0m\u001b[0;34m(\u001b[0m\u001b[0mdata_left\u001b[0m\u001b[0;34m)\u001b[0m\u001b[0;34m\u001b[0m\u001b[0;34m\u001b[0m\u001b[0m\n\u001b[0m\u001b[1;32m     58\u001b[0m         \u001b[0mself\u001b[0m\u001b[0;34m.\u001b[0m\u001b[0mselect_decision\u001b[0m\u001b[0;34m(\u001b[0m\u001b[0mdata_right\u001b[0m\u001b[0;34m)\u001b[0m\u001b[0;34m\u001b[0m\u001b[0;34m\u001b[0m\u001b[0m\n\u001b[1;32m     59\u001b[0m \u001b[0;34m\u001b[0m\u001b[0m\n",
      "\u001b[0;32m<ipython-input-29-58e91eca0dc1>\u001b[0m in \u001b[0;36mselect_decision\u001b[0;34m(self, data)\u001b[0m\n\u001b[1;32m     55\u001b[0m                 \u001b[0mbest_data_right\u001b[0m \u001b[0;34m=\u001b[0m \u001b[0mdata_right\u001b[0m\u001b[0;34m\u001b[0m\u001b[0;34m\u001b[0m\u001b[0m\n\u001b[1;32m     56\u001b[0m \u001b[0;34m\u001b[0m\u001b[0m\n\u001b[0;32m---> 57\u001b[0;31m         \u001b[0mself\u001b[0m\u001b[0;34m.\u001b[0m\u001b[0mselect_decision\u001b[0m\u001b[0;34m(\u001b[0m\u001b[0mdata_left\u001b[0m\u001b[0;34m)\u001b[0m\u001b[0;34m\u001b[0m\u001b[0;34m\u001b[0m\u001b[0m\n\u001b[0m\u001b[1;32m     58\u001b[0m         \u001b[0mself\u001b[0m\u001b[0;34m.\u001b[0m\u001b[0mselect_decision\u001b[0m\u001b[0;34m(\u001b[0m\u001b[0mdata_right\u001b[0m\u001b[0;34m)\u001b[0m\u001b[0;34m\u001b[0m\u001b[0;34m\u001b[0m\u001b[0m\n\u001b[1;32m     59\u001b[0m \u001b[0;34m\u001b[0m\u001b[0m\n",
      "\u001b[0;32m<ipython-input-29-58e91eca0dc1>\u001b[0m in \u001b[0;36mselect_decision\u001b[0;34m(self, data)\u001b[0m\n\u001b[1;32m     55\u001b[0m                 \u001b[0mbest_data_right\u001b[0m \u001b[0;34m=\u001b[0m \u001b[0mdata_right\u001b[0m\u001b[0;34m\u001b[0m\u001b[0;34m\u001b[0m\u001b[0m\n\u001b[1;32m     56\u001b[0m \u001b[0;34m\u001b[0m\u001b[0m\n\u001b[0;32m---> 57\u001b[0;31m         \u001b[0mself\u001b[0m\u001b[0;34m.\u001b[0m\u001b[0mselect_decision\u001b[0m\u001b[0;34m(\u001b[0m\u001b[0mdata_left\u001b[0m\u001b[0;34m)\u001b[0m\u001b[0;34m\u001b[0m\u001b[0;34m\u001b[0m\u001b[0m\n\u001b[0m\u001b[1;32m     58\u001b[0m         \u001b[0mself\u001b[0m\u001b[0;34m.\u001b[0m\u001b[0mselect_decision\u001b[0m\u001b[0;34m(\u001b[0m\u001b[0mdata_right\u001b[0m\u001b[0;34m)\u001b[0m\u001b[0;34m\u001b[0m\u001b[0;34m\u001b[0m\u001b[0m\n\u001b[1;32m     59\u001b[0m \u001b[0;34m\u001b[0m\u001b[0m\n",
      "\u001b[0;32m<ipython-input-29-58e91eca0dc1>\u001b[0m in \u001b[0;36mselect_decision\u001b[0;34m(self, data)\u001b[0m\n\u001b[1;32m     55\u001b[0m                 \u001b[0mbest_data_right\u001b[0m \u001b[0;34m=\u001b[0m \u001b[0mdata_right\u001b[0m\u001b[0;34m\u001b[0m\u001b[0;34m\u001b[0m\u001b[0m\n\u001b[1;32m     56\u001b[0m \u001b[0;34m\u001b[0m\u001b[0m\n\u001b[0;32m---> 57\u001b[0;31m         \u001b[0mself\u001b[0m\u001b[0;34m.\u001b[0m\u001b[0mselect_decision\u001b[0m\u001b[0;34m(\u001b[0m\u001b[0mdata_left\u001b[0m\u001b[0;34m)\u001b[0m\u001b[0;34m\u001b[0m\u001b[0;34m\u001b[0m\u001b[0m\n\u001b[0m\u001b[1;32m     58\u001b[0m         \u001b[0mself\u001b[0m\u001b[0;34m.\u001b[0m\u001b[0mselect_decision\u001b[0m\u001b[0;34m(\u001b[0m\u001b[0mdata_right\u001b[0m\u001b[0;34m)\u001b[0m\u001b[0;34m\u001b[0m\u001b[0;34m\u001b[0m\u001b[0m\n\u001b[1;32m     59\u001b[0m \u001b[0;34m\u001b[0m\u001b[0m\n",
      "\u001b[0;32m<ipython-input-29-58e91eca0dc1>\u001b[0m in \u001b[0;36mselect_decision\u001b[0;34m(self, data)\u001b[0m\n\u001b[1;32m     55\u001b[0m                 \u001b[0mbest_data_right\u001b[0m \u001b[0;34m=\u001b[0m \u001b[0mdata_right\u001b[0m\u001b[0;34m\u001b[0m\u001b[0;34m\u001b[0m\u001b[0m\n\u001b[1;32m     56\u001b[0m \u001b[0;34m\u001b[0m\u001b[0m\n\u001b[0;32m---> 57\u001b[0;31m         \u001b[0mself\u001b[0m\u001b[0;34m.\u001b[0m\u001b[0mselect_decision\u001b[0m\u001b[0;34m(\u001b[0m\u001b[0mdata_left\u001b[0m\u001b[0;34m)\u001b[0m\u001b[0;34m\u001b[0m\u001b[0;34m\u001b[0m\u001b[0m\n\u001b[0m\u001b[1;32m     58\u001b[0m         \u001b[0mself\u001b[0m\u001b[0;34m.\u001b[0m\u001b[0mselect_decision\u001b[0m\u001b[0;34m(\u001b[0m\u001b[0mdata_right\u001b[0m\u001b[0;34m)\u001b[0m\u001b[0;34m\u001b[0m\u001b[0;34m\u001b[0m\u001b[0m\n\u001b[1;32m     59\u001b[0m \u001b[0;34m\u001b[0m\u001b[0m\n",
      "\u001b[0;32m<ipython-input-29-58e91eca0dc1>\u001b[0m in \u001b[0;36mselect_decision\u001b[0;34m(self, data)\u001b[0m\n\u001b[1;32m     55\u001b[0m                 \u001b[0mbest_data_right\u001b[0m \u001b[0;34m=\u001b[0m \u001b[0mdata_right\u001b[0m\u001b[0;34m\u001b[0m\u001b[0;34m\u001b[0m\u001b[0m\n\u001b[1;32m     56\u001b[0m \u001b[0;34m\u001b[0m\u001b[0m\n\u001b[0;32m---> 57\u001b[0;31m         \u001b[0mself\u001b[0m\u001b[0;34m.\u001b[0m\u001b[0mselect_decision\u001b[0m\u001b[0;34m(\u001b[0m\u001b[0mdata_left\u001b[0m\u001b[0;34m)\u001b[0m\u001b[0;34m\u001b[0m\u001b[0;34m\u001b[0m\u001b[0m\n\u001b[0m\u001b[1;32m     58\u001b[0m         \u001b[0mself\u001b[0m\u001b[0;34m.\u001b[0m\u001b[0mselect_decision\u001b[0m\u001b[0;34m(\u001b[0m\u001b[0mdata_right\u001b[0m\u001b[0;34m)\u001b[0m\u001b[0;34m\u001b[0m\u001b[0;34m\u001b[0m\u001b[0m\n\u001b[1;32m     59\u001b[0m \u001b[0;34m\u001b[0m\u001b[0m\n",
      "\u001b[0;32m<ipython-input-29-58e91eca0dc1>\u001b[0m in \u001b[0;36mselect_decision\u001b[0;34m(self, data)\u001b[0m\n\u001b[1;32m     55\u001b[0m                 \u001b[0mbest_data_right\u001b[0m \u001b[0;34m=\u001b[0m \u001b[0mdata_right\u001b[0m\u001b[0;34m\u001b[0m\u001b[0;34m\u001b[0m\u001b[0m\n\u001b[1;32m     56\u001b[0m \u001b[0;34m\u001b[0m\u001b[0m\n\u001b[0;32m---> 57\u001b[0;31m         \u001b[0mself\u001b[0m\u001b[0;34m.\u001b[0m\u001b[0mselect_decision\u001b[0m\u001b[0;34m(\u001b[0m\u001b[0mdata_left\u001b[0m\u001b[0;34m)\u001b[0m\u001b[0;34m\u001b[0m\u001b[0;34m\u001b[0m\u001b[0m\n\u001b[0m\u001b[1;32m     58\u001b[0m         \u001b[0mself\u001b[0m\u001b[0;34m.\u001b[0m\u001b[0mselect_decision\u001b[0m\u001b[0;34m(\u001b[0m\u001b[0mdata_right\u001b[0m\u001b[0;34m)\u001b[0m\u001b[0;34m\u001b[0m\u001b[0;34m\u001b[0m\u001b[0m\n\u001b[1;32m     59\u001b[0m \u001b[0;34m\u001b[0m\u001b[0m\n",
      "\u001b[0;32m<ipython-input-29-58e91eca0dc1>\u001b[0m in \u001b[0;36mselect_decision\u001b[0;34m(self, data)\u001b[0m\n\u001b[1;32m     55\u001b[0m                 \u001b[0mbest_data_right\u001b[0m \u001b[0;34m=\u001b[0m \u001b[0mdata_right\u001b[0m\u001b[0;34m\u001b[0m\u001b[0;34m\u001b[0m\u001b[0m\n\u001b[1;32m     56\u001b[0m \u001b[0;34m\u001b[0m\u001b[0m\n\u001b[0;32m---> 57\u001b[0;31m         \u001b[0mself\u001b[0m\u001b[0;34m.\u001b[0m\u001b[0mselect_decision\u001b[0m\u001b[0;34m(\u001b[0m\u001b[0mdata_left\u001b[0m\u001b[0;34m)\u001b[0m\u001b[0;34m\u001b[0m\u001b[0;34m\u001b[0m\u001b[0m\n\u001b[0m\u001b[1;32m     58\u001b[0m         \u001b[0mself\u001b[0m\u001b[0;34m.\u001b[0m\u001b[0mselect_decision\u001b[0m\u001b[0;34m(\u001b[0m\u001b[0mdata_right\u001b[0m\u001b[0;34m)\u001b[0m\u001b[0;34m\u001b[0m\u001b[0;34m\u001b[0m\u001b[0m\n\u001b[1;32m     59\u001b[0m \u001b[0;34m\u001b[0m\u001b[0m\n",
      "\u001b[0;32m<ipython-input-29-58e91eca0dc1>\u001b[0m in \u001b[0;36mselect_decision\u001b[0;34m(self, data)\u001b[0m\n\u001b[1;32m     55\u001b[0m                 \u001b[0mbest_data_right\u001b[0m \u001b[0;34m=\u001b[0m \u001b[0mdata_right\u001b[0m\u001b[0;34m\u001b[0m\u001b[0;34m\u001b[0m\u001b[0m\n\u001b[1;32m     56\u001b[0m \u001b[0;34m\u001b[0m\u001b[0m\n\u001b[0;32m---> 57\u001b[0;31m         \u001b[0mself\u001b[0m\u001b[0;34m.\u001b[0m\u001b[0mselect_decision\u001b[0m\u001b[0;34m(\u001b[0m\u001b[0mdata_left\u001b[0m\u001b[0;34m)\u001b[0m\u001b[0;34m\u001b[0m\u001b[0;34m\u001b[0m\u001b[0m\n\u001b[0m\u001b[1;32m     58\u001b[0m         \u001b[0mself\u001b[0m\u001b[0;34m.\u001b[0m\u001b[0mselect_decision\u001b[0m\u001b[0;34m(\u001b[0m\u001b[0mdata_right\u001b[0m\u001b[0;34m)\u001b[0m\u001b[0;34m\u001b[0m\u001b[0;34m\u001b[0m\u001b[0m\n\u001b[1;32m     59\u001b[0m \u001b[0;34m\u001b[0m\u001b[0m\n",
      "\u001b[0;32m<ipython-input-29-58e91eca0dc1>\u001b[0m in \u001b[0;36mselect_decision\u001b[0;34m(self, data)\u001b[0m\n\u001b[1;32m     55\u001b[0m                 \u001b[0mbest_data_right\u001b[0m \u001b[0;34m=\u001b[0m \u001b[0mdata_right\u001b[0m\u001b[0;34m\u001b[0m\u001b[0;34m\u001b[0m\u001b[0m\n\u001b[1;32m     56\u001b[0m \u001b[0;34m\u001b[0m\u001b[0m\n\u001b[0;32m---> 57\u001b[0;31m         \u001b[0mself\u001b[0m\u001b[0;34m.\u001b[0m\u001b[0mselect_decision\u001b[0m\u001b[0;34m(\u001b[0m\u001b[0mdata_left\u001b[0m\u001b[0;34m)\u001b[0m\u001b[0;34m\u001b[0m\u001b[0;34m\u001b[0m\u001b[0m\n\u001b[0m\u001b[1;32m     58\u001b[0m         \u001b[0mself\u001b[0m\u001b[0;34m.\u001b[0m\u001b[0mselect_decision\u001b[0m\u001b[0;34m(\u001b[0m\u001b[0mdata_right\u001b[0m\u001b[0;34m)\u001b[0m\u001b[0;34m\u001b[0m\u001b[0;34m\u001b[0m\u001b[0m\n\u001b[1;32m     59\u001b[0m \u001b[0;34m\u001b[0m\u001b[0m\n",
      "\u001b[0;32m<ipython-input-29-58e91eca0dc1>\u001b[0m in \u001b[0;36mselect_decision\u001b[0;34m(self, data)\u001b[0m\n\u001b[1;32m     55\u001b[0m                 \u001b[0mbest_data_right\u001b[0m \u001b[0;34m=\u001b[0m \u001b[0mdata_right\u001b[0m\u001b[0;34m\u001b[0m\u001b[0;34m\u001b[0m\u001b[0m\n\u001b[1;32m     56\u001b[0m \u001b[0;34m\u001b[0m\u001b[0m\n\u001b[0;32m---> 57\u001b[0;31m         \u001b[0mself\u001b[0m\u001b[0;34m.\u001b[0m\u001b[0mselect_decision\u001b[0m\u001b[0;34m(\u001b[0m\u001b[0mdata_left\u001b[0m\u001b[0;34m)\u001b[0m\u001b[0;34m\u001b[0m\u001b[0;34m\u001b[0m\u001b[0m\n\u001b[0m\u001b[1;32m     58\u001b[0m         \u001b[0mself\u001b[0m\u001b[0;34m.\u001b[0m\u001b[0mselect_decision\u001b[0m\u001b[0;34m(\u001b[0m\u001b[0mdata_right\u001b[0m\u001b[0;34m)\u001b[0m\u001b[0;34m\u001b[0m\u001b[0;34m\u001b[0m\u001b[0m\n\u001b[1;32m     59\u001b[0m \u001b[0;34m\u001b[0m\u001b[0m\n",
      "\u001b[0;32m<ipython-input-29-58e91eca0dc1>\u001b[0m in \u001b[0;36mselect_decision\u001b[0;34m(self, data)\u001b[0m\n\u001b[1;32m     55\u001b[0m                 \u001b[0mbest_data_right\u001b[0m \u001b[0;34m=\u001b[0m \u001b[0mdata_right\u001b[0m\u001b[0;34m\u001b[0m\u001b[0;34m\u001b[0m\u001b[0m\n\u001b[1;32m     56\u001b[0m \u001b[0;34m\u001b[0m\u001b[0m\n\u001b[0;32m---> 57\u001b[0;31m         \u001b[0mself\u001b[0m\u001b[0;34m.\u001b[0m\u001b[0mselect_decision\u001b[0m\u001b[0;34m(\u001b[0m\u001b[0mdata_left\u001b[0m\u001b[0;34m)\u001b[0m\u001b[0;34m\u001b[0m\u001b[0;34m\u001b[0m\u001b[0m\n\u001b[0m\u001b[1;32m     58\u001b[0m         \u001b[0mself\u001b[0m\u001b[0;34m.\u001b[0m\u001b[0mselect_decision\u001b[0m\u001b[0;34m(\u001b[0m\u001b[0mdata_right\u001b[0m\u001b[0;34m)\u001b[0m\u001b[0;34m\u001b[0m\u001b[0;34m\u001b[0m\u001b[0m\n\u001b[1;32m     59\u001b[0m \u001b[0;34m\u001b[0m\u001b[0m\n",
      "\u001b[0;32m<ipython-input-29-58e91eca0dc1>\u001b[0m in \u001b[0;36mselect_decision\u001b[0;34m(self, data)\u001b[0m\n\u001b[1;32m     55\u001b[0m                 \u001b[0mbest_data_right\u001b[0m \u001b[0;34m=\u001b[0m \u001b[0mdata_right\u001b[0m\u001b[0;34m\u001b[0m\u001b[0;34m\u001b[0m\u001b[0m\n\u001b[1;32m     56\u001b[0m \u001b[0;34m\u001b[0m\u001b[0m\n\u001b[0;32m---> 57\u001b[0;31m         \u001b[0mself\u001b[0m\u001b[0;34m.\u001b[0m\u001b[0mselect_decision\u001b[0m\u001b[0;34m(\u001b[0m\u001b[0mdata_left\u001b[0m\u001b[0;34m)\u001b[0m\u001b[0;34m\u001b[0m\u001b[0;34m\u001b[0m\u001b[0m\n\u001b[0m\u001b[1;32m     58\u001b[0m         \u001b[0mself\u001b[0m\u001b[0;34m.\u001b[0m\u001b[0mselect_decision\u001b[0m\u001b[0;34m(\u001b[0m\u001b[0mdata_right\u001b[0m\u001b[0;34m)\u001b[0m\u001b[0;34m\u001b[0m\u001b[0;34m\u001b[0m\u001b[0m\n\u001b[1;32m     59\u001b[0m \u001b[0;34m\u001b[0m\u001b[0m\n",
      "\u001b[0;32m<ipython-input-29-58e91eca0dc1>\u001b[0m in \u001b[0;36mselect_decision\u001b[0;34m(self, data)\u001b[0m\n\u001b[1;32m     55\u001b[0m                 \u001b[0mbest_data_right\u001b[0m \u001b[0;34m=\u001b[0m \u001b[0mdata_right\u001b[0m\u001b[0;34m\u001b[0m\u001b[0;34m\u001b[0m\u001b[0m\n\u001b[1;32m     56\u001b[0m \u001b[0;34m\u001b[0m\u001b[0m\n\u001b[0;32m---> 57\u001b[0;31m         \u001b[0mself\u001b[0m\u001b[0;34m.\u001b[0m\u001b[0mselect_decision\u001b[0m\u001b[0;34m(\u001b[0m\u001b[0mdata_left\u001b[0m\u001b[0;34m)\u001b[0m\u001b[0;34m\u001b[0m\u001b[0;34m\u001b[0m\u001b[0m\n\u001b[0m\u001b[1;32m     58\u001b[0m         \u001b[0mself\u001b[0m\u001b[0;34m.\u001b[0m\u001b[0mselect_decision\u001b[0m\u001b[0;34m(\u001b[0m\u001b[0mdata_right\u001b[0m\u001b[0;34m)\u001b[0m\u001b[0;34m\u001b[0m\u001b[0;34m\u001b[0m\u001b[0m\n\u001b[1;32m     59\u001b[0m \u001b[0;34m\u001b[0m\u001b[0m\n",
      "\u001b[0;32m<ipython-input-29-58e91eca0dc1>\u001b[0m in \u001b[0;36mselect_decision\u001b[0;34m(self, data)\u001b[0m\n\u001b[1;32m     55\u001b[0m                 \u001b[0mbest_data_right\u001b[0m \u001b[0;34m=\u001b[0m \u001b[0mdata_right\u001b[0m\u001b[0;34m\u001b[0m\u001b[0;34m\u001b[0m\u001b[0m\n\u001b[1;32m     56\u001b[0m \u001b[0;34m\u001b[0m\u001b[0m\n\u001b[0;32m---> 57\u001b[0;31m         \u001b[0mself\u001b[0m\u001b[0;34m.\u001b[0m\u001b[0mselect_decision\u001b[0m\u001b[0;34m(\u001b[0m\u001b[0mdata_left\u001b[0m\u001b[0;34m)\u001b[0m\u001b[0;34m\u001b[0m\u001b[0;34m\u001b[0m\u001b[0m\n\u001b[0m\u001b[1;32m     58\u001b[0m         \u001b[0mself\u001b[0m\u001b[0;34m.\u001b[0m\u001b[0mselect_decision\u001b[0m\u001b[0;34m(\u001b[0m\u001b[0mdata_right\u001b[0m\u001b[0;34m)\u001b[0m\u001b[0;34m\u001b[0m\u001b[0;34m\u001b[0m\u001b[0m\n\u001b[1;32m     59\u001b[0m \u001b[0;34m\u001b[0m\u001b[0m\n",
      "\u001b[0;32m<ipython-input-29-58e91eca0dc1>\u001b[0m in \u001b[0;36mselect_decision\u001b[0;34m(self, data)\u001b[0m\n\u001b[1;32m     55\u001b[0m                 \u001b[0mbest_data_right\u001b[0m \u001b[0;34m=\u001b[0m \u001b[0mdata_right\u001b[0m\u001b[0;34m\u001b[0m\u001b[0;34m\u001b[0m\u001b[0m\n\u001b[1;32m     56\u001b[0m \u001b[0;34m\u001b[0m\u001b[0m\n\u001b[0;32m---> 57\u001b[0;31m         \u001b[0mself\u001b[0m\u001b[0;34m.\u001b[0m\u001b[0mselect_decision\u001b[0m\u001b[0;34m(\u001b[0m\u001b[0mdata_left\u001b[0m\u001b[0;34m)\u001b[0m\u001b[0;34m\u001b[0m\u001b[0;34m\u001b[0m\u001b[0m\n\u001b[0m\u001b[1;32m     58\u001b[0m         \u001b[0mself\u001b[0m\u001b[0;34m.\u001b[0m\u001b[0mselect_decision\u001b[0m\u001b[0;34m(\u001b[0m\u001b[0mdata_right\u001b[0m\u001b[0;34m)\u001b[0m\u001b[0;34m\u001b[0m\u001b[0;34m\u001b[0m\u001b[0m\n\u001b[1;32m     59\u001b[0m \u001b[0;34m\u001b[0m\u001b[0m\n",
      "\u001b[0;32m<ipython-input-29-58e91eca0dc1>\u001b[0m in \u001b[0;36mselect_decision\u001b[0;34m(self, data)\u001b[0m\n\u001b[1;32m     55\u001b[0m                 \u001b[0mbest_data_right\u001b[0m \u001b[0;34m=\u001b[0m \u001b[0mdata_right\u001b[0m\u001b[0;34m\u001b[0m\u001b[0;34m\u001b[0m\u001b[0m\n\u001b[1;32m     56\u001b[0m \u001b[0;34m\u001b[0m\u001b[0m\n\u001b[0;32m---> 57\u001b[0;31m         \u001b[0mself\u001b[0m\u001b[0;34m.\u001b[0m\u001b[0mselect_decision\u001b[0m\u001b[0;34m(\u001b[0m\u001b[0mdata_left\u001b[0m\u001b[0;34m)\u001b[0m\u001b[0;34m\u001b[0m\u001b[0;34m\u001b[0m\u001b[0m\n\u001b[0m\u001b[1;32m     58\u001b[0m         \u001b[0mself\u001b[0m\u001b[0;34m.\u001b[0m\u001b[0mselect_decision\u001b[0m\u001b[0;34m(\u001b[0m\u001b[0mdata_right\u001b[0m\u001b[0;34m)\u001b[0m\u001b[0;34m\u001b[0m\u001b[0;34m\u001b[0m\u001b[0m\n\u001b[1;32m     59\u001b[0m \u001b[0;34m\u001b[0m\u001b[0m\n",
      "\u001b[0;32m<ipython-input-29-58e91eca0dc1>\u001b[0m in \u001b[0;36mselect_decision\u001b[0;34m(self, data)\u001b[0m\n\u001b[1;32m     55\u001b[0m                 \u001b[0mbest_data_right\u001b[0m \u001b[0;34m=\u001b[0m \u001b[0mdata_right\u001b[0m\u001b[0;34m\u001b[0m\u001b[0;34m\u001b[0m\u001b[0m\n\u001b[1;32m     56\u001b[0m \u001b[0;34m\u001b[0m\u001b[0m\n\u001b[0;32m---> 57\u001b[0;31m         \u001b[0mself\u001b[0m\u001b[0;34m.\u001b[0m\u001b[0mselect_decision\u001b[0m\u001b[0;34m(\u001b[0m\u001b[0mdata_left\u001b[0m\u001b[0;34m)\u001b[0m\u001b[0;34m\u001b[0m\u001b[0;34m\u001b[0m\u001b[0m\n\u001b[0m\u001b[1;32m     58\u001b[0m         \u001b[0mself\u001b[0m\u001b[0;34m.\u001b[0m\u001b[0mselect_decision\u001b[0m\u001b[0;34m(\u001b[0m\u001b[0mdata_right\u001b[0m\u001b[0;34m)\u001b[0m\u001b[0;34m\u001b[0m\u001b[0;34m\u001b[0m\u001b[0m\n\u001b[1;32m     59\u001b[0m \u001b[0;34m\u001b[0m\u001b[0m\n",
      "\u001b[0;32m<ipython-input-29-58e91eca0dc1>\u001b[0m in \u001b[0;36mselect_decision\u001b[0;34m(self, data)\u001b[0m\n\u001b[1;32m     55\u001b[0m                 \u001b[0mbest_data_right\u001b[0m \u001b[0;34m=\u001b[0m \u001b[0mdata_right\u001b[0m\u001b[0;34m\u001b[0m\u001b[0;34m\u001b[0m\u001b[0m\n\u001b[1;32m     56\u001b[0m \u001b[0;34m\u001b[0m\u001b[0m\n\u001b[0;32m---> 57\u001b[0;31m         \u001b[0mself\u001b[0m\u001b[0;34m.\u001b[0m\u001b[0mselect_decision\u001b[0m\u001b[0;34m(\u001b[0m\u001b[0mdata_left\u001b[0m\u001b[0;34m)\u001b[0m\u001b[0;34m\u001b[0m\u001b[0;34m\u001b[0m\u001b[0m\n\u001b[0m\u001b[1;32m     58\u001b[0m         \u001b[0mself\u001b[0m\u001b[0;34m.\u001b[0m\u001b[0mselect_decision\u001b[0m\u001b[0;34m(\u001b[0m\u001b[0mdata_right\u001b[0m\u001b[0;34m)\u001b[0m\u001b[0;34m\u001b[0m\u001b[0;34m\u001b[0m\u001b[0m\n\u001b[1;32m     59\u001b[0m \u001b[0;34m\u001b[0m\u001b[0m\n",
      "\u001b[0;32m<ipython-input-29-58e91eca0dc1>\u001b[0m in \u001b[0;36mselect_decision\u001b[0;34m(self, data)\u001b[0m\n\u001b[1;32m     55\u001b[0m                 \u001b[0mbest_data_right\u001b[0m \u001b[0;34m=\u001b[0m \u001b[0mdata_right\u001b[0m\u001b[0;34m\u001b[0m\u001b[0;34m\u001b[0m\u001b[0m\n\u001b[1;32m     56\u001b[0m \u001b[0;34m\u001b[0m\u001b[0m\n\u001b[0;32m---> 57\u001b[0;31m         \u001b[0mself\u001b[0m\u001b[0;34m.\u001b[0m\u001b[0mselect_decision\u001b[0m\u001b[0;34m(\u001b[0m\u001b[0mdata_left\u001b[0m\u001b[0;34m)\u001b[0m\u001b[0;34m\u001b[0m\u001b[0;34m\u001b[0m\u001b[0m\n\u001b[0m\u001b[1;32m     58\u001b[0m         \u001b[0mself\u001b[0m\u001b[0;34m.\u001b[0m\u001b[0mselect_decision\u001b[0m\u001b[0;34m(\u001b[0m\u001b[0mdata_right\u001b[0m\u001b[0;34m)\u001b[0m\u001b[0;34m\u001b[0m\u001b[0;34m\u001b[0m\u001b[0m\n\u001b[1;32m     59\u001b[0m \u001b[0;34m\u001b[0m\u001b[0m\n",
      "\u001b[0;32m<ipython-input-29-58e91eca0dc1>\u001b[0m in \u001b[0;36mselect_decision\u001b[0;34m(self, data)\u001b[0m\n\u001b[1;32m     55\u001b[0m                 \u001b[0mbest_data_right\u001b[0m \u001b[0;34m=\u001b[0m \u001b[0mdata_right\u001b[0m\u001b[0;34m\u001b[0m\u001b[0;34m\u001b[0m\u001b[0m\n\u001b[1;32m     56\u001b[0m \u001b[0;34m\u001b[0m\u001b[0m\n\u001b[0;32m---> 57\u001b[0;31m         \u001b[0mself\u001b[0m\u001b[0;34m.\u001b[0m\u001b[0mselect_decision\u001b[0m\u001b[0;34m(\u001b[0m\u001b[0mdata_left\u001b[0m\u001b[0;34m)\u001b[0m\u001b[0;34m\u001b[0m\u001b[0;34m\u001b[0m\u001b[0m\n\u001b[0m\u001b[1;32m     58\u001b[0m         \u001b[0mself\u001b[0m\u001b[0;34m.\u001b[0m\u001b[0mselect_decision\u001b[0m\u001b[0;34m(\u001b[0m\u001b[0mdata_right\u001b[0m\u001b[0;34m)\u001b[0m\u001b[0;34m\u001b[0m\u001b[0;34m\u001b[0m\u001b[0m\n\u001b[1;32m     59\u001b[0m \u001b[0;34m\u001b[0m\u001b[0m\n",
      "\u001b[0;32m<ipython-input-29-58e91eca0dc1>\u001b[0m in \u001b[0;36mselect_decision\u001b[0;34m(self, data)\u001b[0m\n\u001b[1;32m     55\u001b[0m                 \u001b[0mbest_data_right\u001b[0m \u001b[0;34m=\u001b[0m \u001b[0mdata_right\u001b[0m\u001b[0;34m\u001b[0m\u001b[0;34m\u001b[0m\u001b[0m\n\u001b[1;32m     56\u001b[0m \u001b[0;34m\u001b[0m\u001b[0m\n\u001b[0;32m---> 57\u001b[0;31m         \u001b[0mself\u001b[0m\u001b[0;34m.\u001b[0m\u001b[0mselect_decision\u001b[0m\u001b[0;34m(\u001b[0m\u001b[0mdata_left\u001b[0m\u001b[0;34m)\u001b[0m\u001b[0;34m\u001b[0m\u001b[0;34m\u001b[0m\u001b[0m\n\u001b[0m\u001b[1;32m     58\u001b[0m         \u001b[0mself\u001b[0m\u001b[0;34m.\u001b[0m\u001b[0mselect_decision\u001b[0m\u001b[0;34m(\u001b[0m\u001b[0mdata_right\u001b[0m\u001b[0;34m)\u001b[0m\u001b[0;34m\u001b[0m\u001b[0;34m\u001b[0m\u001b[0m\n\u001b[1;32m     59\u001b[0m \u001b[0;34m\u001b[0m\u001b[0m\n",
      "\u001b[0;32m<ipython-input-29-58e91eca0dc1>\u001b[0m in \u001b[0;36mselect_decision\u001b[0;34m(self, data)\u001b[0m\n\u001b[1;32m     55\u001b[0m                 \u001b[0mbest_data_right\u001b[0m \u001b[0;34m=\u001b[0m \u001b[0mdata_right\u001b[0m\u001b[0;34m\u001b[0m\u001b[0;34m\u001b[0m\u001b[0m\n\u001b[1;32m     56\u001b[0m \u001b[0;34m\u001b[0m\u001b[0m\n\u001b[0;32m---> 57\u001b[0;31m         \u001b[0mself\u001b[0m\u001b[0;34m.\u001b[0m\u001b[0mselect_decision\u001b[0m\u001b[0;34m(\u001b[0m\u001b[0mdata_left\u001b[0m\u001b[0;34m)\u001b[0m\u001b[0;34m\u001b[0m\u001b[0;34m\u001b[0m\u001b[0m\n\u001b[0m\u001b[1;32m     58\u001b[0m         \u001b[0mself\u001b[0m\u001b[0;34m.\u001b[0m\u001b[0mselect_decision\u001b[0m\u001b[0;34m(\u001b[0m\u001b[0mdata_right\u001b[0m\u001b[0;34m)\u001b[0m\u001b[0;34m\u001b[0m\u001b[0;34m\u001b[0m\u001b[0m\n\u001b[1;32m     59\u001b[0m \u001b[0;34m\u001b[0m\u001b[0m\n",
      "\u001b[0;32m<ipython-input-29-58e91eca0dc1>\u001b[0m in \u001b[0;36mselect_decision\u001b[0;34m(self, data)\u001b[0m\n\u001b[1;32m     55\u001b[0m                 \u001b[0mbest_data_right\u001b[0m \u001b[0;34m=\u001b[0m \u001b[0mdata_right\u001b[0m\u001b[0;34m\u001b[0m\u001b[0;34m\u001b[0m\u001b[0m\n\u001b[1;32m     56\u001b[0m \u001b[0;34m\u001b[0m\u001b[0m\n\u001b[0;32m---> 57\u001b[0;31m         \u001b[0mself\u001b[0m\u001b[0;34m.\u001b[0m\u001b[0mselect_decision\u001b[0m\u001b[0;34m(\u001b[0m\u001b[0mdata_left\u001b[0m\u001b[0;34m)\u001b[0m\u001b[0;34m\u001b[0m\u001b[0;34m\u001b[0m\u001b[0m\n\u001b[0m\u001b[1;32m     58\u001b[0m         \u001b[0mself\u001b[0m\u001b[0;34m.\u001b[0m\u001b[0mselect_decision\u001b[0m\u001b[0;34m(\u001b[0m\u001b[0mdata_right\u001b[0m\u001b[0;34m)\u001b[0m\u001b[0;34m\u001b[0m\u001b[0;34m\u001b[0m\u001b[0m\n\u001b[1;32m     59\u001b[0m \u001b[0;34m\u001b[0m\u001b[0m\n",
      "\u001b[0;32m<ipython-input-29-58e91eca0dc1>\u001b[0m in \u001b[0;36mselect_decision\u001b[0;34m(self, data)\u001b[0m\n\u001b[1;32m     55\u001b[0m                 \u001b[0mbest_data_right\u001b[0m \u001b[0;34m=\u001b[0m \u001b[0mdata_right\u001b[0m\u001b[0;34m\u001b[0m\u001b[0;34m\u001b[0m\u001b[0m\n\u001b[1;32m     56\u001b[0m \u001b[0;34m\u001b[0m\u001b[0m\n\u001b[0;32m---> 57\u001b[0;31m         \u001b[0mself\u001b[0m\u001b[0;34m.\u001b[0m\u001b[0mselect_decision\u001b[0m\u001b[0;34m(\u001b[0m\u001b[0mdata_left\u001b[0m\u001b[0;34m)\u001b[0m\u001b[0;34m\u001b[0m\u001b[0;34m\u001b[0m\u001b[0m\n\u001b[0m\u001b[1;32m     58\u001b[0m         \u001b[0mself\u001b[0m\u001b[0;34m.\u001b[0m\u001b[0mselect_decision\u001b[0m\u001b[0;34m(\u001b[0m\u001b[0mdata_right\u001b[0m\u001b[0;34m)\u001b[0m\u001b[0;34m\u001b[0m\u001b[0;34m\u001b[0m\u001b[0m\n\u001b[1;32m     59\u001b[0m \u001b[0;34m\u001b[0m\u001b[0m\n",
      "\u001b[0;32m<ipython-input-29-58e91eca0dc1>\u001b[0m in \u001b[0;36mselect_decision\u001b[0;34m(self, data)\u001b[0m\n\u001b[1;32m     55\u001b[0m                 \u001b[0mbest_data_right\u001b[0m \u001b[0;34m=\u001b[0m \u001b[0mdata_right\u001b[0m\u001b[0;34m\u001b[0m\u001b[0;34m\u001b[0m\u001b[0m\n\u001b[1;32m     56\u001b[0m \u001b[0;34m\u001b[0m\u001b[0m\n\u001b[0;32m---> 57\u001b[0;31m         \u001b[0mself\u001b[0m\u001b[0;34m.\u001b[0m\u001b[0mselect_decision\u001b[0m\u001b[0;34m(\u001b[0m\u001b[0mdata_left\u001b[0m\u001b[0;34m)\u001b[0m\u001b[0;34m\u001b[0m\u001b[0;34m\u001b[0m\u001b[0m\n\u001b[0m\u001b[1;32m     58\u001b[0m         \u001b[0mself\u001b[0m\u001b[0;34m.\u001b[0m\u001b[0mselect_decision\u001b[0m\u001b[0;34m(\u001b[0m\u001b[0mdata_right\u001b[0m\u001b[0;34m)\u001b[0m\u001b[0;34m\u001b[0m\u001b[0;34m\u001b[0m\u001b[0m\n\u001b[1;32m     59\u001b[0m \u001b[0;34m\u001b[0m\u001b[0m\n",
      "\u001b[0;32m<ipython-input-29-58e91eca0dc1>\u001b[0m in \u001b[0;36mselect_decision\u001b[0;34m(self, data)\u001b[0m\n\u001b[1;32m     55\u001b[0m                 \u001b[0mbest_data_right\u001b[0m \u001b[0;34m=\u001b[0m \u001b[0mdata_right\u001b[0m\u001b[0;34m\u001b[0m\u001b[0;34m\u001b[0m\u001b[0m\n\u001b[1;32m     56\u001b[0m \u001b[0;34m\u001b[0m\u001b[0m\n\u001b[0;32m---> 57\u001b[0;31m         \u001b[0mself\u001b[0m\u001b[0;34m.\u001b[0m\u001b[0mselect_decision\u001b[0m\u001b[0;34m(\u001b[0m\u001b[0mdata_left\u001b[0m\u001b[0;34m)\u001b[0m\u001b[0;34m\u001b[0m\u001b[0;34m\u001b[0m\u001b[0m\n\u001b[0m\u001b[1;32m     58\u001b[0m         \u001b[0mself\u001b[0m\u001b[0;34m.\u001b[0m\u001b[0mselect_decision\u001b[0m\u001b[0;34m(\u001b[0m\u001b[0mdata_right\u001b[0m\u001b[0;34m)\u001b[0m\u001b[0;34m\u001b[0m\u001b[0;34m\u001b[0m\u001b[0m\n\u001b[1;32m     59\u001b[0m \u001b[0;34m\u001b[0m\u001b[0m\n",
      "\u001b[0;32m<ipython-input-29-58e91eca0dc1>\u001b[0m in \u001b[0;36mselect_decision\u001b[0;34m(self, data)\u001b[0m\n\u001b[1;32m     45\u001b[0m \u001b[0;34m\u001b[0m\u001b[0m\n\u001b[1;32m     46\u001b[0m             \u001b[0mdata_right\u001b[0m \u001b[0;34m=\u001b[0m \u001b[0mdata\u001b[0m\u001b[0;34m[\u001b[0m\u001b[0mdata\u001b[0m\u001b[0;34m[\u001b[0m\u001b[0mfeature\u001b[0m\u001b[0;34m]\u001b[0m \u001b[0;34m>\u001b[0m \u001b[0mvalue\u001b[0m\u001b[0;34m]\u001b[0m\u001b[0;34m\u001b[0m\u001b[0;34m\u001b[0m\u001b[0m\n\u001b[0;32m---> 47\u001b[0;31m             \u001b[0mGiniRight\u001b[0m \u001b[0;34m=\u001b[0m \u001b[0mself\u001b[0m\u001b[0;34m.\u001b[0m\u001b[0mcalGini\u001b[0m\u001b[0;34m(\u001b[0m\u001b[0mdata_right\u001b[0m\u001b[0;34m.\u001b[0m\u001b[0mtarget\u001b[0m\u001b[0;34m)\u001b[0m\u001b[0;34m\u001b[0m\u001b[0;34m\u001b[0m\u001b[0m\n\u001b[0m\u001b[1;32m     48\u001b[0m \u001b[0;34m\u001b[0m\u001b[0m\n\u001b[1;32m     49\u001b[0m             \u001b[0mGiniSplit\u001b[0m \u001b[0;34m=\u001b[0m \u001b[0;34m(\u001b[0m\u001b[0mdata_left\u001b[0m\u001b[0;34m.\u001b[0m\u001b[0mshape\u001b[0m\u001b[0;34m[\u001b[0m\u001b[0;36m0\u001b[0m\u001b[0;34m]\u001b[0m\u001b[0;34m/\u001b[0m\u001b[0mdata\u001b[0m\u001b[0;34m.\u001b[0m\u001b[0mshape\u001b[0m\u001b[0;34m[\u001b[0m\u001b[0;36m0\u001b[0m\u001b[0;34m]\u001b[0m\u001b[0;34m)\u001b[0m\u001b[0;34m*\u001b[0m \u001b[0mGiniLeft\u001b[0m \u001b[0;34m+\u001b[0m \u001b[0;34m(\u001b[0m\u001b[0mdata_right\u001b[0m\u001b[0;34m.\u001b[0m\u001b[0mshape\u001b[0m\u001b[0;34m[\u001b[0m\u001b[0;36m0\u001b[0m\u001b[0;34m]\u001b[0m\u001b[0;34m/\u001b[0m\u001b[0mdata\u001b[0m\u001b[0;34m.\u001b[0m\u001b[0mshape\u001b[0m\u001b[0;34m[\u001b[0m\u001b[0;36m0\u001b[0m\u001b[0;34m]\u001b[0m\u001b[0;34m)\u001b[0m\u001b[0;34m*\u001b[0m \u001b[0mGiniRight\u001b[0m\u001b[0;34m\u001b[0m\u001b[0;34m\u001b[0m\u001b[0m\n",
      "\u001b[0;32m<ipython-input-29-58e91eca0dc1>\u001b[0m in \u001b[0;36mcalGini\u001b[0;34m(self, target)\u001b[0m\n\u001b[1;32m     26\u001b[0m     \u001b[0;32mdef\u001b[0m \u001b[0mcalGini\u001b[0m\u001b[0;34m(\u001b[0m\u001b[0mself\u001b[0m\u001b[0;34m,\u001b[0m\u001b[0mtarget\u001b[0m\u001b[0;34m)\u001b[0m\u001b[0;34m:\u001b[0m\u001b[0;34m\u001b[0m\u001b[0;34m\u001b[0m\u001b[0m\n\u001b[1;32m     27\u001b[0m         \u001b[0mtotal\u001b[0m \u001b[0;34m=\u001b[0m \u001b[0mtarget\u001b[0m\u001b[0;34m.\u001b[0m\u001b[0mvalue_counts\u001b[0m\u001b[0;34m(\u001b[0m\u001b[0;34m)\u001b[0m\u001b[0;34m.\u001b[0m\u001b[0mvalues\u001b[0m\u001b[0;34m.\u001b[0m\u001b[0msum\u001b[0m\u001b[0;34m(\u001b[0m\u001b[0;34m)\u001b[0m\u001b[0;34m\u001b[0m\u001b[0;34m\u001b[0m\u001b[0m\n\u001b[0;32m---> 28\u001b[0;31m         \u001b[0ml\u001b[0m \u001b[0;34m=\u001b[0m \u001b[0mlist\u001b[0m\u001b[0;34m(\u001b[0m\u001b[0mtarget\u001b[0m\u001b[0;34m.\u001b[0m\u001b[0mvalue_counts\u001b[0m\u001b[0;34m(\u001b[0m\u001b[0;34m)\u001b[0m\u001b[0;34m.\u001b[0m\u001b[0mvalues\u001b[0m\u001b[0;34m)\u001b[0m\u001b[0;34m\u001b[0m\u001b[0;34m\u001b[0m\u001b[0m\n\u001b[0m\u001b[1;32m     29\u001b[0m         \u001b[0mgini\u001b[0m \u001b[0;34m=\u001b[0m \u001b[0;36m0\u001b[0m\u001b[0;34m\u001b[0m\u001b[0;34m\u001b[0m\u001b[0m\n\u001b[1;32m     30\u001b[0m         \u001b[0;32mfor\u001b[0m \u001b[0me\u001b[0m \u001b[0;32min\u001b[0m \u001b[0ml\u001b[0m\u001b[0;34m:\u001b[0m\u001b[0;34m\u001b[0m\u001b[0;34m\u001b[0m\u001b[0m\n",
      "\u001b[0;32m~/anaconda3/lib/python3.7/site-packages/pandas/core/base.py\u001b[0m in \u001b[0;36mvalue_counts\u001b[0;34m(self, normalize, sort, ascending, bins, dropna)\u001b[0m\n\u001b[1;32m   1390\u001b[0m             \u001b[0mnormalize\u001b[0m\u001b[0;34m=\u001b[0m\u001b[0mnormalize\u001b[0m\u001b[0;34m,\u001b[0m\u001b[0;34m\u001b[0m\u001b[0;34m\u001b[0m\u001b[0m\n\u001b[1;32m   1391\u001b[0m             \u001b[0mbins\u001b[0m\u001b[0;34m=\u001b[0m\u001b[0mbins\u001b[0m\u001b[0;34m,\u001b[0m\u001b[0;34m\u001b[0m\u001b[0;34m\u001b[0m\u001b[0m\n\u001b[0;32m-> 1392\u001b[0;31m             \u001b[0mdropna\u001b[0m\u001b[0;34m=\u001b[0m\u001b[0mdropna\u001b[0m\u001b[0;34m,\u001b[0m\u001b[0;34m\u001b[0m\u001b[0;34m\u001b[0m\u001b[0m\n\u001b[0m\u001b[1;32m   1393\u001b[0m         )\n\u001b[1;32m   1394\u001b[0m         \u001b[0;32mreturn\u001b[0m \u001b[0mresult\u001b[0m\u001b[0;34m\u001b[0m\u001b[0;34m\u001b[0m\u001b[0m\n",
      "\u001b[0;32m~/anaconda3/lib/python3.7/site-packages/pandas/core/algorithms.py\u001b[0m in \u001b[0;36mvalue_counts\u001b[0;34m(values, sort, ascending, normalize, bins, dropna)\u001b[0m\n\u001b[1;32m    762\u001b[0m \u001b[0;34m\u001b[0m\u001b[0m\n\u001b[1;32m    763\u001b[0m     \u001b[0;32mif\u001b[0m \u001b[0msort\u001b[0m\u001b[0;34m:\u001b[0m\u001b[0;34m\u001b[0m\u001b[0;34m\u001b[0m\u001b[0m\n\u001b[0;32m--> 764\u001b[0;31m         \u001b[0mresult\u001b[0m \u001b[0;34m=\u001b[0m \u001b[0mresult\u001b[0m\u001b[0;34m.\u001b[0m\u001b[0msort_values\u001b[0m\u001b[0;34m(\u001b[0m\u001b[0mascending\u001b[0m\u001b[0;34m=\u001b[0m\u001b[0mascending\u001b[0m\u001b[0;34m)\u001b[0m\u001b[0;34m\u001b[0m\u001b[0;34m\u001b[0m\u001b[0m\n\u001b[0m\u001b[1;32m    765\u001b[0m \u001b[0;34m\u001b[0m\u001b[0m\n\u001b[1;32m    766\u001b[0m     \u001b[0;32mif\u001b[0m \u001b[0mnormalize\u001b[0m\u001b[0;34m:\u001b[0m\u001b[0;34m\u001b[0m\u001b[0;34m\u001b[0m\u001b[0m\n",
      "\u001b[0;32m~/anaconda3/lib/python3.7/site-packages/pandas/core/series.py\u001b[0m in \u001b[0;36msort_values\u001b[0;34m(self, axis, ascending, inplace, kind, na_position)\u001b[0m\n\u001b[1;32m   3176\u001b[0m         \u001b[0;32mif\u001b[0m \u001b[0mna_position\u001b[0m \u001b[0;34m==\u001b[0m \u001b[0;34m\"last\"\u001b[0m\u001b[0;34m:\u001b[0m\u001b[0;34m\u001b[0m\u001b[0;34m\u001b[0m\u001b[0m\n\u001b[1;32m   3177\u001b[0m             \u001b[0mn\u001b[0m \u001b[0;34m=\u001b[0m \u001b[0mgood\u001b[0m\u001b[0;34m.\u001b[0m\u001b[0msum\u001b[0m\u001b[0;34m(\u001b[0m\u001b[0;34m)\u001b[0m\u001b[0;34m\u001b[0m\u001b[0;34m\u001b[0m\u001b[0m\n\u001b[0;32m-> 3178\u001b[0;31m             \u001b[0msortedIdx\u001b[0m\u001b[0;34m[\u001b[0m\u001b[0;34m:\u001b[0m\u001b[0mn\u001b[0m\u001b[0;34m]\u001b[0m \u001b[0;34m=\u001b[0m \u001b[0midx\u001b[0m\u001b[0;34m[\u001b[0m\u001b[0mgood\u001b[0m\u001b[0;34m]\u001b[0m\u001b[0;34m[\u001b[0m\u001b[0margsorted\u001b[0m\u001b[0;34m]\u001b[0m\u001b[0;34m\u001b[0m\u001b[0;34m\u001b[0m\u001b[0m\n\u001b[0m\u001b[1;32m   3179\u001b[0m             \u001b[0msortedIdx\u001b[0m\u001b[0;34m[\u001b[0m\u001b[0mn\u001b[0m\u001b[0;34m:\u001b[0m\u001b[0;34m]\u001b[0m \u001b[0;34m=\u001b[0m \u001b[0midx\u001b[0m\u001b[0;34m[\u001b[0m\u001b[0mbad\u001b[0m\u001b[0;34m]\u001b[0m\u001b[0;34m\u001b[0m\u001b[0;34m\u001b[0m\u001b[0m\n\u001b[1;32m   3180\u001b[0m         \u001b[0;32melif\u001b[0m \u001b[0mna_position\u001b[0m \u001b[0;34m==\u001b[0m \u001b[0;34m\"first\"\u001b[0m\u001b[0;34m:\u001b[0m\u001b[0;34m\u001b[0m\u001b[0;34m\u001b[0m\u001b[0m\n",
      "\u001b[0;32m~/anaconda3/lib/python3.7/site-packages/pandas/core/indexes/range.py\u001b[0m in \u001b[0;36m__getitem__\u001b[0;34m(self, key)\u001b[0m\n\u001b[1;32m    684\u001b[0m             )\n\u001b[1;32m    685\u001b[0m         \u001b[0;31m# fall back to Int64Index\u001b[0m\u001b[0;34m\u001b[0m\u001b[0;34m\u001b[0m\u001b[0;34m\u001b[0m\u001b[0m\n\u001b[0;32m--> 686\u001b[0;31m         \u001b[0;32mreturn\u001b[0m \u001b[0msuper\u001b[0m\u001b[0;34m(\u001b[0m\u001b[0;34m)\u001b[0m\u001b[0;34m.\u001b[0m\u001b[0m__getitem__\u001b[0m\u001b[0;34m(\u001b[0m\u001b[0mkey\u001b[0m\u001b[0;34m)\u001b[0m\u001b[0;34m\u001b[0m\u001b[0;34m\u001b[0m\u001b[0m\n\u001b[0m\u001b[1;32m    687\u001b[0m \u001b[0;34m\u001b[0m\u001b[0m\n\u001b[1;32m    688\u001b[0m     \u001b[0;32mdef\u001b[0m \u001b[0m__floordiv__\u001b[0m\u001b[0;34m(\u001b[0m\u001b[0mself\u001b[0m\u001b[0;34m,\u001b[0m \u001b[0mother\u001b[0m\u001b[0;34m)\u001b[0m\u001b[0;34m:\u001b[0m\u001b[0;34m\u001b[0m\u001b[0;34m\u001b[0m\u001b[0m\n",
      "\u001b[0;32m~/anaconda3/lib/python3.7/site-packages/pandas/core/indexes/base.py\u001b[0m in \u001b[0;36m__getitem__\u001b[0;34m(self, key)\u001b[0m\n\u001b[1;32m   4266\u001b[0m         \u001b[0;31m# There's no custom logic to be implemented in __getslice__, so it's\u001b[0m\u001b[0;34m\u001b[0m\u001b[0;34m\u001b[0m\u001b[0;34m\u001b[0m\u001b[0m\n\u001b[1;32m   4267\u001b[0m         \u001b[0;31m# not overloaded intentionally.\u001b[0m\u001b[0;34m\u001b[0m\u001b[0;34m\u001b[0m\u001b[0;34m\u001b[0m\u001b[0m\n\u001b[0;32m-> 4268\u001b[0;31m         \u001b[0mgetitem\u001b[0m \u001b[0;34m=\u001b[0m \u001b[0mself\u001b[0m\u001b[0;34m.\u001b[0m\u001b[0m_data\u001b[0m\u001b[0;34m.\u001b[0m\u001b[0m__getitem__\u001b[0m\u001b[0;34m\u001b[0m\u001b[0;34m\u001b[0m\u001b[0m\n\u001b[0m\u001b[1;32m   4269\u001b[0m         \u001b[0mpromote\u001b[0m \u001b[0;34m=\u001b[0m \u001b[0mself\u001b[0m\u001b[0;34m.\u001b[0m\u001b[0m_shallow_copy\u001b[0m\u001b[0;34m\u001b[0m\u001b[0;34m\u001b[0m\u001b[0m\n\u001b[1;32m   4270\u001b[0m \u001b[0;34m\u001b[0m\u001b[0m\n",
      "\u001b[0;31mKeyboardInterrupt\u001b[0m: "
     ]
    }
   ],
   "source": [
    "dt.myfit(data.drop(columns=['play']), data.play)"
   ]
  },
  {
   "cell_type": "markdown",
   "metadata": {},
   "source": [
    "* Getting decisions"
   ]
  },
  {
   "cell_type": "code",
   "execution_count": 14,
   "metadata": {},
   "outputs": [],
   "source": [
    "decisions = list(dt.feature_ranges.items())"
   ]
  },
  {
   "cell_type": "code",
   "execution_count": 16,
   "metadata": {},
   "outputs": [
    {
     "name": "stdout",
     "output_type": "stream",
     "text": [
      "outlook 0.5\n",
      "outlook 1.5\n",
      "temp 0.5\n",
      "temp 1.5\n",
      "humidity 0.5\n",
      "windy 0.5\n"
     ]
    }
   ],
   "source": [
    "for f,buckets in decisions:\n",
    "    for bucket in buckets:\n",
    "        print (f,bucket)"
   ]
  },
  {
   "cell_type": "code",
   "execution_count": 73,
   "metadata": {},
   "outputs": [
    {
     "data": {
      "text/plain": [
       "(14, 5)"
      ]
     },
     "execution_count": 73,
     "metadata": {},
     "output_type": "execute_result"
    }
   ],
   "source": [
    "data.shape"
   ]
  },
  {
   "cell_type": "code",
   "execution_count": 108,
   "metadata": {},
   "outputs": [
    {
     "name": "stdout",
     "output_type": "stream",
     "text": [
      "Help on built-in function sorted in module builtins:\n",
      "\n",
      "sorted(iterable, /, *, key=None, reverse=False)\n",
      "    Return a new list containing all items from the iterable in ascending order.\n",
      "    \n",
      "    A custom key function can be supplied to customize the sort order, and the\n",
      "    reverse flag can be set to request the result in descending order.\n",
      "\n"
     ]
    }
   ],
   "source": [
    "help(sorted)"
   ]
  },
  {
   "cell_type": "code",
   "execution_count": null,
   "metadata": {},
   "outputs": [],
   "source": []
  }
 ],
 "metadata": {
  "kernelspec": {
   "display_name": "Python 3",
   "language": "python",
   "name": "python3"
  },
  "language_info": {
   "codemirror_mode": {
    "name": "ipython",
    "version": 3
   },
   "file_extension": ".py",
   "mimetype": "text/x-python",
   "name": "python",
   "nbconvert_exporter": "python",
   "pygments_lexer": "ipython3",
   "version": "3.7.3"
  }
 },
 "nbformat": 4,
 "nbformat_minor": 2
}
