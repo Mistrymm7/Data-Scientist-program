{
 "cells": [
  {
   "cell_type": "markdown",
   "metadata": {},
   "source": [
    "### Objectives\n",
    "* Understanding Gradient Descent\n",
    "* Calculating Graddient Descent\n",
    "* Implement Gradient Descent\n",
    "\n",
    "<hr>"
   ]
  },
  {
   "cell_type": "markdown",
   "metadata": {},
   "source": [
    "* What is Gradient Descent?\n",
    "* A. It's an algorithm to find out the (m,b) such that the cost is least."
   ]
  },
  {
   "cell_type": "markdown",
   "metadata": {},
   "source": [
    "<img src=\"https://github.com/edyoda/Data-Scientist-program/blob/master/Assignment/images/gd.png?raw=true\">"
   ]
  },
  {
   "cell_type": "markdown",
   "metadata": {},
   "source": [
    "* We have to find out how Loss changes with respect to weights(m & c)"
   ]
  },
  {
   "cell_type": "markdown",
   "metadata": {},
   "source": [
    "### Now, we will find out how will Loss change w.r.t. m "
   ]
  },
  {
   "cell_type": "markdown",
   "metadata": {},
   "source": [
    "$d/dm (1/N /Sigma (y - (m*x + b)^2$"
   ]
  },
  {
   "cell_type": "markdown",
   "metadata": {},
   "source": [
    "$d/dm (y - (m*x +b))^2$"
   ]
  },
  {
   "cell_type": "markdown",
   "metadata": {},
   "source": [
    "$d/dm(y^2 -2*y*(m*x + b) + (m*x + b)^2)$\n",
    "$d/dm(y^2 -2*y*m*x -2*y*b + m^2*x^2 + 2*m*x*b + b^2)$\n",
    "$d/dm(-2*y*m*x + m^2*x^2 + 2*m*x*b)$\n",
    "$-2*y*x + 2*m*x^2 + 2*x*b$\n",
    "$-2*x(y -( m*x + b))$"
   ]
  },
  {
   "cell_type": "markdown",
   "metadata": {},
   "source": [
    "* Identify the change in the weights such that the loss is reduced\n",
    "* Using above methods, we calculate the new weights"
   ]
  },
  {
   "cell_type": "code",
   "execution_count": 6,
   "metadata": {},
   "outputs": [],
   "source": [
    "from sklearn.datasets import make_regression"
   ]
  },
  {
   "cell_type": "code",
   "execution_count": 13,
   "metadata": {},
   "outputs": [],
   "source": [
    "X,y = make_regression(n_features=1, n_samples=100, noise=3)"
   ]
  },
  {
   "cell_type": "code",
   "execution_count": 23,
   "metadata": {},
   "outputs": [
    {
     "data": {
      "text/plain": [
       "array([[ 0.64069904],\n",
       "       [ 0.6116942 ],\n",
       "       [-0.22516988],\n",
       "       [ 0.34397204],\n",
       "       [ 0.10785802],\n",
       "       [ 0.89646892],\n",
       "       [-0.35562061],\n",
       "       [ 0.06419748],\n",
       "       [ 1.08842077],\n",
       "       [ 2.17896293],\n",
       "       [ 0.9729811 ],\n",
       "       [-0.04722404],\n",
       "       [-0.42167014],\n",
       "       [-1.76517299],\n",
       "       [-0.15601255],\n",
       "       [ 1.97155929],\n",
       "       [ 0.52638346],\n",
       "       [ 1.09463292],\n",
       "       [ 0.71860711],\n",
       "       [ 1.41386384],\n",
       "       [-0.16311126],\n",
       "       [-1.04122307],\n",
       "       [-0.43391216],\n",
       "       [-0.9383245 ],\n",
       "       [-0.29636237],\n",
       "       [-0.08803517],\n",
       "       [ 0.79615769],\n",
       "       [-0.32195857],\n",
       "       [ 1.26601691],\n",
       "       [-0.59651375],\n",
       "       [ 1.63600106],\n",
       "       [ 1.58705954],\n",
       "       [-1.12820786],\n",
       "       [-0.69230448],\n",
       "       [-0.90121026],\n",
       "       [ 1.44920122],\n",
       "       [-0.57433006],\n",
       "       [ 1.26394914],\n",
       "       [-0.90853233],\n",
       "       [ 0.36483342],\n",
       "       [-1.16048163],\n",
       "       [-0.36662809],\n",
       "       [ 0.658282  ],\n",
       "       [ 0.19300237],\n",
       "       [-0.45099791],\n",
       "       [ 0.85657915],\n",
       "       [-0.78943332],\n",
       "       [-1.824649  ],\n",
       "       [ 0.27457694],\n",
       "       [-0.9611146 ],\n",
       "       [-0.49292281],\n",
       "       [-0.37406731],\n",
       "       [-0.83724468],\n",
       "       [ 0.56301029],\n",
       "       [-2.27742851],\n",
       "       [ 0.91163431],\n",
       "       [-1.37193161],\n",
       "       [-0.92689677],\n",
       "       [ 1.65619356],\n",
       "       [-0.12067549],\n",
       "       [ 0.61529941],\n",
       "       [ 1.16165776],\n",
       "       [ 0.17638733],\n",
       "       [ 1.60618178],\n",
       "       [ 1.56535999],\n",
       "       [ 3.27161098],\n",
       "       [-1.2262013 ],\n",
       "       [ 0.28973644],\n",
       "       [ 1.27800765],\n",
       "       [ 0.05962631],\n",
       "       [ 1.54190696],\n",
       "       [ 0.77829669],\n",
       "       [-0.77395412],\n",
       "       [-0.56472502],\n",
       "       [-0.09966072],\n",
       "       [-1.5610002 ],\n",
       "       [-1.0446715 ],\n",
       "       [-0.65397034],\n",
       "       [-0.81849752],\n",
       "       [-0.30405922],\n",
       "       [-0.86513172],\n",
       "       [-0.21739961],\n",
       "       [-1.57532311],\n",
       "       [-0.20071732],\n",
       "       [-0.07954432],\n",
       "       [ 1.55024096],\n",
       "       [-0.506229  ],\n",
       "       [-1.74505027],\n",
       "       [ 0.95007572],\n",
       "       [ 0.4245533 ],\n",
       "       [-0.73726963],\n",
       "       [ 0.26736681],\n",
       "       [ 2.90696745],\n",
       "       [ 0.02755795],\n",
       "       [-0.74901557],\n",
       "       [-0.37666709],\n",
       "       [-1.04262248],\n",
       "       [-0.25203771],\n",
       "       [-0.81759979],\n",
       "       [-0.27507311]])"
      ]
     },
     "execution_count": 23,
     "metadata": {},
     "output_type": "execute_result"
    }
   ],
   "source": [
    "X"
   ]
  },
  {
   "cell_type": "code",
   "execution_count": 24,
   "metadata": {},
   "outputs": [
    {
     "data": {
      "text/plain": [
       "array([ 24.06034852,  18.63166731,  -9.55180866,   7.56355267,\n",
       "         2.953625  ,  26.78465806, -16.31499569,  -0.82760752,\n",
       "        34.74027326,  65.27729388,  26.03887892,   1.6169611 ,\n",
       "       -14.797813  , -53.17160609,  -2.08350704,  63.7341929 ,\n",
       "        12.92487155,  34.85520049,  18.67367004,  40.19340762,\n",
       "        -2.56015474, -38.68552714, -15.4333692 , -26.03560878,\n",
       "        -6.78381721,   1.44434148,  27.61173654, -12.34690388,\n",
       "        38.11761697, -21.08532927,  49.05603035,  48.55136358,\n",
       "       -36.30326148, -19.93167551, -29.01474509,  48.89512352,\n",
       "       -15.120379  ,  32.29855762, -23.72808215,  12.39473827,\n",
       "       -36.69012813,  -7.5541718 ,  12.08364312,   7.79895169,\n",
       "       -15.10724735,  28.18231601, -23.80761616, -58.65000265,\n",
       "         6.66004035, -33.68830091, -16.82568788,  -8.66660069,\n",
       "       -29.50691   ,  17.09674291, -64.59629535,  31.4481757 ,\n",
       "       -42.24975801, -29.10217996,  48.40844591,  -2.5383446 ,\n",
       "        25.22506345,  33.64498632,   5.4088996 ,  46.47895347,\n",
       "        52.17222904, 102.51012271, -37.33283023,  14.49739423,\n",
       "        42.41281332,  -0.24958815,  45.83517675,  26.90952063,\n",
       "       -21.48090402, -13.76461784,  -2.77331929, -45.27638799,\n",
       "       -31.0778265 , -21.45790948, -25.55729725, -10.05382846,\n",
       "       -25.01950545,  -2.71722475, -47.8904965 ,  -5.57902102,\n",
       "         0.13660931,  49.36104552, -18.69007738, -54.43152575,\n",
       "        27.5341613 ,  14.59788198, -23.93028473,   9.51303725,\n",
       "        94.41538248,  -1.47198411, -23.22211078, -16.68213749,\n",
       "       -31.2192396 ,  -8.3290865 , -29.59241802, -13.03383069])"
      ]
     },
     "execution_count": 24,
     "metadata": {},
     "output_type": "execute_result"
    }
   ],
   "source": [
    "y"
   ]
  },
  {
   "cell_type": "code",
   "execution_count": 14,
   "metadata": {},
   "outputs": [],
   "source": [
    "import matplotlib.pyplot as plt\n",
    "%matplotlib inline"
   ]
  },
  {
   "cell_type": "code",
   "execution_count": 25,
   "metadata": {},
   "outputs": [
    {
     "data": {
      "text/plain": [
       "Text(0, 0.5, 'y')"
      ]
     },
     "execution_count": 25,
     "metadata": {},
     "output_type": "execute_result"
    },
    {
     "data": {
      "image/png": "[encoded data removed]",
      "text/plain": [
       "<Figure size 432x288 with 1 Axes>"
      ]
     },
     "metadata": {
      "needs_background": "light"
     },
     "output_type": "display_data"
    }
   ],
   "source": [
    "plt.scatter(X,y,s=10)\n",
    "plt.xlabel('X')\n",
    "plt.ylabel('y')"
   ]
  },
  {
   "cell_type": "code",
   "execution_count": 32,
   "metadata": {},
   "outputs": [
    {
     "data": {
      "text/plain": [
       "(100, 1)"
      ]
     },
     "execution_count": 32,
     "metadata": {},
     "output_type": "execute_result"
    }
   ],
   "source": [
    "X.shape"
   ]
  },
  {
   "cell_type": "code",
   "execution_count": 35,
   "metadata": {},
   "outputs": [],
   "source": [
    "import numpy as np"
   ]
  },
  {
   "cell_type": "code",
   "execution_count": 38,
   "metadata": {},
   "outputs": [],
   "source": [
    "\n",
    "def calc_grad_descent(m,b,X,y,learning_rate=0.01):\n",
    "    N = len(X)\n",
    "    y_pred = m*X+b\n",
    "    SE = np.square(y.reshape(-1,1) - y_pred)\n",
    "    SSE = np.sum(SE)\n",
    "    MSE = 1/N*SSE\n",
    "    print (MSE)\n",
    "    \n",
    "    delat_m = ??\n",
    "    delta_b = ??\n",
    "    \n",
    "    new_m = m - delta_m\n",
    "    new_b = b - delta_b\n",
    "    \n",
    "    m = new_m\n",
    "    b = new_b\n",
    "    \n",
    "    y_pred = m*X+b\n",
    "    SE = np.square(y.reshape(-1,1) - y_pred)\n",
    "    SSE = np.sum(SE)\n",
    "    MSE = 1/N*SSE\n",
    "    print (MSE)\n",
    "    \n",
    "    \n",
    "    "
   ]
  },
  {
   "cell_type": "code",
   "execution_count": 39,
   "metadata": {},
   "outputs": [
    {
     "name": "stdout",
     "output_type": "stream",
     "text": [
      "487.8850741340712\n"
     ]
    }
   ],
   "source": [
    "calc_grad_descent(10,2,X,y)"
   ]
  },
  {
   "cell_type": "markdown",
   "metadata": {},
   "source": [
    "<img src=\"<img src=\"https://github.com/edyoda/Data-Scientist-program/blob/master/Assignment/images/gd.png?raw=true\">\">"
   ]
  },
  {
   "cell_type": "code",
   "execution_count": 47,
   "metadata": {},
   "outputs": [],
   "source": [
    "X = list(X[:,0])"
   ]
  },
  {
   "cell_type": "code",
   "execution_count": 48,
   "metadata": {},
   "outputs": [],
   "source": [
    "y = list(y)"
   ]
  },
  {
   "cell_type": "code",
   "execution_count": 54,
   "metadata": {},
   "outputs": [],
   "source": [
    "def update_params(m,b,X,y,learning_rate=0.01):\n",
    "    delta_m = 0\n",
    "    delta_b = 0\n",
    "    N = len(X)\n",
    "    for i in range(N):\n",
    "        delta_m += -2*X[i]*(y[i]- (m*X[i]+b))\n",
    "        delta_b += -2*(y[i]- (m*X[i]+b))\n",
    "        \n",
    "    m -= (1/N)* learning_rate * (delta_m)\n",
    "    b -= (1/N)* learning_rate * (delta_b)\n",
    "    return (m,b)\n",
    "    "
   ]
  },
  {
   "cell_type": "code",
   "execution_count": 55,
   "metadata": {},
   "outputs": [
    {
     "data": {
      "text/plain": [
       "(10.453357888721479, 4.920867675656504)"
      ]
     },
     "execution_count": 55,
     "metadata": {},
     "output_type": "execute_result"
    }
   ],
   "source": [
    "update_params(10,5,X,y)"
   ]
  },
  {
   "cell_type": "code",
   "execution_count": 56,
   "metadata": {},
   "outputs": [
    {
     "data": {
      "text/plain": [
       "(10.893577581292202, 4.84201030971869)"
      ]
     },
     "execution_count": 56,
     "metadata": {},
     "output_type": "execute_result"
    }
   ],
   "source": [
    "update_params(10.45,4.92,X,y)"
   ]
  },
  {
   "cell_type": "code",
   "execution_count": 64,
   "metadata": {},
   "outputs": [
    {
     "data": {
      "text/plain": [
       "[0.6406990398230789, 0.6116941999049471]"
      ]
     },
     "execution_count": 64,
     "metadata": {},
     "output_type": "execute_result"
    }
   ],
   "source": [
    "X[:2]"
   ]
  },
  {
   "cell_type": "code",
   "execution_count": 83,
   "metadata": {},
   "outputs": [],
   "source": [
    "def calc_grad_desc(m,b,X,y):\n",
    "    N = len(X)\n",
    "    for i in range(20):\n",
    "        SE = np.square(np.array(y) - (m*np.array(X) + b))\n",
    "        SSE = np.sum(SE)\n",
    "        MSE = (1/N)*SSE\n",
    "        print (np.round(MSE,2),np.round(m,2),np.round(b,2))\n",
    "        m,b = update_params(m,b,X,y)\n",
    "        "
   ]
  },
  {
   "cell_type": "code",
   "execution_count": 84,
   "metadata": {},
   "outputs": [
    {
     "name": "stdout",
     "output_type": "stream",
     "text": [
      "502.62 10 5\n",
      "481.67 10.45 4.92\n",
      "461.61 10.9 4.84\n",
      "442.41 11.33 4.77\n",
      "424.02 11.76 4.69\n",
      "406.41 12.17 4.62\n",
      "389.55 12.58 4.54\n",
      "373.41 12.97 4.47\n",
      "357.96 13.36 4.4\n",
      "343.16 13.74 4.33\n",
      "328.99 14.11 4.26\n",
      "315.42 14.48 4.19\n",
      "302.43 14.83 4.12\n",
      "290.0 15.18 4.06\n",
      "278.09 15.52 3.99\n",
      "266.68 15.86 3.93\n",
      "255.76 16.18 3.86\n",
      "245.31 16.5 3.8\n",
      "235.3 16.81 3.74\n",
      "225.71 17.12 3.68\n"
     ]
    }
   ],
   "source": [
    "calc_grad_desc(10,5,X,y)"
   ]
  },
  {
   "cell_type": "code",
   "execution_count": null,
   "metadata": {},
   "outputs": [],
   "source": []
  }
 ],
 "metadata": {
  "kernelspec": {
   "display_name": "Python 3",
   "language": "python",
   "name": "python3"
  },
  "language_info": {
   "codemirror_mode": {
    "name": "ipython",
    "version": 3
   },
   "file_extension": ".py",
   "mimetype": "text/x-python",
   "name": "python",
   "nbconvert_exporter": "python",
   "pygments_lexer": "ipython3",
   "version": "3.7.3"
  }
 },
 "nbformat": 4,
 "nbformat_minor": 2
}
